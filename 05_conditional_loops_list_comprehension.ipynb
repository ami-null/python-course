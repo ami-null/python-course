{
  "nbformat": 4,
  "nbformat_minor": 0,
  "metadata": {
    "colab": {
      "provenance": []
    },
    "kernelspec": {
      "name": "python3",
      "display_name": "Python 3"
    },
    "language_info": {
      "name": "python"
    }
  },
  "cells": [
    {
      "cell_type": "markdown",
      "source": [
        "# Conditional Execution and Loops"
      ],
      "metadata": {
        "id": "p_IzlTu7YNBZ"
      }
    },
    {
      "cell_type": "markdown",
      "source": [
        "## Conditional execution (`if`, `elif`, `else` statement)"
      ],
      "metadata": {
        "id": "DDBhMDsiYT00"
      }
    },
    {
      "cell_type": "code",
      "source": [
        "val1 = 10\n",
        "\n",
        "if val1 > 15:\n",
        "    print(\"above 15\")\n",
        "else:\n",
        "    print(\"not above 15\")"
      ],
      "metadata": {
        "colab": {
          "base_uri": "https://localhost:8080/"
        },
        "id": "bmA8FotSYkb4",
        "outputId": "b7be6c4c-5b80-4311-c280-2cd32764df51"
      },
      "execution_count": null,
      "outputs": [
        {
          "output_type": "stream",
          "name": "stdout",
          "text": [
            "not above 15\n"
          ]
        }
      ]
    },
    {
      "cell_type": "code",
      "source": [
        "val2 = 5\n",
        "if val2 > 6:\n",
        "    print(\"above siz\")\n",
        "elif val2 < 2:\n",
        "    print(\"below two\")\n",
        "else:\n",
        "    print(\"neither\")"
      ],
      "metadata": {
        "colab": {
          "base_uri": "https://localhost:8080/"
        },
        "id": "gF3NZ9hcYr-Y",
        "outputId": "e84d53ed-bc22-48d7-a2d8-aea6804158a1"
      },
      "execution_count": null,
      "outputs": [
        {
          "output_type": "stream",
          "name": "stdout",
          "text": [
            "neither\n"
          ]
        }
      ]
    },
    {
      "cell_type": "markdown",
      "source": [
        "## Loops\n",
        "\n",
        "Two kind of loops in python:\n",
        "- `while` loop\n",
        "- `for` loop"
      ],
      "metadata": {
        "id": "Sw0MT0oRaZCD"
      }
    },
    {
      "cell_type": "markdown",
      "source": [
        "### `while` loop\n",
        "\n",
        "In `while` loop, the commands inside the body of the loop are executed repeatedly as long as the condition of the loop holds true."
      ],
      "metadata": {
        "id": "OogHFQ6-ayMC"
      }
    },
    {
      "cell_type": "code",
      "source": [
        "i = 1\n",
        "while i <= 10:\n",
        "    print(i*i)\n",
        "    i += 1"
      ],
      "metadata": {
        "colab": {
          "base_uri": "https://localhost:8080/"
        },
        "id": "OT-3HnqgaYbG",
        "outputId": "6ffcaf8d-354c-4466-d9b3-6fe4218ce5d4"
      },
      "execution_count": null,
      "outputs": [
        {
          "output_type": "stream",
          "name": "stdout",
          "text": [
            "1\n",
            "4\n",
            "9\n",
            "16\n",
            "25\n",
            "36\n",
            "49\n",
            "64\n",
            "81\n",
            "100\n"
          ]
        }
      ]
    },
    {
      "cell_type": "markdown",
      "source": [
        "### `continue` statements\n",
        "\n",
        "`continue` can be used to skip parts of the body of the loop based on certain condition and move on to the next iteration of the loop."
      ],
      "metadata": {
        "id": "72pFoyeUba9t"
      }
    },
    {
      "cell_type": "code",
      "source": [
        "i = 0\n",
        "while i <= 10:\n",
        "    i += 1\n",
        "    if i==5:\n",
        "        continue\n",
        "    print(i*i)"
      ],
      "metadata": {
        "colab": {
          "base_uri": "https://localhost:8080/"
        },
        "id": "PC-P4DCIaHUH",
        "outputId": "b5fb43de-8284-4a86-f678-f8e89d8a8780"
      },
      "execution_count": null,
      "outputs": [
        {
          "output_type": "stream",
          "name": "stdout",
          "text": [
            "1\n",
            "4\n",
            "9\n",
            "16\n",
            "36\n",
            "49\n",
            "64\n",
            "81\n",
            "100\n",
            "121\n"
          ]
        }
      ]
    },
    {
      "cell_type": "markdown",
      "source": [
        "### `break` statement\n",
        "\n",
        "It can be used to exit out of a loop based on some condition"
      ],
      "metadata": {
        "id": "ikp0T0XNclk5"
      }
    },
    {
      "cell_type": "code",
      "source": [
        "i = 1\n",
        "while i <= 10:\n",
        "    if i==5:\n",
        "        break\n",
        "    print(i*i)\n",
        "    i += 1"
      ],
      "metadata": {
        "colab": {
          "base_uri": "https://localhost:8080/"
        },
        "id": "l1Dad1auckNX",
        "outputId": "ab5f601d-5347-43df-b605-d8d7f731c654"
      },
      "execution_count": null,
      "outputs": [
        {
          "output_type": "stream",
          "name": "stdout",
          "text": [
            "1\n",
            "4\n",
            "9\n",
            "16\n"
          ]
        }
      ]
    },
    {
      "cell_type": "markdown",
      "source": [
        "### `for` loop\n",
        "\n",
        "It is used to execute a block of code repeatedly for each item/element in a data structure (list, tuple, set, dictionary etc.)"
      ],
      "metadata": {
        "id": "gL8cP_cYc95I"
      }
    },
    {
      "cell_type": "code",
      "source": [
        "# example using a list:\n",
        "lst1 = [1, 2, 3.5, 4]    # lists are defined using square brackets, can combine data types\n",
        "for abc in lst1:\n",
        "    print(abc**2)"
      ],
      "metadata": {
        "colab": {
          "base_uri": "https://localhost:8080/"
        },
        "id": "G6E77LKccMsd",
        "outputId": "d305f67a-674c-4497-e57c-a6e80dbbfb1e"
      },
      "execution_count": null,
      "outputs": [
        {
          "output_type": "stream",
          "name": "stdout",
          "text": [
            "1\n",
            "4\n",
            "12.25\n",
            "16\n"
          ]
        }
      ]
    },
    {
      "cell_type": "code",
      "source": [
        "# example using a dictionary (dict)\n",
        "dct1 = {\n",
        "    \"a\" : 1,\n",
        "    \"b\" : 2,\n",
        "    \"c\" : 3.5,\n",
        "    \"d\" : 4\n",
        "}"
      ],
      "metadata": {
        "id": "ehulCcKhefmU"
      },
      "execution_count": null,
      "outputs": []
    },
    {
      "cell_type": "code",
      "source": [
        "for key in dct1:\n",
        "    print(\"the square of element\", key, \"is\", dct1[key]**2)"
      ],
      "metadata": {
        "colab": {
          "base_uri": "https://localhost:8080/"
        },
        "id": "JloPTooDfDsy",
        "outputId": "0b55d4b1-91e4-45be-dfba-cc577d998ae8"
      },
      "execution_count": null,
      "outputs": [
        {
          "output_type": "stream",
          "name": "stdout",
          "text": [
            "the square of element a is 1\n",
            "the square of element b is 4\n",
            "the square of element c is 12.25\n",
            "the square of element d is 16\n"
          ]
        }
      ]
    },
    {
      "cell_type": "markdown",
      "source": [
        "### List comprehension\n",
        "\n",
        "A way of creating new lists based on old lists by usually by applying some form of function or by performing some computation/calculation on each element of a list"
      ],
      "metadata": {
        "id": "4YPdmIwGdT7A"
      }
    },
    {
      "cell_type": "code",
      "source": [
        "lst2 = [x**2 for x in lst1]\n",
        "lst2"
      ],
      "metadata": {
        "colab": {
          "base_uri": "https://localhost:8080/"
        },
        "id": "X5r_OB--dVaa",
        "outputId": "15e446bc-925d-42df-aeaf-83296ca5aa4d"
      },
      "execution_count": null,
      "outputs": [
        {
          "output_type": "execute_result",
          "data": {
            "text/plain": [
              "[1, 4, 12.25, 16]"
            ]
          },
          "metadata": {},
          "execution_count": 9
        }
      ]
    }
  ]
}