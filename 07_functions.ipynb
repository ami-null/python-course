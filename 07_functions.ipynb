{
 "cells": [
  {
   "cell_type": "markdown",
   "metadata": {
    "id": "nlIHCQWi4qRr"
   },
   "source": [
    "# Functions, Lambda, Decorators, Generators, Type Hints"
   ]
  },
  {
   "cell_type": "markdown",
   "metadata": {
    "id": "qPFPoSON4vvL"
   },
   "source": [
    "## Functions"
   ]
  },
  {
   "cell_type": "markdown",
   "metadata": {
    "id": "wKBdw1Pt42vl"
   },
   "source": [
    "### Calling a built-in function"
   ]
  },
  {
   "cell_type": "code",
   "execution_count": 1,
   "metadata": {
    "colab": {
     "base_uri": "https://localhost:8080/"
    },
    "executionInfo": {
     "elapsed": 27,
     "status": "ok",
     "timestamp": 1761151674872,
     "user": {
      "displayName": "Md Aminul Islam Shazid",
      "userId": "13977485771689255710"
     },
     "user_tz": -360
    },
    "id": "jNbtav_2YK-m",
    "outputId": "f638728a-bba4-4118-f364-a0fc04cf0f75"
   },
   "outputs": [
    {
     "name": "stdout",
     "output_type": "stream",
     "text": [
      "hello\n"
     ]
    }
   ],
   "source": [
    "print(\"hello\")"
   ]
  },
  {
   "cell_type": "markdown",
   "metadata": {
    "id": "f8zCjYjK456P"
   },
   "source": [
    "### Calling a function with multiple arguments"
   ]
  },
  {
   "cell_type": "code",
   "execution_count": 2,
   "metadata": {
    "colab": {
     "base_uri": "https://localhost:8080/"
    },
    "executionInfo": {
     "elapsed": 83,
     "status": "ok",
     "timestamp": 1761151674960,
     "user": {
      "displayName": "Md Aminul Islam Shazid",
      "userId": "13977485771689255710"
     },
     "user_tz": -360
    },
    "id": "EGuR-1SWYwSZ",
    "outputId": "f2a143b3-f462-45f5-df37-61b93c485926"
   },
   "outputs": [
    {
     "name": "stdout",
     "output_type": "stream",
     "text": [
      "hellow abcd\n"
     ]
    }
   ],
   "source": [
    "name = \"abcd\"\n",
    "print(\"hellow\", name)"
   ]
  },
  {
   "cell_type": "code",
   "execution_count": 3,
   "metadata": {
    "id": "QEJhRNU3YyI4"
   },
   "outputs": [],
   "source": [
    "ls1 = [1, 2, 3]"
   ]
  },
  {
   "cell_type": "markdown",
   "metadata": {
    "id": "YN0TSyjP5Fny"
   },
   "source": [
    "### Calling a function with named arguments"
   ]
  },
  {
   "cell_type": "code",
   "execution_count": 4,
   "metadata": {
    "colab": {
     "base_uri": "https://localhost:8080/"
    },
    "executionInfo": {
     "elapsed": 8,
     "status": "ok",
     "timestamp": 1761151674974,
     "user": {
      "displayName": "Md Aminul Islam Shazid",
      "userId": "13977485771689255710"
     },
     "user_tz": -360
    },
    "id": "JLDnLbzlY6PQ",
    "outputId": "ba37bf1b-6040-46ca-acbb-501c23a69ccc"
   },
   "outputs": [
    {
     "name": "stdout",
     "output_type": "stream",
     "text": [
      "1 4 9 "
     ]
    }
   ],
   "source": [
    "for x in ls1:\n",
    "    print(x**2, end=\" \")"
   ]
  },
  {
   "cell_type": "code",
   "execution_count": 5,
   "metadata": {
    "colab": {
     "base_uri": "https://localhost:8080/"
    },
    "executionInfo": {
     "elapsed": 7,
     "status": "ok",
     "timestamp": 1761151674983,
     "user": {
      "displayName": "Md Aminul Islam Shazid",
      "userId": "13977485771689255710"
     },
     "user_tz": -360
    },
    "id": "VhEGhCYXR3l6",
    "outputId": "98e9dfe3-c4ec-4aa2-e22a-ab137c66bd43"
   },
   "outputs": [
    {
     "name": "stdout",
     "output_type": "stream",
     "text": [
      "1\n",
      "4\n",
      "9\n"
     ]
    }
   ],
   "source": [
    "for x in ls1:\n",
    "    print(x**2)"
   ]
  },
  {
   "cell_type": "markdown",
   "metadata": {
    "id": "SeURQ_YF5QSc"
   },
   "source": [
    "### Defining a function\n",
    "\n",
    "Functions are defined with the def keyword followed by the function name and its arguments in parentheses. Note that, as always, codes inside the function block need to be indented."
   ]
  },
  {
   "cell_type": "code",
   "execution_count": 6,
   "metadata": {
    "id": "SIpBsBgh6KhK"
   },
   "outputs": [],
   "source": [
    "def add_two_things(a, b):\n",
    "    return a+b"
   ]
  },
  {
   "cell_type": "code",
   "execution_count": 7,
   "metadata": {
    "colab": {
     "base_uri": "https://localhost:8080/"
    },
    "executionInfo": {
     "elapsed": 11,
     "status": "ok",
     "timestamp": 1761151675002,
     "user": {
      "displayName": "Md Aminul Islam Shazid",
      "userId": "13977485771689255710"
     },
     "user_tz": -360
    },
    "id": "dgZuLqaN6Sdx",
    "outputId": "e39c5518-7555-40c8-e89e-d080d32a1217"
   },
   "outputs": [
    {
     "data": {
      "text/plain": [
       "11"
      ]
     },
     "execution_count": 7,
     "metadata": {},
     "output_type": "execute_result"
    }
   ],
   "source": [
    "add_two_things(5, 6)"
   ]
  },
  {
   "cell_type": "code",
   "execution_count": 8,
   "metadata": {
    "colab": {
     "base_uri": "https://localhost:8080/"
    },
    "executionInfo": {
     "elapsed": 31,
     "status": "ok",
     "timestamp": 1761151675034,
     "user": {
      "displayName": "Md Aminul Islam Shazid",
      "userId": "13977485771689255710"
     },
     "user_tz": -360
    },
    "id": "gB5wbmpcTNLx",
    "outputId": "9f4b2175-4ae7-447d-8a08-83392702b204"
   },
   "outputs": [
    {
     "data": {
      "text/plain": [
       "11"
      ]
     },
     "execution_count": 8,
     "metadata": {},
     "output_type": "execute_result"
    }
   ],
   "source": [
    "result = add_two_things(5, 6)\n",
    "result"
   ]
  },
  {
   "cell_type": "code",
   "execution_count": 9,
   "metadata": {
    "colab": {
     "base_uri": "https://localhost:8080/"
    },
    "executionInfo": {
     "elapsed": 42,
     "status": "ok",
     "timestamp": 1761151675081,
     "user": {
      "displayName": "Md Aminul Islam Shazid",
      "userId": "13977485771689255710"
     },
     "user_tz": -360
    },
    "id": "kfdhqB_cTShX",
    "outputId": "03225d62-45ba-4bfd-dede-873e9073a765"
   },
   "outputs": [
    {
     "name": "stdout",
     "output_type": "stream",
     "text": [
      "11\n"
     ]
    }
   ],
   "source": [
    "print(add_two_things(5, 6))"
   ]
  },
  {
   "cell_type": "code",
   "execution_count": 10,
   "metadata": {
    "colab": {
     "base_uri": "https://localhost:8080/",
     "height": 35
    },
    "executionInfo": {
     "elapsed": 4,
     "status": "ok",
     "timestamp": 1761151675088,
     "user": {
      "displayName": "Md Aminul Islam Shazid",
      "userId": "13977485771689255710"
     },
     "user_tz": -360
    },
    "id": "eAKQQXxH6UJv",
    "outputId": "ffb8612a-dd03-4336-8f38-2482c06166ab"
   },
   "outputs": [
    {
     "data": {
      "text/plain": [
       "'hello world'"
      ]
     },
     "execution_count": 10,
     "metadata": {},
     "output_type": "execute_result"
    }
   ],
   "source": [
    "add_two_things(\"hello\", \" world\")"
   ]
  },
  {
   "cell_type": "code",
   "execution_count": 11,
   "metadata": {
    "colab": {
     "base_uri": "https://localhost:8080/"
    },
    "executionInfo": {
     "elapsed": 10,
     "status": "ok",
     "timestamp": 1761151675123,
     "user": {
      "displayName": "Md Aminul Islam Shazid",
      "userId": "13977485771689255710"
     },
     "user_tz": -360
    },
    "id": "m-eLiETSZ_Sx",
    "outputId": "4ff7c21e-e29a-4b58-b9b3-6758c34cc8fd"
   },
   "outputs": [
    {
     "data": {
      "text/plain": [
       "[5, 6, 7, 8]"
      ]
     },
     "execution_count": 11,
     "metadata": {},
     "output_type": "execute_result"
    }
   ],
   "source": [
    "add_two_things([5, 6], [7, 8])"
   ]
  },
  {
   "cell_type": "code",
   "execution_count": 12,
   "metadata": {
    "colab": {
     "base_uri": "https://localhost:8080/",
     "height": 216
    },
    "executionInfo": {
     "elapsed": 34,
     "status": "error",
     "timestamp": 1761151675159,
     "user": {
      "displayName": "Md Aminul Islam Shazid",
      "userId": "13977485771689255710"
     },
     "user_tz": -360
    },
    "id": "4hL3YGEZUAEh",
    "outputId": "648be5cc-93b3-49e1-d918-6ac576ef021c"
   },
   "outputs": [],
   "source": [
    "# add_two_things(5, \"abc\")    # this will throw an error: TypeError: unsupported operand type(s) for +: 'int' and 'str'"
   ]
  },
  {
   "cell_type": "markdown",
   "metadata": {
    "id": "kwNn4SwR6bwy"
   },
   "source": [
    "The above function does not care about the types of arguments that are passed. It will try to \"add\" them regardless of the type. A rudimentary way of enforcing types in a function can be as follows:\n",
    "\n",
    "(Note: `isinstance(object_A, type_B)` checks whether `object_A` is of `type_B`)"
   ]
  },
  {
   "cell_type": "code",
   "execution_count": 13,
   "metadata": {
    "id": "7BdigxdJY-Rp"
   },
   "outputs": [],
   "source": [
    "def add_two_integers(a, b):\n",
    "    if isinstance(a, int) and isinstance(b, int):\n",
    "        return a + b\n",
    "    else:\n",
    "        return \"Please provide two integers\""
   ]
  },
  {
   "cell_type": "markdown",
   "metadata": {
    "id": "QXyLu8e17cu4"
   },
   "source": [
    "#### Example: factorial of an integer, n"
   ]
  },
  {
   "cell_type": "code",
   "execution_count": 14,
   "metadata": {
    "id": "RE-xO1iQdIO-"
   },
   "outputs": [],
   "source": [
    "def fact(n):\n",
    "    result = 1\n",
    "    while n>1:\n",
    "        result *= n\n",
    "        n -= 1\n",
    "    return result"
   ]
  },
  {
   "cell_type": "code",
   "execution_count": 15,
   "metadata": {
    "colab": {
     "base_uri": "https://localhost:8080/"
    },
    "executionInfo": {
     "elapsed": 26,
     "status": "ok",
     "timestamp": 1761151701224,
     "user": {
      "displayName": "Md Aminul Islam Shazid",
      "userId": "13977485771689255710"
     },
     "user_tz": -360
    },
    "id": "bGzgJSmQ7uIg",
    "outputId": "431d2405-c8ae-4061-d61a-65e38582089c"
   },
   "outputs": [
    {
     "data": {
      "text/plain": [
       "120"
      ]
     },
     "execution_count": 15,
     "metadata": {},
     "output_type": "execute_result"
    }
   ],
   "source": [
    "fact(5)"
   ]
  },
  {
   "cell_type": "markdown",
   "metadata": {
    "id": "Rj6XJtcB71i2"
   },
   "source": [
    "#### Example: permutation, $^n P_r$"
   ]
  },
  {
   "cell_type": "code",
   "execution_count": 16,
   "metadata": {
    "id": "0mmDhnlIeDsz"
   },
   "outputs": [],
   "source": [
    "def permutation(n, r):\n",
    "    return fact(n)/fact(n-r)"
   ]
  },
  {
   "cell_type": "code",
   "execution_count": 17,
   "metadata": {
    "colab": {
     "base_uri": "https://localhost:8080/"
    },
    "executionInfo": {
     "elapsed": 94,
     "status": "ok",
     "timestamp": 1761151702190,
     "user": {
      "displayName": "Md Aminul Islam Shazid",
      "userId": "13977485771689255710"
     },
     "user_tz": -360
    },
    "id": "Ht3JdS9M7zrU",
    "outputId": "83f12e0e-89d7-42be-e6e5-9d4e8fd4c5eb"
   },
   "outputs": [
    {
     "data": {
      "text/plain": [
       "60.0"
      ]
     },
     "execution_count": 17,
     "metadata": {},
     "output_type": "execute_result"
    }
   ],
   "source": [
    "permutation(5, 3)"
   ]
  },
  {
   "cell_type": "markdown",
   "metadata": {
    "id": "_Ebg0ml2-ykf"
   },
   "source": [
    "We can provide the arguments to the function with their names:"
   ]
  },
  {
   "cell_type": "code",
   "execution_count": 18,
   "metadata": {
    "colab": {
     "base_uri": "https://localhost:8080/"
    },
    "executionInfo": {
     "elapsed": 35,
     "status": "ok",
     "timestamp": 1761151702335,
     "user": {
      "displayName": "Md Aminul Islam Shazid",
      "userId": "13977485771689255710"
     },
     "user_tz": -360
    },
    "id": "sC-pLfZC-4-O",
    "outputId": "3c44e7ba-8d6c-4f16-a8fe-971668ebeea8"
   },
   "outputs": [
    {
     "data": {
      "text/plain": [
       "60.0"
      ]
     },
     "execution_count": 18,
     "metadata": {},
     "output_type": "execute_result"
    }
   ],
   "source": [
    "permutation(n = 5, r = 3)"
   ]
  },
  {
   "cell_type": "markdown",
   "metadata": {
    "id": "I0JdGnre_ASv"
   },
   "source": [
    "When providing the arguments with their names, their positions can be altered."
   ]
  },
  {
   "cell_type": "code",
   "execution_count": 19,
   "metadata": {
    "colab": {
     "base_uri": "https://localhost:8080/"
    },
    "executionInfo": {
     "elapsed": 5,
     "status": "ok",
     "timestamp": 1761151702365,
     "user": {
      "displayName": "Md Aminul Islam Shazid",
      "userId": "13977485771689255710"
     },
     "user_tz": -360
    },
    "id": "8RPa9vyM-8cD",
    "outputId": "4cf0034f-881e-4370-edc2-88df854eb40b"
   },
   "outputs": [
    {
     "data": {
      "text/plain": [
       "60.0"
      ]
     },
     "execution_count": 19,
     "metadata": {},
     "output_type": "execute_result"
    }
   ],
   "source": [
    "permutation(r = 3, n = 5)"
   ]
  },
  {
   "cell_type": "markdown",
   "metadata": {
    "id": "ZXQ77P-T92KQ"
   },
   "source": [
    "#### Example: GCD function"
   ]
  },
  {
   "cell_type": "code",
   "execution_count": 20,
   "metadata": {
    "id": "c-8Gr4Tkh4w5"
   },
   "outputs": [],
   "source": [
    "def gcd(a,b):\n",
    "    if a<b:\n",
    "        gcd=a\n",
    "    else :\n",
    "        gcd=b\n",
    "    while a%gcd!=0 or b%gcd!=0 :\n",
    "        gcd-=1\n",
    "    return gcd\n",
    "\n"
   ]
  },
  {
   "cell_type": "code",
   "execution_count": 21,
   "metadata": {
    "colab": {
     "base_uri": "https://localhost:8080/"
    },
    "executionInfo": {
     "elapsed": 29,
     "status": "ok",
     "timestamp": 1761151702643,
     "user": {
      "displayName": "Md Aminul Islam Shazid",
      "userId": "13977485771689255710"
     },
     "user_tz": -360
    },
    "id": "J1FgbqNpkuN9",
    "outputId": "0be940c9-cd23-4cd5-c797-0fef8ff896e4"
   },
   "outputs": [
    {
     "data": {
      "text/plain": [
       "5"
      ]
     },
     "execution_count": 21,
     "metadata": {},
     "output_type": "execute_result"
    }
   ],
   "source": [
    "gcd(25,15)"
   ]
  },
  {
   "cell_type": "markdown",
   "metadata": {
    "id": "6HOJ0ebd85Hz"
   },
   "source": [
    "### Recursive function\n",
    "\n",
    "A function is recursive when it calls itself inside its codeblock. Since the function calls itself, a base case which - when reached - terminates the function is a must, otherwise, the function will turn into an infinite loop.\n",
    "\n",
    "For example, the factorial of a number can be thought of as a recursive function:\n",
    "\n",
    "$$\n",
    "f(n) =\n",
    "\\begin{cases}\n",
    "1, & \\text{if } n = 0 \\\\[6pt]\n",
    "n \\times f(n - 1), & \\text{if } n > 0\n",
    "\\end{cases}\n",
    "$$\n",
    "\n",
    "Here, the case in which n equals to 0, is the base case. Upon reaching n = 0, the function will terminate."
   ]
  },
  {
   "cell_type": "code",
   "execution_count": 22,
   "metadata": {
    "id": "cTWF0eYQe93C"
   },
   "outputs": [],
   "source": [
    "def fact_recurs(n):\n",
    "    if n==0:\n",
    "        return 1\n",
    "    else:\n",
    "        return n * fact_recurs(n-1)"
   ]
  },
  {
   "cell_type": "code",
   "execution_count": 23,
   "metadata": {
    "colab": {
     "base_uri": "https://localhost:8080/"
    },
    "executionInfo": {
     "elapsed": 147,
     "status": "ok",
     "timestamp": 1761151703044,
     "user": {
      "displayName": "Md Aminul Islam Shazid",
      "userId": "13977485771689255710"
     },
     "user_tz": -360
    },
    "id": "GQgoXHOLhZQb",
    "outputId": "6ee48835-a084-442f-d6c1-7b04112e19a0"
   },
   "outputs": [
    {
     "data": {
      "text/plain": [
       "120"
      ]
     },
     "execution_count": 23,
     "metadata": {},
     "output_type": "execute_result"
    }
   ],
   "source": [
    "fact_recurs(5)"
   ]
  },
  {
   "cell_type": "markdown",
   "metadata": {
    "id": "D6RFI9JeyON-"
   },
   "source": [
    "## Default Values for Arguments\n",
    "\n",
    "Functions can have default values for arguments. When a function has a default value for one or more argument(s), we can omit them when calling that function.\n",
    "\n",
    "For example, the default value for the `end` argument in the `print()` function is set to `\"\\n\"`."
   ]
  },
  {
   "cell_type": "code",
   "execution_count": 24,
   "metadata": {
    "colab": {
     "base_uri": "https://localhost:8080/"
    },
    "executionInfo": {
     "elapsed": 46,
     "status": "ok",
     "timestamp": 1761188060570,
     "user": {
      "displayName": "Md Aminul Islam Shazid",
      "userId": "13977485771689255710"
     },
     "user_tz": -360
    },
    "id": "fBS4Tm4EynjX",
    "outputId": "d772fc78-96fe-461c-a74b-a6e4dafbfb7e"
   },
   "outputs": [
    {
     "name": "stdout",
     "output_type": "stream",
     "text": [
      "Hellow\n",
      "world\n"
     ]
    }
   ],
   "source": [
    "print(\"Hellow\", end = \"\\n\")\n",
    "print(\"world\")"
   ]
  },
  {
   "cell_type": "code",
   "execution_count": 25,
   "metadata": {
    "colab": {
     "base_uri": "https://localhost:8080/"
    },
    "executionInfo": {
     "elapsed": 20,
     "status": "ok",
     "timestamp": 1761188062943,
     "user": {
      "displayName": "Md Aminul Islam Shazid",
      "userId": "13977485771689255710"
     },
     "user_tz": -360
    },
    "id": "VQekw-8CytzA",
    "outputId": "6495c0da-7003-48e9-eb1d-e2ace6fcfb59"
   },
   "outputs": [
    {
     "name": "stdout",
     "output_type": "stream",
     "text": [
      "Hellow\n",
      "world\n"
     ]
    }
   ],
   "source": [
    "print(\"Hellow\")\n",
    "print(\"world\")"
   ]
  },
  {
   "cell_type": "code",
   "execution_count": 26,
   "metadata": {
    "colab": {
     "base_uri": "https://localhost:8080/"
    },
    "executionInfo": {
     "elapsed": 19,
     "status": "ok",
     "timestamp": 1761188067033,
     "user": {
      "displayName": "Md Aminul Islam Shazid",
      "userId": "13977485771689255710"
     },
     "user_tz": -360
    },
    "id": "r3jkJ9Sa_NeX",
    "outputId": "cb417fdc-245e-44e0-dbfa-f04b72050dde"
   },
   "outputs": [
    {
     "name": "stdout",
     "output_type": "stream",
     "text": [
      "Hellow world\n"
     ]
    }
   ],
   "source": [
    "print(\"Hellow\", end = \" \")\n",
    "print(\"world\")"
   ]
  },
  {
   "cell_type": "markdown",
   "metadata": {
    "id": "UAZr7tr3y0PF"
   },
   "source": [
    "### Defining functions with default values for arguments"
   ]
  },
  {
   "cell_type": "code",
   "execution_count": 27,
   "metadata": {
    "id": "kNEBIBKuyzBX"
   },
   "outputs": [],
   "source": [
    "def power(base, exponent = 2):\n",
    "    return base**exponent"
   ]
  },
  {
   "cell_type": "code",
   "execution_count": 28,
   "metadata": {
    "colab": {
     "base_uri": "https://localhost:8080/"
    },
    "executionInfo": {
     "elapsed": 9,
     "status": "ok",
     "timestamp": 1761151703477,
     "user": {
      "displayName": "Md Aminul Islam Shazid",
      "userId": "13977485771689255710"
     },
     "user_tz": -360
    },
    "id": "A52WQ2kz0JKH",
    "outputId": "aa0a7143-e731-4997-f53f-5ffb02464306"
   },
   "outputs": [
    {
     "data": {
      "text/plain": [
       "25"
      ]
     },
     "execution_count": 28,
     "metadata": {},
     "output_type": "execute_result"
    }
   ],
   "source": [
    "power(5)"
   ]
  },
  {
   "cell_type": "code",
   "execution_count": 29,
   "metadata": {
    "colab": {
     "base_uri": "https://localhost:8080/"
    },
    "executionInfo": {
     "elapsed": 84,
     "status": "ok",
     "timestamp": 1761151703568,
     "user": {
      "displayName": "Md Aminul Islam Shazid",
      "userId": "13977485771689255710"
     },
     "user_tz": -360
    },
    "id": "xh0mGwCv0Zpn",
    "outputId": "0f536c19-9315-4db7-bc95-f8b3b3340abb"
   },
   "outputs": [
    {
     "data": {
      "text/plain": [
       "216"
      ]
     },
     "execution_count": 29,
     "metadata": {},
     "output_type": "execute_result"
    }
   ],
   "source": [
    "power(6, 3)"
   ]
  },
  {
   "cell_type": "markdown",
   "metadata": {
    "id": "yTh_eqW4C9wo"
   },
   "source": [
    "## Lambda functions\n",
    "\n",
    "Lambda functions in Python are **small, anonymous functions** — meaning they are defined **without a name**.\n",
    "\n",
    "Used when you need a simple function for a short period of time. Usually used inside other functions.\n",
    "\n",
    "In other programming languages, similar concepts exist under different names:\n",
    "- **JavaScript:** Arrow functions (`x => x + 1`)\n",
    "- **C++ / Java:** Lambdas (`[](int x){ return x + 1; }`)\n",
    "- **R / MATLAB:** Anonymous functions\n",
    "- **Haskell:** Lambda expressions (the origin of the term)\n",
    "\n",
    "### Syntax and Basic Definition\n",
    "\n",
    "Lambda functions are defined using the `lambda` keyword followed by the arguments and the one-line function body.\n",
    "\n",
    "Lambda functions are best for **small, throwaway** operations. For **larger logic or reuse**, use a named function (`def`). Use `lambda` for **short, one-liner functions**, and `def` for **anything more complex**.\n"
   ]
  },
  {
   "cell_type": "code",
   "execution_count": 30,
   "metadata": {
    "id": "MqXiU0kukwuk"
   },
   "outputs": [],
   "source": [
    "# below we define a lambda function that squares its input\n",
    "# then assign it to the variable name square.\n",
    "square = lambda x: x**2\n",
    "\n",
    "# note that, lambda functions are usually not assigned names like this.\n",
    "# it is for demonstration purpose only.\n",
    "\n",
    "# also note, functions in python are \"first-class objects\", meaning\n",
    "# that functions can be assigned names, passed to other functions etc.\n",
    "# more on this in upcoming objected-oriented programming lectures"
   ]
  },
  {
   "cell_type": "code",
   "execution_count": 31,
   "metadata": {
    "colab": {
     "base_uri": "https://localhost:8080/"
    },
    "executionInfo": {
     "elapsed": 6,
     "status": "ok",
     "timestamp": 1761151703699,
     "user": {
      "displayName": "Md Aminul Islam Shazid",
      "userId": "13977485771689255710"
     },
     "user_tz": -360
    },
    "id": "e2upEd-dEblS",
    "outputId": "eca8fae6-3ee1-4e6c-ccea-6971e3f07da1"
   },
   "outputs": [
    {
     "data": {
      "text/plain": [
       "4"
      ]
     },
     "execution_count": 31,
     "metadata": {},
     "output_type": "execute_result"
    }
   ],
   "source": [
    "square(2)"
   ]
  },
  {
   "cell_type": "markdown",
   "metadata": {
    "id": "q8fTu4w2EtX5"
   },
   "source": [
    "### Lambda with Multiple Arguments\n",
    "\n",
    "Lambdas can have multiple arguments\n"
   ]
  },
  {
   "cell_type": "code",
   "execution_count": 32,
   "metadata": {
    "colab": {
     "base_uri": "https://localhost:8080/"
    },
    "executionInfo": {
     "elapsed": 6,
     "status": "ok",
     "timestamp": 1761151704009,
     "user": {
      "displayName": "Md Aminul Islam Shazid",
      "userId": "13977485771689255710"
     },
     "user_tz": -360
    },
    "id": "Jrx70-WhEzup",
    "outputId": "e59a52e5-9279-411d-e811-6fbe6008098a"
   },
   "outputs": [
    {
     "data": {
      "text/plain": [
       "10"
      ]
     },
     "execution_count": 32,
     "metadata": {},
     "output_type": "execute_result"
    }
   ],
   "source": [
    "# Lambda with two arguments\n",
    "add = lambda a, b: a + b\n",
    "add(3, 7)"
   ]
  },
  {
   "cell_type": "code",
   "execution_count": 33,
   "metadata": {
    "colab": {
     "base_uri": "https://localhost:8080/"
    },
    "executionInfo": {
     "elapsed": 81,
     "status": "ok",
     "timestamp": 1761151704097,
     "user": {
      "displayName": "Md Aminul Islam Shazid",
      "userId": "13977485771689255710"
     },
     "user_tz": -360
    },
    "id": "xeAHmxCLE3gq",
    "outputId": "07834da5-21b0-49e7-edbc-26655dd2e5cc"
   },
   "outputs": [
    {
     "data": {
      "text/plain": [
       "8"
      ]
     },
     "execution_count": 33,
     "metadata": {},
     "output_type": "execute_result"
    }
   ],
   "source": [
    "# Lambda to compare two values\n",
    "max_val = lambda x, y: x if x > y else y\n",
    "max_val(8, 3)"
   ]
  },
  {
   "cell_type": "code",
   "execution_count": 34,
   "metadata": {
    "colab": {
     "base_uri": "https://localhost:8080/"
    },
    "executionInfo": {
     "elapsed": 54,
     "status": "ok",
     "timestamp": 1761151704166,
     "user": {
      "displayName": "Md Aminul Islam Shazid",
      "userId": "13977485771689255710"
     },
     "user_tz": -360
    },
    "id": "3QLrgbWEEokv",
    "outputId": "db78b10d-e53d-4152-9e45-c28c735d862b"
   },
   "outputs": [
    {
     "name": "stdout",
     "output_type": "stream",
     "text": [
      "Turing, Alan\n"
     ]
    }
   ],
   "source": [
    "# Lambda for string formatting\n",
    "format_name = lambda first, last: f\"{last}, {first}\"\n",
    "print(format_name(\"Alan\", \"Turing\"))\n"
   ]
  },
  {
   "cell_type": "markdown",
   "metadata": {
    "id": "UHM_Ci3GLNH6"
   },
   "source": [
    "### Common Use Cases in Python\n",
    "\n",
    "Lambda functions are often used with Python's higher-order functions — functions that take other functions as arguments.\n"
   ]
  },
  {
   "cell_type": "markdown",
   "metadata": {
    "id": "TW6CsHjhLUim"
   },
   "source": [
    "#### a. `map()` — Apply a function to each element"
   ]
  },
  {
   "cell_type": "code",
   "execution_count": 35,
   "metadata": {
    "colab": {
     "base_uri": "https://localhost:8080/"
    },
    "executionInfo": {
     "elapsed": 35,
     "status": "ok",
     "timestamp": 1761151704378,
     "user": {
      "displayName": "Md Aminul Islam Shazid",
      "userId": "13977485771689255710"
     },
     "user_tz": -360
    },
    "id": "Xiry9_A3FHGP",
    "outputId": "a8dfb949-0203-4199-86e9-9dd4fb3cb041"
   },
   "outputs": [
    {
     "data": {
      "text/plain": [
       "[1, 4, 9, 16, 25, 36, 49, 64, 81, 100]"
      ]
     },
     "execution_count": 35,
     "metadata": {},
     "output_type": "execute_result"
    }
   ],
   "source": [
    "# List of numbers\n",
    "nums = list(range(1, 11))\n",
    "\n",
    "# Square each number using map + lambda\n",
    "squared = list(map(lambda x: x ** 2, nums))\n",
    "squared"
   ]
  },
  {
   "cell_type": "code",
   "execution_count": 36,
   "metadata": {
    "colab": {
     "base_uri": "https://localhost:8080/"
    },
    "executionInfo": {
     "elapsed": 12,
     "status": "ok",
     "timestamp": 1761151704402,
     "user": {
      "displayName": "Md Aminul Islam Shazid",
      "userId": "13977485771689255710"
     },
     "user_tz": -360
    },
    "id": "S1vW0f2xNoDh",
    "outputId": "b2723221-0484-4894-f887-d1f3941ae454"
   },
   "outputs": [
    {
     "name": "stdout",
     "output_type": "stream",
     "text": [
      "['PYTHON', 'JAVA', 'PERL', 'JAVASCRIPT', 'PHP']\n"
     ]
    }
   ],
   "source": [
    "words = [\"python\", \"java\", \"perl\", \"javascript\", \"php\"]\n",
    "upper_words = list(map(lambda w: w.upper(), words))\n",
    "print(upper_words)"
   ]
  },
  {
   "cell_type": "markdown",
   "metadata": {
    "id": "MM9QPbfcMXFN"
   },
   "source": [
    "#### b. `filter()` — Keep elements that satisfy a condition"
   ]
  },
  {
   "cell_type": "code",
   "execution_count": 37,
   "metadata": {
    "colab": {
     "base_uri": "https://localhost:8080/"
    },
    "executionInfo": {
     "elapsed": 48,
     "status": "ok",
     "timestamp": 1761151704621,
     "user": {
      "displayName": "Md Aminul Islam Shazid",
      "userId": "13977485771689255710"
     },
     "user_tz": -360
    },
    "id": "DUt2lFcRLlL7",
    "outputId": "a63853e7-e52d-4edf-80f6-81ba8a810b55"
   },
   "outputs": [
    {
     "data": {
      "text/plain": [
       "[2, 4, 6, 8, 10]"
      ]
     },
     "execution_count": 37,
     "metadata": {},
     "output_type": "execute_result"
    }
   ],
   "source": [
    "# Keep only even numbers\n",
    "evens = list(filter(lambda x: x % 2 == 0, nums))\n",
    "evens"
   ]
  },
  {
   "cell_type": "markdown",
   "metadata": {
    "id": "e1FR6OdPMjCA"
   },
   "source": [
    "#### c. `sorted()` — Custom sorting using a key function"
   ]
  },
  {
   "cell_type": "code",
   "execution_count": 38,
   "metadata": {
    "colab": {
     "base_uri": "https://localhost:8080/"
    },
    "executionInfo": {
     "elapsed": 20,
     "status": "ok",
     "timestamp": 1761188470758,
     "user": {
      "displayName": "Md Aminul Islam Shazid",
      "userId": "13977485771689255710"
     },
     "user_tz": -360
    },
    "id": "1pgqG1iHMcvc",
    "outputId": "52f29775-5892-427b-855d-08d3d5db13d5"
   },
   "outputs": [
    {
     "data": {
      "text/plain": [
       "[{'name': 'Eve', 'age': 35},\n",
       " {'name': 'Alice', 'age': 30},\n",
       " {'name': 'Bob', 'age': 25}]"
      ]
     },
     "execution_count": 38,
     "metadata": {},
     "output_type": "execute_result"
    }
   ],
   "source": [
    "# List of tuples (name, age)\n",
    "people = [{\"name\" : \"Alice\", \"age\" :30}, {\"name\" : \"Bob\", \"age\" : 25}, {\"name\" : \"Eve\", \"age\" : 35}]\n",
    "\n",
    "# Sort by age using lambda\n",
    "sorted_people = sorted(people, key=lambda person: person[\"age\"], reverse=True)\n",
    "sorted_people\n"
   ]
  },
  {
   "cell_type": "code",
   "execution_count": 39,
   "metadata": {
    "colab": {
     "base_uri": "https://localhost:8080/"
    },
    "executionInfo": {
     "elapsed": 17,
     "status": "ok",
     "timestamp": 1761188472360,
     "user": {
      "displayName": "Md Aminul Islam Shazid",
      "userId": "13977485771689255710"
     },
     "user_tz": -360
    },
    "id": "EN6LnP6KAr5I",
    "outputId": "06d96bca-2e49-46e3-e3b1-79ef8eac0ca5"
   },
   "outputs": [
    {
     "data": {
      "text/plain": [
       "[{'name': 'Eve', 'age': 35},\n",
       " {'name': 'Alice', 'age': 30},\n",
       " {'name': 'Bob', 'age': 25}]"
      ]
     },
     "execution_count": 39,
     "metadata": {},
     "output_type": "execute_result"
    }
   ],
   "source": [
    "def sorter(person):\n",
    "    return person[\"age\"]\n",
    "\n",
    "sorted(people, key=sorter, reverse=True)"
   ]
  },
  {
   "cell_type": "code",
   "execution_count": 40,
   "metadata": {
    "colab": {
     "base_uri": "https://localhost:8080/"
    },
    "executionInfo": {
     "elapsed": 11,
     "status": "ok",
     "timestamp": 1761151704778,
     "user": {
      "displayName": "Md Aminul Islam Shazid",
      "userId": "13977485771689255710"
     },
     "user_tz": -360
    },
    "id": "IPnAlXo4NIMH",
    "outputId": "4eab1710-0060-4d00-a9a6-ed76cdae6d2e"
   },
   "outputs": [
    {
     "data": {
      "text/plain": [
       "[{'name': 'Eve', 'age': 35},\n",
       " {'name': 'Alice', 'age': 30},\n",
       " {'name': 'Bob', 'age': 25}]"
      ]
     },
     "execution_count": 40,
     "metadata": {},
     "output_type": "execute_result"
    }
   ],
   "source": [
    "# sorted in descending order\n",
    "desc_sorted_people = sorted(people, key=lambda person: -person[\"age\"])\n",
    "desc_sorted_people"
   ]
  },
  {
   "cell_type": "markdown",
   "metadata": {
    "id": "GrN-2XxSNTR_"
   },
   "source": [
    "#### d. `reduce()` — Combine elements cumulatively"
   ]
  },
  {
   "cell_type": "code",
   "execution_count": 41,
   "metadata": {
    "colab": {
     "base_uri": "https://localhost:8080/"
    },
    "executionInfo": {
     "elapsed": 7,
     "status": "ok",
     "timestamp": 1761151704833,
     "user": {
      "displayName": "Md Aminul Islam Shazid",
      "userId": "13977485771689255710"
     },
     "user_tz": -360
    },
    "id": "xZ7mU7LzNETj",
    "outputId": "7deab9c6-fa4e-4f9c-c333-83a07910e407"
   },
   "outputs": [
    {
     "data": {
      "text/plain": [
       "15"
      ]
     },
     "execution_count": 41,
     "metadata": {},
     "output_type": "execute_result"
    }
   ],
   "source": [
    "from functools import reduce\n",
    "\n",
    "# Sum of list using reduce + lambda\n",
    "nums = [1, 2, 3, 4, 5]\n",
    "total = reduce(lambda x, y: x + y, nums)\n",
    "\n",
    "total"
   ]
  },
  {
   "cell_type": "code",
   "execution_count": 42,
   "metadata": {
    "colab": {
     "base_uri": "https://localhost:8080/"
    },
    "executionInfo": {
     "elapsed": 5,
     "status": "ok",
     "timestamp": 1761151705152,
     "user": {
      "displayName": "Md Aminul Islam Shazid",
      "userId": "13977485771689255710"
     },
     "user_tz": -360
    },
    "id": "a2kKzCMxOJMH",
    "outputId": "97eb486d-1906-4a6f-ebc0-ae04d703ba07"
   },
   "outputs": [
    {
     "name": "stdout",
     "output_type": "stream",
     "text": [
      "24\n"
     ]
    }
   ],
   "source": [
    "nums = [1, 2, 3, 4]\n",
    "product = reduce(lambda x, y: x * y, nums)\n",
    "print(product)"
   ]
  },
  {
   "cell_type": "code",
   "execution_count": 43,
   "metadata": {
    "executionInfo": {
     "elapsed": 18,
     "status": "ok",
     "timestamp": 1761188668780,
     "user": {
      "displayName": "Md Aminul Islam Shazid",
      "userId": "13977485771689255710"
     },
     "user_tz": -360
    },
    "id": "JUzYJ0p3Bk4n"
   },
   "outputs": [],
   "source": [
    "import functools"
   ]
  },
  {
   "cell_type": "code",
   "execution_count": 44,
   "metadata": {
    "id": "fpdlpwNPBnBY"
   },
   "outputs": [
    {
     "data": {
      "text/plain": [
       "10"
      ]
     },
     "execution_count": 44,
     "metadata": {},
     "output_type": "execute_result"
    }
   ],
   "source": [
    "functools.reduce(lambda x, y: x + y, nums)"
   ]
  },
  {
   "cell_type": "markdown",
   "metadata": {
    "id": "pepKH377PxAq"
   },
   "source": [
    "## Type Hints in Python\n",
    "Python is a dynamically typed language. We do not have to mention the types of objects when defining varibales or function arguments. While this makes the code concise, it can also lead to typing related bugs and confusions.\n",
    "\n",
    "Type hints, as the name suggests, are a way to hint to programmers and Python about the types of objects.\n",
    "\n",
    "To reduce runtime surprises, **Type Hints** were introduced in **Python 3.5 (PEP 484)**.  \n",
    "\n",
    "**Type hints** (or **type annotations**) allows one to explicitly state what type a variable or function parameter should be, without changing how Python executes the code.\n",
    "\n",
    "***NOTE:*** Python **ignores** type hints at runtime. They are mainly for **developers, IDEs, and tools** like `mypy` or `pyright`.\n",
    "\n",
    "Why use type-hints:\n",
    "\n",
    "- **Clarity**: Makes it clear what type of data is expected.  \n",
    "- **Readability**: Easier for others (and your future self) to understand the code.  \n",
    "- **Static Checking**: Tools like `mypy` can detect mismatched types before runtime.  \n",
    "- **Fewer Bugs**: Early detection of type-related issues.  \n",
    "- **IDE Support**: Better autocomplete and type-aware refactoring.\n"
   ]
  },
  {
   "cell_type": "markdown",
   "metadata": {
    "id": "WACz14LcRrGQ"
   },
   "source": [
    "### Annotating Variables"
   ]
  },
  {
   "cell_type": "code",
   "execution_count": 45,
   "metadata": {
    "id": "a9ARZh8jRtx2"
   },
   "outputs": [],
   "source": [
    "name: str = \"Alice\"\n",
    "age: int = 25\n",
    "height: float = 5.6"
   ]
  },
  {
   "cell_type": "markdown",
   "metadata": {
    "id": "on8M2k4MR-pk"
   },
   "source": [
    "### Annotating Functions"
   ]
  },
  {
   "cell_type": "code",
   "execution_count": 46,
   "metadata": {
    "id": "p2Xq55CWSAul"
   },
   "outputs": [],
   "source": [
    "def multiply(x: int, y: int) -> int:\n",
    "    return x * y"
   ]
  },
  {
   "cell_type": "markdown",
   "metadata": {
    "id": "536i4NjwSCum"
   },
   "source": [
    "### Functions with Multiple Types"
   ]
  },
  {
   "cell_type": "code",
   "execution_count": 47,
   "metadata": {
    "id": "hFdobRE-SEvG"
   },
   "outputs": [],
   "source": [
    "from typing import Union\n",
    "\n",
    "def add(a: Union[int, float], b: Union[int, float]) -> Union[int, float]:\n",
    "    return a + b"
   ]
  },
  {
   "cell_type": "code",
   "execution_count": 48,
   "metadata": {
    "id": "M96nVxAdPweI"
   },
   "outputs": [],
   "source": [
    "# the greet function takes an argument which is a string and returns a string\n",
    "def greet(name: str) -> str:\n",
    "    return f\"Hello, {name}!\""
   ]
  },
  {
   "cell_type": "markdown",
   "metadata": {
    "id": "L3NQ9e5bSkcX"
   },
   "source": [
    "### Hints for collections and optional values"
   ]
  },
  {
   "cell_type": "code",
   "execution_count": 49,
   "metadata": {
    "id": "-FcdKn8rTDS3"
   },
   "outputs": [],
   "source": [
    "from typing import List, Dict, Tuple, Set, Union, Optional\n",
    "\n",
    "numbers: List[int] = [1, 2, 3]\n",
    "person: Dict[str, Union[str, int]] = {\"name\": \"Alice\", \"age\": 25}\n",
    "coordinates: Tuple[int, int] = (10, 20)\n",
    "tags: Set[str] = {\"python\", \"typing\"}\n",
    "nickname: Optional[str] = None  # Optional[str] means either str or None"
   ]
  },
  {
   "cell_type": "code",
   "execution_count": 50,
   "metadata": {
    "id": "GX03KQAEGB9g"
   },
   "outputs": [],
   "source": [
    "numbers= [1, 2, 3]\n",
    "person = {\"name\": \"Alice\", \"age\": 25}\n",
    "coordinates = (10, 20)\n",
    "tags = {\"python\", \"typing\"}\n",
    "nickname = None  # Optional[str] means either str or None"
   ]
  },
  {
   "cell_type": "markdown",
   "metadata": {
    "id": "v7_ji4YjQ6F2"
   },
   "source": [
    "Type hints are **not enforced** by Python — but you can use external tools to check them. For example, `mypy` is a static type checker for Python.\n",
    "\n",
    "Example:\n",
    "```\n",
    "def add(a: int, b: int) -> int:\n",
    "    return a + b\n",
    "\n",
    "result = add(5, \"3\")  # type checker will flag this before runtime\n",
    "```\n",
    "\n",
    "If the above code is run, python will throw an error because `int` and `str` can not be added. However, using a type checker *before* running the code would allow one to detect this bug early"
   ]
  }
 ],
 "metadata": {
  "colab": {
   "authorship_tag": "ABX9TyPRDpB0adqIuSeqU4DnBdqE",
   "provenance": []
  },
  "kernelspec": {
   "display_name": "Python 3 (ipykernel)",
   "language": "python",
   "name": "python3"
  },
  "language_info": {
   "codemirror_mode": {
    "name": "ipython",
    "version": 3
   },
   "file_extension": ".py",
   "mimetype": "text/x-python",
   "name": "python",
   "nbconvert_exporter": "python",
   "pygments_lexer": "ipython3",
   "version": "3.13.7"
  }
 },
 "nbformat": 4,
 "nbformat_minor": 4
}
