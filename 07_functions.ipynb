{
 "cells": [
  {
   "cell_type": "markdown",
   "metadata": {
    "id": "nlIHCQWi4qRr"
   },
   "source": [
    "# Functions, Lambda, Decorators, Generators, Type Hints"
   ]
  },
  {
   "cell_type": "markdown",
   "metadata": {
    "id": "qPFPoSON4vvL"
   },
   "source": [
    "## Functions"
   ]
  },
  {
   "cell_type": "markdown",
   "metadata": {
    "id": "wKBdw1Pt42vl"
   },
   "source": [
    "### Calling a built-in function"
   ]
  },
  {
   "cell_type": "code",
   "execution_count": 1,
   "metadata": {
    "colab": {
     "base_uri": "https://localhost:8080/"
    },
    "id": "jNbtav_2YK-m",
    "outputId": "37dafb67-e65f-4ce9-ab00-abe4ce1c83b4"
   },
   "outputs": [
    {
     "name": "stdout",
     "output_type": "stream",
     "text": [
      "hello\n"
     ]
    }
   ],
   "source": [
    "print(\"hello\")"
   ]
  },
  {
   "cell_type": "markdown",
   "metadata": {
    "id": "f8zCjYjK456P"
   },
   "source": [
    "### Calling a function with multiple arguments"
   ]
  },
  {
   "cell_type": "code",
   "execution_count": 2,
   "metadata": {
    "colab": {
     "base_uri": "https://localhost:8080/"
    },
    "id": "EGuR-1SWYwSZ",
    "outputId": "bc07f699-2af8-47c4-a51d-da92497242cf"
   },
   "outputs": [
    {
     "name": "stdout",
     "output_type": "stream",
     "text": [
      "hellow abcd\n"
     ]
    }
   ],
   "source": [
    "name = \"abcd\"\n",
    "print(\"hellow\", name)"
   ]
  },
  {
   "cell_type": "code",
   "execution_count": 3,
   "metadata": {
    "id": "QEJhRNU3YyI4"
   },
   "outputs": [],
   "source": [
    "ls1 = [1, 2, 3]"
   ]
  },
  {
   "cell_type": "markdown",
   "metadata": {
    "id": "YN0TSyjP5Fny"
   },
   "source": [
    "### Calling a function with named arguments"
   ]
  },
  {
   "cell_type": "code",
   "execution_count": 4,
   "metadata": {
    "colab": {
     "base_uri": "https://localhost:8080/"
    },
    "id": "JLDnLbzlY6PQ",
    "outputId": "9542f8ea-b39d-4ca9-c59f-3f31c2ad3a34"
   },
   "outputs": [
    {
     "name": "stdout",
     "output_type": "stream",
     "text": [
      "1 4 9 "
     ]
    }
   ],
   "source": [
    "for x in ls1:\n",
    "    print(x**2, end=\" \")"
   ]
  },
  {
   "cell_type": "markdown",
   "metadata": {
    "id": "SeURQ_YF5QSc"
   },
   "source": [
    "### Defining a function\n",
    "\n",
    "Functions are defined with the def keyword followed by the function name and its arguments in parentheses. Note that, as always, codes inside the function block need to be indented."
   ]
  },
  {
   "cell_type": "code",
   "execution_count": 5,
   "metadata": {
    "id": "SIpBsBgh6KhK"
   },
   "outputs": [],
   "source": [
    "def add_two_things(a, b):\n",
    "    return a+b"
   ]
  },
  {
   "cell_type": "code",
   "execution_count": 6,
   "metadata": {
    "colab": {
     "base_uri": "https://localhost:8080/"
    },
    "id": "dgZuLqaN6Sdx",
    "outputId": "9816699c-8c78-4c40-bf96-2c88e1bd3ae1"
   },
   "outputs": [
    {
     "data": {
      "text/plain": [
       "11"
      ]
     },
     "execution_count": 6,
     "metadata": {},
     "output_type": "execute_result"
    }
   ],
   "source": [
    "add_two_things(5, 6)"
   ]
  },
  {
   "cell_type": "code",
   "execution_count": 7,
   "metadata": {
    "colab": {
     "base_uri": "https://localhost:8080/",
     "height": 35
    },
    "id": "eAKQQXxH6UJv",
    "outputId": "7fda42af-9482-4f78-e181-82b2ee9f7cee"
   },
   "outputs": [
    {
     "data": {
      "application/vnd.google.colaboratory.intrinsic+json": {
       "type": "string"
      },
      "text/plain": [
       "'hello world'"
      ]
     },
     "execution_count": 7,
     "metadata": {},
     "output_type": "execute_result"
    }
   ],
   "source": [
    "add_two_things(\"hello\", \" world\")"
   ]
  },
  {
   "cell_type": "code",
   "execution_count": 8,
   "metadata": {
    "colab": {
     "base_uri": "https://localhost:8080/"
    },
    "id": "m-eLiETSZ_Sx",
    "outputId": "29b6bc0c-deac-4837-ada7-3a6bdafea92d"
   },
   "outputs": [
    {
     "data": {
      "text/plain": [
       "[5, 6, 7, 8]"
      ]
     },
     "execution_count": 8,
     "metadata": {},
     "output_type": "execute_result"
    }
   ],
   "source": [
    "add_two_things([5, 6], [7, 8])"
   ]
  },
  {
   "cell_type": "markdown",
   "metadata": {
    "id": "kwNn4SwR6bwy"
   },
   "source": [
    "The above function does not care about the types of arguments that are passed. It will try to \"add\" them regardless of the type. A rudimentary way of enforcing types in a function can be as follows:\n",
    "\n",
    "(Note: `isinstance(object_A, type_B)` checks whether `object_A` is of `type_B`)"
   ]
  },
  {
   "cell_type": "code",
   "execution_count": 9,
   "metadata": {
    "id": "7BdigxdJY-Rp"
   },
   "outputs": [],
   "source": [
    "def add_two_integers(a, b):\n",
    "    if isinstance(a, int) and isinstance(b, int):\n",
    "        return a + b\n",
    "    else:\n",
    "        return \"Please provide two integers\""
   ]
  },
  {
   "cell_type": "markdown",
   "metadata": {
    "id": "QXyLu8e17cu4"
   },
   "source": [
    "#### Example: factorial of an integer, n"
   ]
  },
  {
   "cell_type": "code",
   "execution_count": 10,
   "metadata": {
    "id": "RE-xO1iQdIO-"
   },
   "outputs": [],
   "source": [
    "def fact(n):\n",
    "    result = 1\n",
    "    while n>1:\n",
    "        result *= n\n",
    "        n -= 1\n",
    "    return result"
   ]
  },
  {
   "cell_type": "code",
   "execution_count": 11,
   "metadata": {
    "colab": {
     "base_uri": "https://localhost:8080/"
    },
    "id": "bGzgJSmQ7uIg",
    "outputId": "78fed0ed-d13e-4f14-8848-f75466da14dc"
   },
   "outputs": [
    {
     "data": {
      "text/plain": [
       "120"
      ]
     },
     "execution_count": 11,
     "metadata": {},
     "output_type": "execute_result"
    }
   ],
   "source": [
    "fact(5)"
   ]
  },
  {
   "cell_type": "markdown",
   "metadata": {
    "id": "Rj6XJtcB71i2"
   },
   "source": [
    "#### Example: permutation, $^n P_r$"
   ]
  },
  {
   "cell_type": "code",
   "execution_count": 12,
   "metadata": {
    "id": "0mmDhnlIeDsz"
   },
   "outputs": [],
   "source": [
    "def permutation(n, r):\n",
    "    return fact(n)/fact(n-r)"
   ]
  },
  {
   "cell_type": "code",
   "execution_count": 13,
   "metadata": {
    "colab": {
     "base_uri": "https://localhost:8080/"
    },
    "id": "Ht3JdS9M7zrU",
    "outputId": "33d0739b-87f9-469b-806b-a25d942c587b"
   },
   "outputs": [
    {
     "data": {
      "text/plain": [
       "60.0"
      ]
     },
     "execution_count": 13,
     "metadata": {},
     "output_type": "execute_result"
    }
   ],
   "source": [
    "permutation(5, 3)"
   ]
  },
  {
   "cell_type": "markdown",
   "metadata": {
    "id": "_Ebg0ml2-ykf"
   },
   "source": [
    "We can provide the arguments to the function with their names:"
   ]
  },
  {
   "cell_type": "code",
   "execution_count": 14,
   "metadata": {
    "colab": {
     "base_uri": "https://localhost:8080/"
    },
    "id": "sC-pLfZC-4-O",
    "outputId": "09660582-12c7-4ed1-e597-6e0417d82f56"
   },
   "outputs": [
    {
     "data": {
      "text/plain": [
       "60.0"
      ]
     },
     "execution_count": 14,
     "metadata": {},
     "output_type": "execute_result"
    }
   ],
   "source": [
    "permutation(n = 5, r = 3)"
   ]
  },
  {
   "cell_type": "markdown",
   "metadata": {
    "id": "I0JdGnre_ASv"
   },
   "source": [
    "When providing the arguments with their names, their positions can be altered."
   ]
  },
  {
   "cell_type": "code",
   "execution_count": 15,
   "metadata": {
    "colab": {
     "base_uri": "https://localhost:8080/"
    },
    "id": "8RPa9vyM-8cD",
    "outputId": "bfde94a1-299f-4c2c-b403-c2766cbecbce"
   },
   "outputs": [
    {
     "data": {
      "text/plain": [
       "60.0"
      ]
     },
     "execution_count": 15,
     "metadata": {},
     "output_type": "execute_result"
    }
   ],
   "source": [
    "permutation(r = 3, n = 5)"
   ]
  },
  {
   "cell_type": "markdown",
   "metadata": {
    "id": "ZXQ77P-T92KQ"
   },
   "source": [
    "#### Example: GCD function"
   ]
  },
  {
   "cell_type": "code",
   "execution_count": 16,
   "metadata": {
    "id": "c-8Gr4Tkh4w5"
   },
   "outputs": [],
   "source": [
    "def gcd(a,b):\n",
    "    if a<b:\n",
    "        gcd=a\n",
    "    else :\n",
    "        gcd=b\n",
    "    while a%gcd!=0 or b%gcd!=0 :\n",
    "        gcd-=1\n",
    "    return gcd\n",
    "\n"
   ]
  },
  {
   "cell_type": "code",
   "execution_count": 17,
   "metadata": {
    "colab": {
     "base_uri": "https://localhost:8080/"
    },
    "id": "J1FgbqNpkuN9",
    "outputId": "59714142-b279-474b-82e1-1396df5a2768"
   },
   "outputs": [
    {
     "data": {
      "text/plain": [
       "5"
      ]
     },
     "execution_count": 17,
     "metadata": {},
     "output_type": "execute_result"
    }
   ],
   "source": [
    "gcd(25,15)"
   ]
  },
  {
   "cell_type": "markdown",
   "metadata": {
    "id": "6HOJ0ebd85Hz"
   },
   "source": [
    "### Recursive function\n",
    "\n",
    "A function is recursive when it calls itself inside its codeblock. Since the function calls itself, a base case which - when reached - terminates the function is a must, otherwise, the function will turn into an infinite loop.\n",
    "\n",
    "For example, the factorial of a number can be thought of as a recursive function:\n",
    "\n",
    "$$\n",
    "f(n) =\n",
    "\\begin{cases}\n",
    "1, & \\text{if } n = 0 \\\\[6pt]\n",
    "n \\times f(n - 1), & \\text{if } n > 0\n",
    "\\end{cases}\n",
    "$$\n",
    "\n",
    "Here, the case in which n equals to 0, is the base case. Upon reaching n = 0, the function will terminate."
   ]
  },
  {
   "cell_type": "code",
   "execution_count": 18,
   "metadata": {
    "id": "cTWF0eYQe93C"
   },
   "outputs": [],
   "source": [
    "def fact_recurs(n):\n",
    "    if n==0:\n",
    "        return 1\n",
    "    else:\n",
    "        return n * fact_recurs(n-1)"
   ]
  },
  {
   "cell_type": "code",
   "execution_count": 19,
   "metadata": {
    "colab": {
     "base_uri": "https://localhost:8080/"
    },
    "id": "GQgoXHOLhZQb",
    "outputId": "940ec04b-93d7-4d28-f673-e961f5be3e4e"
   },
   "outputs": [
    {
     "data": {
      "text/plain": [
       "120"
      ]
     },
     "execution_count": 19,
     "metadata": {},
     "output_type": "execute_result"
    }
   ],
   "source": [
    "fact_recurs(5)"
   ]
  },
  {
   "cell_type": "markdown",
   "metadata": {
    "id": "yTh_eqW4C9wo"
   },
   "source": [
    "## Lambda functions\n",
    "\n",
    "Lambda functions in Python are **small, anonymous functions** — meaning they are defined **without a name**.\n",
    "\n",
    "Used when you need a simple function for a short period of time. Usually used inside other functions.\n",
    "\n",
    "In other programming languages, similar concepts exist under different names:\n",
    "- **JavaScript:** Arrow functions (`x => x + 1`)\n",
    "- **C++ / Java:** Lambdas (`[](int x){ return x + 1; }`)\n",
    "- **R / MATLAB:** Anonymous functions\n",
    "- **Haskell:** Lambda expressions (the origin of the term)\n",
    "\n",
    "### Syntax and Basic Definition\n",
    "\n",
    "Lambda functions are defined using the `lambda` keyword followed by the arguments and the one-line function body.\n",
    "\n",
    "Lambda functions are best for **small, throwaway** operations. For **larger logic or reuse**, use a named function (`def`). Use `lambda` for **short, one-liner functions**, and `def` for **anything more complex**.\n"
   ]
  },
  {
   "cell_type": "code",
   "execution_count": 20,
   "metadata": {
    "id": "MqXiU0kukwuk"
   },
   "outputs": [],
   "source": [
    "# below we define a lambda function that squares its input\n",
    "# then assign it to the variable name square.\n",
    "square = lambda x: x**2\n",
    "\n",
    "# note that, lambda functions are usually not assigned names like this.\n",
    "# it is for demonstration purpose only.\n",
    "\n",
    "# also note, functions in python are \"first-class objects\", meaning\n",
    "# that functions can be assigned names, passed to other functions etc.\n",
    "# more on this in upcoming objected-oriented programming lectures"
   ]
  },
  {
   "cell_type": "code",
   "execution_count": 21,
   "metadata": {
    "colab": {
     "base_uri": "https://localhost:8080/"
    },
    "id": "e2upEd-dEblS",
    "outputId": "13fd55ea-02b4-4a96-b43d-6f6b787da6d0"
   },
   "outputs": [
    {
     "data": {
      "text/plain": [
       "4"
      ]
     },
     "execution_count": 21,
     "metadata": {},
     "output_type": "execute_result"
    }
   ],
   "source": [
    "square(2)"
   ]
  },
  {
   "cell_type": "markdown",
   "metadata": {
    "id": "q8fTu4w2EtX5"
   },
   "source": [
    "### Lambda with Multiple Arguments\n",
    "\n",
    "Lambdas can have multiple arguments\n"
   ]
  },
  {
   "cell_type": "code",
   "execution_count": 22,
   "metadata": {
    "colab": {
     "base_uri": "https://localhost:8080/"
    },
    "id": "Jrx70-WhEzup",
    "outputId": "4f8931a9-37c8-41a8-906c-3b14cb35621f"
   },
   "outputs": [
    {
     "data": {
      "text/plain": [
       "10"
      ]
     },
     "execution_count": 22,
     "metadata": {},
     "output_type": "execute_result"
    }
   ],
   "source": [
    "# Lambda with two arguments\n",
    "add = lambda a, b: a + b\n",
    "add(3, 7)"
   ]
  },
  {
   "cell_type": "code",
   "execution_count": 23,
   "metadata": {
    "colab": {
     "base_uri": "https://localhost:8080/"
    },
    "id": "xeAHmxCLE3gq",
    "outputId": "d06c4eb8-a872-478f-e120-339ecebb7ce6"
   },
   "outputs": [
    {
     "data": {
      "text/plain": [
       "8"
      ]
     },
     "execution_count": 23,
     "metadata": {},
     "output_type": "execute_result"
    }
   ],
   "source": [
    "# Lambda to compare two values\n",
    "max_val = lambda x, y: x if x > y else y\n",
    "max_val(8, 3)"
   ]
  },
  {
   "cell_type": "code",
   "execution_count": 24,
   "metadata": {
    "colab": {
     "base_uri": "https://localhost:8080/"
    },
    "id": "3QLrgbWEEokv",
    "outputId": "bf67b2ae-74bb-4407-c913-ef8031323340"
   },
   "outputs": [
    {
     "name": "stdout",
     "output_type": "stream",
     "text": [
      "Turing, Alan\n"
     ]
    }
   ],
   "source": [
    "# Lambda for string formatting\n",
    "format_name = lambda first, last: f\"{last}, {first}\"\n",
    "print(format_name(\"Alan\", \"Turing\"))\n"
   ]
  },
  {
   "cell_type": "markdown",
   "metadata": {
    "id": "UHM_Ci3GLNH6"
   },
   "source": [
    "### Common Use Cases in Python\n",
    "\n",
    "Lambda functions are often used with Python's higher-order functions — functions that take other functions as arguments.\n"
   ]
  },
  {
   "cell_type": "markdown",
   "metadata": {
    "id": "TW6CsHjhLUim"
   },
   "source": [
    "#### a. `map()` — Apply a function to each element"
   ]
  },
  {
   "cell_type": "code",
   "execution_count": 25,
   "metadata": {
    "colab": {
     "base_uri": "https://localhost:8080/"
    },
    "id": "Xiry9_A3FHGP",
    "outputId": "9b5314ae-fc7e-49f4-e9a1-c0f17c79d833"
   },
   "outputs": [
    {
     "data": {
      "text/plain": [
       "[1, 4, 9, 16, 25, 36, 49, 64, 81, 100]"
      ]
     },
     "execution_count": 25,
     "metadata": {},
     "output_type": "execute_result"
    }
   ],
   "source": [
    "# List of numbers\n",
    "nums = list(range(1, 11))\n",
    "\n",
    "# Square each number using map + lambda\n",
    "squared = list(map(lambda x: x ** 2, nums))\n",
    "squared"
   ]
  },
  {
   "cell_type": "code",
   "execution_count": 26,
   "metadata": {
    "colab": {
     "base_uri": "https://localhost:8080/"
    },
    "id": "S1vW0f2xNoDh",
    "outputId": "a5fc74aa-b702-431b-c0a3-14b521912359"
   },
   "outputs": [
    {
     "name": "stdout",
     "output_type": "stream",
     "text": [
      "['PYTHON', 'JAVA', 'PERL', 'JAVASCRIPT', 'PHP']\n"
     ]
    }
   ],
   "source": [
    "words = [\"python\", \"java\", \"perl\", \"javascript\", \"php\"]\n",
    "upper_words = list(map(lambda w: w.upper(), words))\n",
    "print(upper_words)"
   ]
  },
  {
   "cell_type": "markdown",
   "metadata": {
    "id": "MM9QPbfcMXFN"
   },
   "source": [
    "#### b. `filter()` — Keep elements that satisfy a condition"
   ]
  },
  {
   "cell_type": "code",
   "execution_count": 27,
   "metadata": {
    "colab": {
     "base_uri": "https://localhost:8080/"
    },
    "id": "DUt2lFcRLlL7",
    "outputId": "5f425430-c032-48e1-e156-926240e85ae0"
   },
   "outputs": [
    {
     "data": {
      "text/plain": [
       "[2, 4, 6, 8, 10]"
      ]
     },
     "execution_count": 27,
     "metadata": {},
     "output_type": "execute_result"
    }
   ],
   "source": [
    "# Keep only even numbers\n",
    "evens = list(filter(lambda x: x % 2 == 0, nums))\n",
    "evens"
   ]
  },
  {
   "cell_type": "markdown",
   "metadata": {
    "id": "e1FR6OdPMjCA"
   },
   "source": [
    "#### c. `sorted()` — Custom sorting using a key function"
   ]
  },
  {
   "cell_type": "code",
   "execution_count": 28,
   "metadata": {
    "colab": {
     "base_uri": "https://localhost:8080/"
    },
    "id": "1pgqG1iHMcvc",
    "outputId": "4d64d0ce-9b70-409c-c3ad-2d638bc7a6ad"
   },
   "outputs": [
    {
     "data": {
      "text/plain": [
       "[{'name': 'Bob', 'age': 25},\n",
       " {'name': 'Alice', 'age': 30},\n",
       " {'name': 'Eve', 'age': 35}]"
      ]
     },
     "execution_count": 28,
     "metadata": {},
     "output_type": "execute_result"
    }
   ],
   "source": [
    "# List of tuples (name, age)\n",
    "people = [{\"name\" : \"Alice\", \"age\" :30}, {\"name\" : \"Bob\", \"age\" : 25}, {\"name\" : \"Eve\", \"age\" : 35}]\n",
    "\n",
    "# Sort by age using lambda\n",
    "sorted_people = sorted(people, key=lambda person: person[\"age\"])\n",
    "sorted_people\n"
   ]
  },
  {
   "cell_type": "code",
   "execution_count": 29,
   "metadata": {
    "colab": {
     "base_uri": "https://localhost:8080/"
    },
    "id": "IPnAlXo4NIMH",
    "outputId": "bb0ed826-c705-4fba-c142-71b8b2881733"
   },
   "outputs": [
    {
     "data": {
      "text/plain": [
       "[{'name': 'Eve', 'age': 35},\n",
       " {'name': 'Alice', 'age': 30},\n",
       " {'name': 'Bob', 'age': 25}]"
      ]
     },
     "execution_count": 29,
     "metadata": {},
     "output_type": "execute_result"
    }
   ],
   "source": [
    "# sorted in descending order\n",
    "desc_sorted_people = sorted(people, key=lambda person: -person[\"age\"])\n",
    "desc_sorted_people"
   ]
  },
  {
   "cell_type": "markdown",
   "metadata": {
    "id": "GrN-2XxSNTR_"
   },
   "source": [
    "#### d. `reduce()` — Combine elements cumulatively"
   ]
  },
  {
   "cell_type": "code",
   "execution_count": 30,
   "metadata": {
    "colab": {
     "base_uri": "https://localhost:8080/"
    },
    "id": "xZ7mU7LzNETj",
    "outputId": "f18255ba-7960-4307-fd47-f3b5299ccbf1"
   },
   "outputs": [
    {
     "data": {
      "text/plain": [
       "15"
      ]
     },
     "execution_count": 30,
     "metadata": {},
     "output_type": "execute_result"
    }
   ],
   "source": [
    "from functools import reduce\n",
    "\n",
    "# Sum of list using reduce + lambda\n",
    "nums = [1, 2, 3, 4, 5]\n",
    "total = reduce(lambda x, y: x + y, nums)\n",
    "\n",
    "total"
   ]
  },
  {
   "cell_type": "code",
   "execution_count": 31,
   "metadata": {
    "colab": {
     "base_uri": "https://localhost:8080/"
    },
    "id": "a2kKzCMxOJMH",
    "outputId": "4c2292fd-1bb3-4390-e7e1-acd46221d472"
   },
   "outputs": [
    {
     "name": "stdout",
     "output_type": "stream",
     "text": [
      "24\n"
     ]
    }
   ],
   "source": [
    "nums = [1, 2, 3, 4]\n",
    "product = reduce(lambda x, y: x * y, nums)\n",
    "print(product)"
   ]
  },
  {
   "cell_type": "markdown",
   "metadata": {
    "id": "pepKH377PxAq"
   },
   "source": [
    "## Type Hints in Python\n",
    "Python is a dynamically typed language. We do not have to mention the types of objects when defining varibales or function arguments. While this makes the code concise, it can also lead to typing related bugs and confusions.\n",
    "\n",
    "Type hints, as the name suggests, are a way to hint to programmers and Python about the types of objects.\n",
    "\n",
    "To reduce runtime surprises, **Type Hints** were introduced in **Python 3.5 (PEP 484)**.  \n",
    "\n",
    "**Type hints** (or **type annotations**) allows one to explicitly state what type a variable or function parameter should be, without changing how Python executes the code.\n",
    "\n",
    "***NOTE:*** Python **ignores** type hints at runtime. They are mainly for **developers, IDEs, and tools** like `mypy` or `pyright`.\n",
    "\n",
    "Why use type-hints:\n",
    "\n",
    "- **Clarity**: Makes it clear what type of data is expected.  \n",
    "- **Readability**: Easier for others (and your future self) to understand the code.  \n",
    "- **Static Checking**: Tools like `mypy` can detect mismatched types before runtime.  \n",
    "- **Fewer Bugs**: Early detection of type-related issues.  \n",
    "- **IDE Support**: Better autocomplete and type-aware refactoring.\n"
   ]
  },
  {
   "cell_type": "markdown",
   "metadata": {
    "id": "WACz14LcRrGQ"
   },
   "source": [
    "### Annotating Variables"
   ]
  },
  {
   "cell_type": "code",
   "execution_count": 32,
   "metadata": {
    "id": "a9ARZh8jRtx2"
   },
   "outputs": [],
   "source": [
    "name: str = \"Alice\"\n",
    "age: int = 25\n",
    "height: float = 5.6"
   ]
  },
  {
   "cell_type": "markdown",
   "metadata": {
    "id": "on8M2k4MR-pk"
   },
   "source": [
    "### Annotating Functions"
   ]
  },
  {
   "cell_type": "code",
   "execution_count": 33,
   "metadata": {
    "id": "p2Xq55CWSAul"
   },
   "outputs": [],
   "source": [
    "def multiply(x: int, y: int) -> int:\n",
    "    return x * y"
   ]
  },
  {
   "cell_type": "markdown",
   "metadata": {
    "id": "536i4NjwSCum"
   },
   "source": [
    "### Functions with Multiple Types"
   ]
  },
  {
   "cell_type": "code",
   "execution_count": 34,
   "metadata": {
    "id": "hFdobRE-SEvG"
   },
   "outputs": [],
   "source": [
    "from typing import Union\n",
    "\n",
    "def add(a: Union[int, float], b: Union[int, float]) -> Union[int, float]:\n",
    "    return a + b"
   ]
  },
  {
   "cell_type": "code",
   "execution_count": 35,
   "metadata": {
    "id": "M96nVxAdPweI"
   },
   "outputs": [],
   "source": [
    "# the greet function takes an argument which is a string and returns a string\n",
    "def greet(name: str) -> str:\n",
    "    return f\"Hello, {name}!\""
   ]
  },
  {
   "cell_type": "markdown",
   "metadata": {
    "id": "L3NQ9e5bSkcX"
   },
   "source": [
    "### Hints for collections and optional values"
   ]
  },
  {
   "cell_type": "code",
   "execution_count": 36,
   "metadata": {
    "id": "-FcdKn8rTDS3"
   },
   "outputs": [],
   "source": [
    "from typing import List, Dict, Tuple, Set, Union, Optional\n",
    "\n",
    "numbers: List[int] = [1, 2, 3]\n",
    "person: Dict[str, Union[str, int]] = {\"name\": \"Alice\", \"age\": 25}\n",
    "coordinates: Tuple[int, int] = (10, 20)\n",
    "tags: Set[str] = {\"python\", \"typing\"}\n",
    "nickname: Optional[str] = None  # Optional[str] means either str or None"
   ]
  },
  {
   "cell_type": "markdown",
   "metadata": {
    "id": "v7_ji4YjQ6F2"
   },
   "source": [
    "Type hints are **not enforced** by Python — but you can use external tools to check them. For example, `mypy` is a static type checker for Python.\n",
    "\n",
    "Example:\n",
    "```python\n",
    "def add(a: int, b: int) -> int:\n",
    "    return a + b\n",
    "\n",
    "result = add(5, \"3\")  # type checker will flag this before runtime\n",
    "```\n",
    "\n",
    "If the above code is run, python will throw an error because `int` and `str` can not be added. However, using a type checker *before* running the code would allow one to detect this bug early"
   ]
  }
 ],
 "metadata": {
  "colab": {
   "provenance": [],
   "toc_visible": true
  },
  "kernelspec": {
   "display_name": "Python 3 (ipykernel)",
   "language": "python",
   "name": "python3"
  },
  "language_info": {
   "codemirror_mode": {
    "name": "ipython",
    "version": 3
   },
   "file_extension": ".py",
   "mimetype": "text/x-python",
   "name": "python",
   "nbconvert_exporter": "python",
   "pygments_lexer": "ipython3",
   "version": "3.13.7"
  }
 },
 "nbformat": 4,
 "nbformat_minor": 4
}
