{
  "nbformat": 4,
  "nbformat_minor": 0,
  "metadata": {
    "colab": {
      "provenance": [],
      "toc_visible": true
    },
    "kernelspec": {
      "name": "python3",
      "display_name": "Python 3"
    },
    "language_info": {
      "name": "python"
    }
  },
  "cells": [
    {
      "cell_type": "markdown",
      "source": [
        "# Object-Oriented Programming (OOP)\n",
        "\n",
        "Object-Oriented Programming (OOP) is one of the most powerful and widely used paradigms in modern software development. Programming paradigms are styles or ways of programming, they represent different ways of thinking about and organizing code.\n",
        "\n",
        "## Introduction to OOP\n",
        "**Object-Oriented Programming (OOP)** is based on the concept of \"objects\". Objects are entities that contain both data and behavior.\n",
        "\n",
        "Why OOP?\n",
        "- Helps structure complex programs  \n",
        "- Promotes code reusability  \n",
        "- Makes code easier to maintain and debug  \n",
        "- Allows you to model real-world entities directly"
      ],
      "metadata": {
        "id": "r_mb1bWqBstS"
      }
    },
    {
      "cell_type": "markdown",
      "source": [
        "\n",
        "## Some core concepts in OOP\n",
        "\n",
        "- Class\n",
        "- Object/instance\n",
        "- Properties and methods\n",
        "- Four principles in OOP:\n",
        "  1. Encapsulation\n",
        "  2. Abstraction\n",
        "  3. Inheritance\n",
        "  4. Polymorphism"
      ],
      "metadata": {
        "id": "iCLsM6260ZEj"
      }
    },
    {
      "cell_type": "markdown",
      "source": [
        "### Class\n",
        "A **class** is a blueprint or template for creating objects. It defines what data (attributes) and behaviors (methods) the objects will have. Think of a **class** as an architect's blueprint for a house, it defines the structure, but no physical house exists until you build one."
      ],
      "metadata": {
        "id": "JAKsCpIb0boz"
      }
    },
    {
      "cell_type": "markdown",
      "source": [
        "### Instance/Object\n",
        "An object (or instance) is a specific example created from a class. Each object can have its own data, even though they share the same class structure.\n",
        "\n",
        "For example, if Cars is a class, then BMW M3, Toyota Mark ii etc. are objects of class Car, in other words, these objects are individual instance of the Car class. They share some basic properties and abilities, but have their own invidividual charactertistics too."
      ],
      "metadata": {
        "id": "bfwHbilm0eQD"
      }
    },
    {
      "cell_type": "markdown",
      "source": [
        "### Properties and methods\n",
        "In a class, there are two main kinds of members:\n",
        "1. **Properties (Attributes)** — represent the data or state of an object  \n",
        "2. **Methods (Functions)** — represent the behavior or actions an object can perform."
      ],
      "metadata": {
        "id": "4xCGMM1n0gOI"
      }
    },
    {
      "cell_type": "markdown",
      "source": [
        "#### 1. Properties (Attributes)\n",
        "Properties are **variables** that belong to a class or an instance of a class.  \n",
        "They describe **what the object knows**, its characteristics or state. For example, the brand, color, fuel level, engine type etc. of a Car.\n",
        "\n",
        "- Class attribute: Some attributes can be the same across all objects/instances of a type, such attributes are known as **class attributes**\n",
        "- Instance attribute: Attributes that can vary across instances are called **instance attributes\n",
        "\n",
        "Attributes can be of three types based on the type of access that is available from outside the instance of a class:\n",
        "1. Public: can accessed and modified from outside the class\n",
        "2. Protected: can be accessed, but direct external access and modification is extremely discouraged and can lead to unexpected behaviour\n",
        "3. Private: attributes that can be accessed from outside the instance.\n",
        "\n",
        "*More on this later.*"
      ],
      "metadata": {
        "id": "R5iJymGv0ibQ"
      }
    },
    {
      "cell_type": "markdown",
      "source": [
        "#### 2. Methods\n",
        "Methods are **functions defined inside a class**. They describe **what the object can do**, its behaviors or actions. For example, a Car can accelerate, brake, steer left and right, sound its horn etc.\n",
        "\n",
        "Methods are grouped into some types based on how they work and how they access data:\n",
        "1. **Instance Methods**: work with individual objects\n",
        "2. **Class Methods**: work with the class itself, not specific objects\n",
        "3. **Static Methods**: do not depend on class or instance data; utility functions\n",
        "\n",
        "*More on this later.*"
      ],
      "metadata": {
        "id": "Mx-c7L100kV7"
      }
    },
    {
      "cell_type": "markdown",
      "source": [
        "### The four principles of OOP\n",
        "\n",
        "#### 1. Encapsulation\n",
        "Encapsulation means bundling data and methods together inside a class, while restricting direct access to some of the data. For example, a car's controls let you accelerate or brake, but you can't directly access or modify the internal engine mechanism.\n",
        "\n",
        "#### 2. Abstraction\n",
        "Abstraction means showing only the necessary details and hiding complex internal logic. For example you know that turning the steering wheel turns the car, you do not need to know how the steering wheel does this.\n",
        "\n",
        "#### 3. Inheritance\n",
        "Inheritance allows one class (the child, also called sub-class) to reuse and extend the functionality of another class (the parent, also called super-class). For example, there could be a Vehicle class (parent), which could be extended to Car and Bike classes (these are child classes). Car and Bike would inherit some of the properties of the Vehicle class and they might also add and modify some functionalities of the Vehicle class.\n",
        "\n",
        "#### 4. Polymorphism\n",
        "Polymorphism means \"many forms\" — different objects can use the same method name but behave differently. For example, different Car objects could have the same method named horn, but the sound of the horn can be different across Cars."
      ],
      "metadata": {
        "id": "NWrh4dGdyXqp"
      }
    },
    {
      "cell_type": "markdown",
      "source": [
        "# OOP in Python\n",
        "Python is an object-oriented language. Everything is an object in Python. We can define classes in Python, instantiate objects of different classes, make sub-classes by extending or modifying existing classes."
      ],
      "metadata": {
        "id": "RYCfodJqOpT6"
      }
    },
    {
      "cell_type": "markdown",
      "source": [
        "## Defining a class\n",
        "To define a class, we use the `class` keyword:"
      ],
      "metadata": {
        "id": "vf-GQc9uT4cI"
      }
    },
    {
      "cell_type": "code",
      "execution_count": 1,
      "metadata": {
        "id": "xnARfYK3_9xg"
      },
      "outputs": [],
      "source": [
        "class Car:\n",
        "    class_var = \"I am shared by all instances\"    # class attribute/property, optional\n",
        "\n",
        "    def __init__(self, brand, model):    # the __init__() method defines how a class is constructed\n",
        "        self.brand = brand    # instance attribute\n",
        "        self.model = model    # instance attribute\n",
        "\n",
        "        test_var = \"testing\"    # wrong way to assign attributes\n",
        "        # values such as the above can not be accessed outside of the class\n",
        "        # such values are used for intermediate calculations only\n",
        "\n",
        "    def show_info(self):    # this is a method\n",
        "        return f\"This car is a {self.brand} {self.model}\"\n",
        "        # here, self means that the object is refering to itself when performing some task"
      ]
    },
    {
      "cell_type": "code",
      "source": [
        "# Creating objects (instances)\n",
        "car1 = Car(\"Toyota\", \"Mark ii\")\n",
        "car2 = Car(\"Honda\", \"Civic\")"
      ],
      "metadata": {
        "id": "WrLD7jnbPtUI"
      },
      "execution_count": 2,
      "outputs": []
    },
    {
      "cell_type": "code",
      "source": [
        "car1.show_info()"
      ],
      "metadata": {
        "colab": {
          "base_uri": "https://localhost:8080/",
          "height": 35
        },
        "id": "OVqMfpkCQ73Z",
        "outputId": "d02d6576-91c2-41c8-dad8-e36bb6c86c51"
      },
      "execution_count": 3,
      "outputs": [
        {
          "output_type": "execute_result",
          "data": {
            "text/plain": [
              "'This car is a Toyota Mark ii'"
            ],
            "application/vnd.google.colaboratory.intrinsic+json": {
              "type": "string"
            }
          },
          "metadata": {},
          "execution_count": 3
        }
      ]
    },
    {
      "cell_type": "code",
      "source": [
        "car2.show_info()"
      ],
      "metadata": {
        "colab": {
          "base_uri": "https://localhost:8080/",
          "height": 35
        },
        "id": "MwXEymy4Q99X",
        "outputId": "5fa71df2-66f1-452f-df9e-5497fd893d8a"
      },
      "execution_count": 4,
      "outputs": [
        {
          "output_type": "execute_result",
          "data": {
            "text/plain": [
              "'This car is a Honda Civic'"
            ],
            "application/vnd.google.colaboratory.intrinsic+json": {
              "type": "string"
            }
          },
          "metadata": {},
          "execution_count": 4
        }
      ]
    },
    {
      "cell_type": "code",
      "source": [
        "car1.class_var"
      ],
      "metadata": {
        "colab": {
          "base_uri": "https://localhost:8080/",
          "height": 35
        },
        "id": "kY0OEFICZx-Z",
        "outputId": "dd924c1b-2356-4c0c-97d2-a553046203f0"
      },
      "execution_count": 5,
      "outputs": [
        {
          "output_type": "execute_result",
          "data": {
            "text/plain": [
              "'I am shared by all instances'"
            ],
            "application/vnd.google.colaboratory.intrinsic+json": {
              "type": "string"
            }
          },
          "metadata": {},
          "execution_count": 5
        }
      ]
    },
    {
      "cell_type": "code",
      "source": [
        "# car1.test_var    # this will throw an error"
      ],
      "metadata": {
        "id": "HjwX9VSlagLv"
      },
      "execution_count": 6,
      "outputs": []
    },
    {
      "cell_type": "code",
      "source": [
        "# Car.test_var    # this will throw an error"
      ],
      "metadata": {
        "id": "4pggnVzpbuke"
      },
      "execution_count": 7,
      "outputs": []
    },
    {
      "cell_type": "code",
      "source": [
        "car2.class_var"
      ],
      "metadata": {
        "colab": {
          "base_uri": "https://localhost:8080/",
          "height": 35
        },
        "id": "lWsqdDAzZ0lz",
        "outputId": "84736e8b-6df9-4afb-cd18-3871cffc3dc5"
      },
      "execution_count": 8,
      "outputs": [
        {
          "output_type": "execute_result",
          "data": {
            "text/plain": [
              "'I am shared by all instances'"
            ],
            "application/vnd.google.colaboratory.intrinsic+json": {
              "type": "string"
            }
          },
          "metadata": {},
          "execution_count": 8
        }
      ]
    },
    {
      "cell_type": "code",
      "source": [
        "Car.show_info(car1)"
      ],
      "metadata": {
        "colab": {
          "base_uri": "https://localhost:8080/",
          "height": 35
        },
        "id": "83kCSqIXZ3Ba",
        "outputId": "872fa9f8-11d5-40c4-e506-8702f23a9d5c"
      },
      "execution_count": 9,
      "outputs": [
        {
          "output_type": "execute_result",
          "data": {
            "text/plain": [
              "'This car is a Toyota Mark ii'"
            ],
            "application/vnd.google.colaboratory.intrinsic+json": {
              "type": "string"
            }
          },
          "metadata": {},
          "execution_count": 9
        }
      ]
    },
    {
      "cell_type": "code",
      "source": [
        "Car.show_info(car2)"
      ],
      "metadata": {
        "colab": {
          "base_uri": "https://localhost:8080/",
          "height": 35
        },
        "id": "gOxob5QtZ6Sj",
        "outputId": "127d9f94-66d3-4655-e933-619f848390a1"
      },
      "execution_count": 10,
      "outputs": [
        {
          "output_type": "execute_result",
          "data": {
            "text/plain": [
              "'This car is a Honda Civic'"
            ],
            "application/vnd.google.colaboratory.intrinsic+json": {
              "type": "string"
            }
          },
          "metadata": {},
          "execution_count": 10
        }
      ]
    },
    {
      "cell_type": "markdown",
      "source": [
        "In the above codes, there are some new concepts such as the `__init__()` method, the `self` keyword etc.\n",
        "\n",
        "### The `__init()__` method\n",
        "\n",
        "The `__init__` method is one of the most important parts of a Python class. It is known as the **constructor**, and it is automatically called **when a new object of the class is created**. In simple terms, `__init__` is used to **initialize (set up)** the object's data, that is, assign values to its properties (attributes).\n",
        "\n",
        "- The first argument is always self, which represents the instance being created\n",
        "- Other arguments are values you want to use for initializing the object\n",
        "\n",
        "`.__init__()` automatically runs when `Car(\"Toyota\", \"Corolla\")` is executed. The parameters `(brand, model)` are assigned to instance variables through `self`."
      ],
      "metadata": {
        "id": "0mn4kxSrTN-X"
      }
    },
    {
      "cell_type": "markdown",
      "source": [
        "### The `self` keyword\n",
        "In Python, the word `self` plays a crucial role inside class definitions. It refers to the **current instance (object)** of the class.\n",
        "\n",
        "When you define or access attributes and methods inside a class, `self` ensures you are referring to that specific object's data, not some shared or unrelated variable."
      ],
      "metadata": {
        "id": "V52kCr75UbAH"
      }
    },
    {
      "cell_type": "markdown",
      "source": [
        "#### 1. `self` in Class Methods\n",
        "\n",
        "When defining a method inside a class, the first parameter is conventionally named `self`. It represents the **object that is calling the method**. For example, `car1.show_info()` is equivalent to `Car.show_info(car1)`, here `self` is `car1`."
      ],
      "metadata": {
        "id": "bR--4UC9UyJo"
      }
    },
    {
      "cell_type": "markdown",
      "source": [
        "#### 2. `self` in Properties (Attributes)\n",
        "\n",
        "When defining or accessing attributes, you must use `self` to tell Python that the variable belongs to the instance, not to the class itself or to the local function scope. For example:\n",
        "\n",
        "```\n",
        "class Car:\n",
        "    class_var = \"I am shared by all instances\"\n",
        "\n",
        "    def __init__(self, brand, model):\n",
        "        self.brand = brand\n",
        "        self.model = model\n",
        "\n",
        "        test_var = \"testing\"\n",
        "```\n",
        "\n",
        "In the above code, `class_var` is a class attribute that belong to the `Car` class, it is the same for all objects of this class. `self.brand` and `self.model` are object attributes, they vary across objects/instance. Finally, `test_var` is a local variable under the scope of the `.__init__()` method. Such local variables can not be accessed from outside the class definition, they can only be used for intermediate calculations or processing while an object of this class is created."
      ],
      "metadata": {
        "id": "qo93mZrSu00F"
      }
    },
    {
      "cell_type": "markdown",
      "source": [
        "### Attribute types in Python\n",
        "\n",
        "- Class attribute\n",
        "- Instance attribute\n",
        "\n",
        "\n",
        "1. Public\n",
        "2. Protected\n",
        "3. Private\n"
      ],
      "metadata": {
        "id": "JXjsWTYY0thj"
      }
    },
    {
      "cell_type": "markdown",
      "source": [
        "### Method types in Python\n",
        "\n",
        "1. Instance\n",
        "2. Class method\n",
        "3. Static methods"
      ],
      "metadata": {
        "id": "1WMnnF4-066I"
      }
    },
    {
      "cell_type": "code",
      "source": [
        "# TODO: add inheritance, polymorphism\n",
        "# add getters and setters\n",
        "# need to discuss decorators\n",
        "# default values of arguments to __init__() just like functions\n",
        "# method overloading, __add__(), __str__(), __repr__()"
      ],
      "metadata": {
        "id": "Bj7XAbACQ-Zv"
      },
      "execution_count": 11,
      "outputs": []
    }
  ]
}