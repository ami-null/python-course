{
  "nbformat": 4,
  "nbformat_minor": 0,
  "metadata": {
    "colab": {
      "provenance": [],
      "toc_visible": true
    },
    "kernelspec": {
      "name": "python3",
      "display_name": "Python 3"
    },
    "language_info": {
      "name": "python"
    }
  },
  "cells": [
    {
      "cell_type": "markdown",
      "source": [
        "# Object-Oriented Programming (OOP)\n",
        "\n",
        "Object-Oriented Programming (OOP) is one of the most powerful and widely used paradigms in modern software development. Programming paradigms are styles or ways of programming, they represent different ways of thinking about and organizing code.\n",
        "\n",
        "## Introduction to OOP\n",
        "**Object-Oriented Programming (OOP)** is based on the concept of \"objects\". Objects are entities that contain both data and behavior.\n",
        "\n",
        "Why OOP?\n",
        "- Helps structure complex programs  \n",
        "- Promotes code reusability  \n",
        "- Makes code easier to maintain and debug  \n",
        "- Allows you to model real-world entities directly"
      ],
      "metadata": {
        "id": "r_mb1bWqBstS"
      }
    },
    {
      "cell_type": "markdown",
      "source": [
        "\n",
        "## Some core concepts in OOP\n",
        "\n",
        "- Class\n",
        "- Object/instance\n",
        "- Properties and methods\n",
        "- Four principles in OOP:\n",
        "  1. Encapsulation\n",
        "  2. Abstraction\n",
        "  3. Inheritance\n",
        "  4. Polymorphism"
      ],
      "metadata": {
        "id": "iCLsM6260ZEj"
      }
    },
    {
      "cell_type": "markdown",
      "source": [
        "### Class\n",
        "A **class** is a blueprint or template for creating objects. It defines what data (attributes) and behaviors (methods) the objects will have. Think of a **class** as an architect's blueprint for a house, it defines the structure, but no physical house exists until you build one."
      ],
      "metadata": {
        "id": "JAKsCpIb0boz"
      }
    },
    {
      "cell_type": "markdown",
      "source": [
        "### Instance/Object\n",
        "An object (or instance) is a specific example created from a class. Each object can have its own data, even though they share the same class structure.\n",
        "\n",
        "For example, if Cars is a class, then BMW M3, Toyota Mark ii etc. are objects of class Car, in other words, these objects are individual instance of the Car class. They share some basic properties and abilities, but have their own invidividual charactertistics too."
      ],
      "metadata": {
        "id": "bfwHbilm0eQD"
      }
    },
    {
      "cell_type": "markdown",
      "source": [
        "### Properties and methods\n",
        "In a class, there are two main kinds of members:\n",
        "1. **Properties (Attributes)** — represent the data or state of an object  \n",
        "2. **Methods (Functions)** — represent the behavior or actions an object can perform."
      ],
      "metadata": {
        "id": "4xCGMM1n0gOI"
      }
    },
    {
      "cell_type": "markdown",
      "source": [
        "#### 1. Properties (Attributes)\n",
        "Properties are **variables** that belong to a class or an instance of a class.  \n",
        "They describe **what the object knows**, its characteristics or state. For example, the brand, color, fuel level, engine type etc. of a Car.\n",
        "\n",
        "- Class attribute: Some attributes can be the same across all objects/instances of a type, such attributes are known as **class attributes**\n",
        "- Instance attribute: Attributes that can vary across instances are called **instance attributes\n",
        "\n",
        "Attributes can be of three types based on the type of access that is available from outside the instance of a class:\n",
        "1. Public: can accessed and modified from outside the class\n",
        "2. Protected: can be accessed, but direct external access and modification is extremely discouraged and can lead to unexpected behaviour\n",
        "3. Private: attributes that can be accessed from outside the instance.\n",
        "\n",
        "*More on this later.*"
      ],
      "metadata": {
        "id": "R5iJymGv0ibQ"
      }
    },
    {
      "cell_type": "markdown",
      "source": [
        "#### 2. Methods\n",
        "Methods are **functions defined inside a class**. They describe **what the object can do**, its behaviors or actions. For example, a Car can accelerate, brake, steer left and right, sound its horn etc.\n",
        "\n",
        "Methods are grouped into some types based on how they work and how they access data:\n",
        "1. **Instance Methods**: work with individual objects\n",
        "2. **Class Methods**: work with the class itself, not specific objects\n",
        "3. **Static Methods**: do not depend on class or instance data; utility functions\n",
        "\n",
        "*More on this later.*"
      ],
      "metadata": {
        "id": "Mx-c7L100kV7"
      }
    },
    {
      "cell_type": "markdown",
      "source": [
        "### The four principles of OOP\n",
        "\n",
        "#### 1. Encapsulation\n",
        "Encapsulation means bundling data and methods together inside a class, while restricting direct access to some of the data. For example, a car's controls let you accelerate or brake, but you can't directly access or modify the internal engine mechanism.\n",
        "\n",
        "#### 2. Abstraction\n",
        "Abstraction means showing only the necessary details and hiding complex internal logic. For example you know that turning the steering wheel turns the car, you do not need to know how the steering wheel does this.\n",
        "\n",
        "#### 3. Inheritance\n",
        "Inheritance allows one class (the child, also called sub-class) to reuse and extend the functionality of another class (the parent, also called super-class). For example, there could be a Vehicle class (parent), which could be extended to Car and Bike classes (these are child classes). Car and Bike would inherit some of the properties of the Vehicle class and they might also add and modify some functionalities of the Vehicle class.\n",
        "\n",
        "#### 4. Polymorphism\n",
        "Polymorphism means \"many forms\" — different objects can use the same method name but behave differently. For example, different Car objects could have the same method named horn, but the sound of the horn can be different across Cars."
      ],
      "metadata": {
        "id": "NWrh4dGdyXqp"
      }
    },
    {
      "cell_type": "markdown",
      "source": [
        "# OOP in Python\n",
        "Python is an object-oriented language. Everything is an object in Python. We can define classes in Python, instantiate objects of different classes, make sub-classes by extending or modifying existing classes."
      ],
      "metadata": {
        "id": "RYCfodJqOpT6"
      }
    },
    {
      "cell_type": "markdown",
      "source": [
        "## Defining a class\n",
        "To define a class, we use the `class` keyword:"
      ],
      "metadata": {
        "id": "vf-GQc9uT4cI"
      }
    },
    {
      "cell_type": "code",
      "execution_count": null,
      "metadata": {
        "id": "xnARfYK3_9xg"
      },
      "outputs": [],
      "source": [
        "# defining a class:\n",
        "\n",
        "class Car:\n",
        "    class_var = \"I am shared by all instances\"    # class attribute/property, optional\n",
        "\n",
        "    def __init__(self, brand, model):    # the __init__() method defines how a class is constructed\n",
        "        self.brand = brand    # instance attribute, public\n",
        "        self.model = model    # instance attribute, public\n",
        "\n",
        "        self._protected1 = \"protected attribute 1\"    # instance attribute, protected\n",
        "        # the names of protected attributes start with an underscore (_) by convention\n",
        "        # it is not necessary to put the word \"protected\" in the name, it is for illustration purpose only\n",
        "\n",
        "        self.__private1 = \"private attribute 1\"    # instance attribute, private\n",
        "        # the names of protected attributes start with two underscores (__)\n",
        "        # when Python sees an attribute name starting with two underscores,\n",
        "        # it changes the name silently in the background:\n",
        "        # for example, __priate1 becomes _Car__private1\n",
        "        # this is called name mangling in Python\n",
        "\n",
        "        test_var = \"testing\"    # this is not an attribute\n",
        "        # rather, it is a local variable inside the scope of this init method.\n",
        "        # values such as the above can not be accessed outside of the class\n",
        "        # such values are used for intermediate calculations only\n",
        "\n",
        "    def show_info(self):    # this is a method\n",
        "        return f\"This car is a {self.brand} {self.model}\"\n",
        "        # here, self means that the object is refering to itself when performing some task"
      ]
    },
    {
      "cell_type": "code",
      "source": [
        "# Creating objects (instances), also known as instantiating:\n",
        "car1 = Car(\"Toyota\", \"Mark ii\")\n",
        "car2 = Car(\"Honda\", \"Civic\")"
      ],
      "metadata": {
        "id": "WrLD7jnbPtUI"
      },
      "execution_count": null,
      "outputs": []
    },
    {
      "cell_type": "code",
      "source": [
        "dir(car1)"
      ],
      "metadata": {
        "colab": {
          "base_uri": "https://localhost:8080/"
        },
        "id": "gV0reAAvpXhy",
        "outputId": "b3d8da91-ecfb-4260-e7c0-15b954a6228e"
      },
      "execution_count": null,
      "outputs": [
        {
          "output_type": "execute_result",
          "data": {
            "text/plain": [
              "['_Car__private1',\n",
              " '__class__',\n",
              " '__delattr__',\n",
              " '__dict__',\n",
              " '__dir__',\n",
              " '__doc__',\n",
              " '__eq__',\n",
              " '__format__',\n",
              " '__ge__',\n",
              " '__getattribute__',\n",
              " '__getstate__',\n",
              " '__gt__',\n",
              " '__hash__',\n",
              " '__init__',\n",
              " '__init_subclass__',\n",
              " '__le__',\n",
              " '__lt__',\n",
              " '__module__',\n",
              " '__ne__',\n",
              " '__new__',\n",
              " '__reduce__',\n",
              " '__reduce_ex__',\n",
              " '__repr__',\n",
              " '__setattr__',\n",
              " '__sizeof__',\n",
              " '__str__',\n",
              " '__subclasshook__',\n",
              " '__weakref__',\n",
              " '_protected1',\n",
              " 'brand',\n",
              " 'class_var',\n",
              " 'model',\n",
              " 'show_info']"
            ]
          },
          "metadata": {},
          "execution_count": 3
        }
      ]
    },
    {
      "cell_type": "code",
      "source": [
        "# accesing object attributes\n",
        "print(car1.brand)\n",
        "print(car2.brand)"
      ],
      "metadata": {
        "colab": {
          "base_uri": "https://localhost:8080/"
        },
        "id": "upMJzNYPuEHU",
        "outputId": "7552c24c-2ee0-40f0-e069-04ede5374b9e"
      },
      "execution_count": null,
      "outputs": [
        {
          "output_type": "stream",
          "name": "stdout",
          "text": [
            "Toyota\n",
            "Honda\n"
          ]
        }
      ]
    },
    {
      "cell_type": "code",
      "source": [
        "print(car1.model)\n",
        "print(car2.model)"
      ],
      "metadata": {
        "colab": {
          "base_uri": "https://localhost:8080/"
        },
        "id": "MA4FKiOyuJiF",
        "outputId": "fc7152b2-7e50-4e97-b1a1-ea8a3e43dcdd"
      },
      "execution_count": null,
      "outputs": [
        {
          "output_type": "stream",
          "name": "stdout",
          "text": [
            "Mark ii\n",
            "Civic\n"
          ]
        }
      ]
    },
    {
      "cell_type": "code",
      "source": [
        "# modifying attributes\n",
        "car2.brand = \"Nissan\"\n",
        "car2.model = \"NSX\""
      ],
      "metadata": {
        "id": "7_6ZpJvJuLT5"
      },
      "execution_count": null,
      "outputs": []
    },
    {
      "cell_type": "code",
      "source": [
        "print(car2.brand)\n",
        "print(car2.model)"
      ],
      "metadata": {
        "colab": {
          "base_uri": "https://localhost:8080/"
        },
        "id": "0L3_16wsuj8m",
        "outputId": "f0e49d4b-7145-406c-c7b9-026196a3040f"
      },
      "execution_count": null,
      "outputs": [
        {
          "output_type": "stream",
          "name": "stdout",
          "text": [
            "Nissan\n",
            "NSX\n"
          ]
        }
      ]
    },
    {
      "cell_type": "code",
      "source": [
        "# accessing class attributes:\n",
        "car1.class_var"
      ],
      "metadata": {
        "colab": {
          "base_uri": "https://localhost:8080/",
          "height": 36
        },
        "id": "kY0OEFICZx-Z",
        "outputId": "01591ce4-777a-4ebe-a44c-c390ce00efc0"
      },
      "execution_count": null,
      "outputs": [
        {
          "output_type": "execute_result",
          "data": {
            "text/plain": [
              "'I am shared by all instances'"
            ],
            "application/vnd.google.colaboratory.intrinsic+json": {
              "type": "string"
            }
          },
          "metadata": {},
          "execution_count": 8
        }
      ]
    },
    {
      "cell_type": "code",
      "source": [
        "Car.class_var"
      ],
      "metadata": {
        "colab": {
          "base_uri": "https://localhost:8080/"
        },
        "id": "whIZBdCauBST",
        "outputId": "2b03416a-e8df-46e8-9af9-b5a5d02a2640"
      },
      "execution_count": null,
      "outputs": [
        {
          "output_type": "execute_result",
          "data": {
            "text/plain": [
              "'I am shared by all instances'"
            ],
            "application/vnd.google.colaboratory.intrinsic+json": {
              "type": "string"
            }
          },
          "metadata": {},
          "execution_count": 9
        }
      ]
    },
    {
      "cell_type": "code",
      "source": [
        "# car1.test_var    # this will throw an error"
      ],
      "metadata": {
        "id": "HjwX9VSlagLv"
      },
      "execution_count": null,
      "outputs": []
    },
    {
      "cell_type": "code",
      "source": [
        "# Car.test_var    # this will throw an error"
      ],
      "metadata": {
        "id": "4pggnVzpbuke"
      },
      "execution_count": null,
      "outputs": []
    },
    {
      "cell_type": "code",
      "source": [
        "# accesing class attributes\n",
        "car2.class_var"
      ],
      "metadata": {
        "colab": {
          "base_uri": "https://localhost:8080/"
        },
        "id": "lWsqdDAzZ0lz",
        "outputId": "4d75af3a-b87d-4cdb-d60e-e79362940b59"
      },
      "execution_count": null,
      "outputs": [
        {
          "output_type": "execute_result",
          "data": {
            "text/plain": [
              "'I am shared by all instances'"
            ],
            "application/vnd.google.colaboratory.intrinsic+json": {
              "type": "string"
            }
          },
          "metadata": {},
          "execution_count": 12
        }
      ]
    },
    {
      "cell_type": "code",
      "source": [
        "# calling instance methods\n",
        "car1.show_info()    # this is same as calling Car.show_info(car1)"
      ],
      "metadata": {
        "colab": {
          "base_uri": "https://localhost:8080/"
        },
        "id": "OVqMfpkCQ73Z",
        "outputId": "41429648-bb14-4258-f7c2-9237d4d98d47"
      },
      "execution_count": null,
      "outputs": [
        {
          "output_type": "execute_result",
          "data": {
            "text/plain": [
              "'This car is a Toyota Mark ii'"
            ],
            "application/vnd.google.colaboratory.intrinsic+json": {
              "type": "string"
            }
          },
          "metadata": {},
          "execution_count": 13
        }
      ]
    },
    {
      "cell_type": "code",
      "source": [
        "car2.show_info()    # this is same as calling Car.show_info(car1)"
      ],
      "metadata": {
        "colab": {
          "base_uri": "https://localhost:8080/"
        },
        "id": "MwXEymy4Q99X",
        "outputId": "6a8e194b-a7ad-4415-a7d2-6d0d36b0d588"
      },
      "execution_count": null,
      "outputs": [
        {
          "output_type": "execute_result",
          "data": {
            "text/plain": [
              "'This car is a Nissan NSX'"
            ],
            "application/vnd.google.colaboratory.intrinsic+json": {
              "type": "string"
            }
          },
          "metadata": {},
          "execution_count": 14
        }
      ]
    },
    {
      "cell_type": "code",
      "source": [
        "Car.show_info(car1)"
      ],
      "metadata": {
        "colab": {
          "base_uri": "https://localhost:8080/"
        },
        "id": "83kCSqIXZ3Ba",
        "outputId": "6735d560-3409-48ed-b9db-08b2fd5fd3cc"
      },
      "execution_count": null,
      "outputs": [
        {
          "output_type": "execute_result",
          "data": {
            "text/plain": [
              "'This car is a Toyota Mark ii'"
            ],
            "application/vnd.google.colaboratory.intrinsic+json": {
              "type": "string"
            }
          },
          "metadata": {},
          "execution_count": 15
        }
      ]
    },
    {
      "cell_type": "code",
      "source": [
        "Car.show_info(car2)"
      ],
      "metadata": {
        "colab": {
          "base_uri": "https://localhost:8080/"
        },
        "id": "gOxob5QtZ6Sj",
        "outputId": "ccc697ef-d2bf-45e2-b25f-d8d581ce42c1"
      },
      "execution_count": null,
      "outputs": [
        {
          "output_type": "execute_result",
          "data": {
            "text/plain": [
              "'This car is a Nissan NSX'"
            ],
            "application/vnd.google.colaboratory.intrinsic+json": {
              "type": "string"
            }
          },
          "metadata": {},
          "execution_count": 16
        }
      ]
    },
    {
      "cell_type": "markdown",
      "source": [
        "In the above codes, there are some new concepts such as the `__init__()` method, the `self` keyword etc.\n",
        "\n",
        "### The `__init()__` method\n",
        "\n",
        "The `__init__` method is one of the most important parts of a Python class. It is known as the **constructor**, and it is automatically called **when a new object of the class is created**. In simple terms, `__init__` is used to **initialize (set up)** the object's data, that is, assign values to its properties (attributes).\n",
        "\n",
        "- The first argument is always self, which represents the instance being created\n",
        "- Other arguments are values you want to use for initializing the object\n",
        "\n",
        "`.__init__()` automatically runs when `Car(\"Toyota\", \"Corolla\")` is executed. The parameters `(brand, model)` are assigned to instance variables through `self`."
      ],
      "metadata": {
        "id": "0mn4kxSrTN-X"
      }
    },
    {
      "cell_type": "markdown",
      "source": [
        "### The `self` keyword\n",
        "In Python, the word `self` plays a crucial role inside class definitions. It refers to the **current instance (object)** of the class.\n",
        "\n",
        "When you define or access attributes and methods inside a class, `self` ensures you are referring to that specific object's data, not some shared or unrelated variable."
      ],
      "metadata": {
        "id": "V52kCr75UbAH"
      }
    },
    {
      "cell_type": "markdown",
      "source": [
        "#### 1. `self` in Class Methods\n",
        "\n",
        "When defining a method inside a class, the first parameter is conventionally named `self`. It represents the **object that is calling the method**. For example, `car1.show_info()` is equivalent to `Car.show_info(car1)`, here `self` is `car1`."
      ],
      "metadata": {
        "id": "bR--4UC9UyJo"
      }
    },
    {
      "cell_type": "markdown",
      "source": [
        "#### 2. `self` in Properties (Attributes)\n",
        "\n",
        "When defining or accessing attributes, you must use `self` to tell Python that the variable belongs to the instance, not to the class itself or to the local function scope. For example:\n",
        "\n",
        "```\n",
        "class Car:\n",
        "    class_var = \"I am shared by all instances\"\n",
        "\n",
        "    def __init__(self, brand, model):\n",
        "        self.brand = brand\n",
        "        self.model = model\n",
        "\n",
        "        test_var = \"testing\"\n",
        "```\n",
        "\n",
        "In the above code, `class_var` is a class attribute that belong to the `Car` class, it is the same for all objects of this class.\n",
        "\n",
        "`self.brand` and `self.model` are object attributes, they vary across objects/instance. If we do not put `self.` in their names, they would become local variables inside the `__init__()` method, and they would no longer be accessible from outside a Car object, due to being a local variable.\n",
        "\n",
        "Finally, `test_var` is a local variable under the scope of the `.__init__()` method. Such local variables can not be accessed from outside the class definition, they can only be used for intermediate calculations or processing while an object of this class is created."
      ],
      "metadata": {
        "id": "qo93mZrSu00F"
      }
    },
    {
      "cell_type": "markdown",
      "source": [
        "### Attribute types in Python\n",
        "\n",
        "Based on ownership:\n",
        "- Class attribute\n",
        "- Instance attribute\n",
        "\n",
        "\n",
        "Based on access control:\n",
        "1. Public\n",
        "2. Protected\n",
        "3. Private"
      ],
      "metadata": {
        "id": "JXjsWTYY0thj"
      }
    },
    {
      "cell_type": "markdown",
      "source": [
        "#### Class attribute and instance attribute\n",
        "\n",
        "```\n",
        "class Car:\n",
        "    class_var = \"I am shared by all instances\"\n",
        "\n",
        "    def __init__(self, brand, model):\n",
        "        self.brand = brand\n",
        "        self.model = model\n",
        "\n",
        "        test_var = \"testing\"\n",
        "```\n",
        "\n",
        "In the above code, `class_var` is a class attribute that belong to the `Car` class, it is the same for all objects of this class.\n",
        "\n",
        "`self.brand` and `self.model` are object attributes, they vary across objects/instance."
      ],
      "metadata": {
        "id": "MGRHkrRtlE7G"
      }
    },
    {
      "cell_type": "markdown",
      "source": [
        "#### Public, protected, and private attributes\n",
        "\n",
        "By convention, protected attributes\n",
        "\n",
        "```\n",
        "class Car:\n",
        "    class_var = \"I am shared by all instances\"    # class attribute/property, optional\n",
        "\n",
        "    def __init__(self, brand, model):    # the __init__() method defines how a class is constructed\n",
        "        self.brand = brand    # instance attribute, public\n",
        "        self.model = model    # instance attribute, public\n",
        "\n",
        "        self._protected1 = \"protected attribute 1\"    # instance attribute, protected\n",
        "\n",
        "        self.__private1 = \"private attribute 1\"\n",
        "```\n",
        "\n",
        "In the above code:\n",
        "\n",
        "- Public: `.brand` and `.model` are public attributes. They can be accessed and modified from outside the class\n",
        "\n",
        "- Protected: Names start with an underscore. `._protected1` is a protected attribute, they can be accessed and modified from outside the class, however, when a programmer puts an underscore at the start of an attribute's name, it means that the corresponding attribute is supposed to be protected, and accessing/modifying it from outside, is extremely discouraged. It is not necessary to call such attributes \"protected\", putting an underscore at the start of their names, is enough\n",
        "\n",
        "- Private: Names start with two underscores. `.__private1` is a private attribute. Python internally changes its name to `._Car__private1`, this is called name mangling. One does not have to include the word \"private\" in the name, it is for illustration purpose only"
      ],
      "metadata": {
        "id": "Sey-NHink05m"
      }
    },
    {
      "cell_type": "markdown",
      "source": [
        "### Method types in Python\n",
        "\n",
        "1. Instance\n",
        "2. Class method\n",
        "3. Static methods"
      ],
      "metadata": {
        "id": "1WMnnF4-066I"
      }
    },
    {
      "cell_type": "code",
      "source": [
        "# TODO: add inheritance, polymorphism with examples\n",
        "# add getters and setters\n",
        "# need to discuss decorators\n",
        "# need to discuss dataclasses\n",
        "# default values of arguments to __init__() just like functions\n",
        "# method overloading and other methods like __add__(), __str__(), __repr__()"
      ],
      "metadata": {
        "id": "Bj7XAbACQ-Zv"
      },
      "execution_count": null,
      "outputs": []
    }
  ]
}