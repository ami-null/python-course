{
  "nbformat": 4,
  "nbformat_minor": 0,
  "metadata": {
    "colab": {
      "provenance": []
    },
    "kernelspec": {
      "name": "python3",
      "display_name": "Python 3"
    },
    "language_info": {
      "name": "python"
    }
  },
  "cells": [
    {
      "cell_type": "markdown",
      "source": [
        "# Object-Oriented Programming (OOP)\n",
        "\n",
        "Object-Oriented Programming (OOP) is one of the most powerful and widely used paradigms in modern software development. Programming paradigms are styles or ways of programming, they represent different ways of thinking about and organizing code.\n",
        "\n",
        "## Introduction to OOP\n",
        "**Object-Oriented Programming (OOP)** is based on the concept of \"objects\". Objects are entities that contain both data and behavior.\n",
        "\n",
        "Why OOP?\n",
        "- Helps structure complex programs  \n",
        "- Promotes code reusability  \n",
        "- Makes code easier to maintain and debug  \n",
        "- Allows you to model real-world entities directly"
      ],
      "metadata": {
        "id": "r_mb1bWqBstS"
      }
    },
    {
      "cell_type": "markdown",
      "source": [
        "\n",
        "## Some core concepts in OOP\n",
        "\n",
        "- Class\n",
        "- Object/instance\n",
        "- Properties and methods\n",
        "- Four principles in OOP:\n",
        "  1. Encapsulation\n",
        "  2. Abstraction\n",
        "  3. Inheritance\n",
        "  4. Polymorphism"
      ],
      "metadata": {
        "id": "iCLsM6260ZEj"
      }
    },
    {
      "cell_type": "markdown",
      "source": [
        "### Class\n",
        "A **class** is a blueprint or template for creating objects. It defines what data (attributes) and behaviors (methods) the objects will have. Think of a **class** as an architect's blueprint for a house, it defines the structure, but no physical house exists until you build one."
      ],
      "metadata": {
        "id": "JAKsCpIb0boz"
      }
    },
    {
      "cell_type": "markdown",
      "source": [
        "### Instance/Object\n",
        "An object (or instance) is a specific example created from a class. Each object can have its own data, even though they share the same class structure.\n",
        "\n",
        "For example, if Cars is a class, then BMW M3, Toyota Mark ii etc. are objects of class Car, in other words, these objects are individual instance of the Car class. They share some basic properties and abilities, but have their own invidividual charactertistics too."
      ],
      "metadata": {
        "id": "bfwHbilm0eQD"
      }
    },
    {
      "cell_type": "markdown",
      "source": [
        "### Properties and methods\n",
        "In a class, there are two main kinds of members:\n",
        "1. **Properties (Attributes)**: represent the data or state of an object  \n",
        "2. **Methods (Functions)**: represent the behavior or actions an object can perform."
      ],
      "metadata": {
        "id": "4xCGMM1n0gOI"
      }
    },
    {
      "cell_type": "markdown",
      "source": [
        "#### 1. Properties (Attributes)\n",
        "Properties are **variables** that belong to a class or an instance of a class.  \n",
        "They describe **what the object knows**, its characteristics or state. For example, the brand, color, fuel level, engine type etc. of a Car.\n",
        "\n",
        "- Class attribute: Some attributes can be the same across all objects/instances of a type, such attributes are known as **class attributes**\n",
        "- Instance attribute: Attributes that can vary across instances are called **instance attributes**\n",
        "\n",
        "Attributes can be of three types based on the type of access that is available from outside the instance of a class:\n",
        "1. Public: can accessed and modified from outside the class\n",
        "2. Protected: can be accessed, but direct external access and modification is extremely discouraged and can lead to unexpected behaviour\n",
        "3. Private: attributes that can be accessed from outside the instance.\n",
        "\n",
        "*More on this later.*"
      ],
      "metadata": {
        "id": "R5iJymGv0ibQ"
      }
    },
    {
      "cell_type": "markdown",
      "source": [
        "#### 2. Methods\n",
        "Methods are **functions defined inside a class**. They describe **what the object can do**, its behaviors or actions. For example, a Car can accelerate, brake, steer left and right, sound its horn etc.\n",
        "\n",
        "Methods are grouped into some types based on how they work and how they access data:\n",
        "1. **Instance Methods**: work with individual objects\n",
        "2. **Class Methods**: work with the class itself, not specific objects\n",
        "3. **Static Methods**: do not depend on class or instance data; utility functions\n",
        "\n",
        "*More on this later.*"
      ],
      "metadata": {
        "id": "Mx-c7L100kV7"
      }
    },
    {
      "cell_type": "markdown",
      "source": [
        "### The four principles of OOP\n",
        "\n",
        "#### 1. Encapsulation\n",
        "Encapsulation means bundling data and methods together inside a class, while restricting direct access to some of the data. For example, a car's controls let you accelerate or brake, but you can't directly access or modify the internal engine mechanism.\n",
        "\n",
        "#### 2. Abstraction\n",
        "Abstraction means showing only the necessary details and hiding complex internal logic. For example you know that turning the steering wheel turns the car, you do not need to know how the steering wheel does this.\n",
        "\n",
        "#### 3. Inheritance\n",
        "Inheritance allows one class (the child, also called sub-class) to reuse and extend the functionality of another class (the parent, also called super-class). For example, there could be a Vehicle class (parent), which could be extended to Car and Bike classes (these are child classes). Car and Bike would inherit some of the properties of the Vehicle class and they might also add and modify some functionalities of the Vehicle class.\n",
        "\n",
        "#### 4. Polymorphism\n",
        "Polymorphism means \"many forms\" — different objects can use the same method name but behave differently. For example, different Car objects could have the same method named horn, but the sound of the horn can be different across Cars."
      ],
      "metadata": {
        "id": "NWrh4dGdyXqp"
      }
    },
    {
      "cell_type": "markdown",
      "source": [
        "# OOP in Python\n",
        "Python is an object-oriented language. Everything is an object in Python. We can define classes in Python, instantiate objects of different classes, make sub-classes by extending or modifying existing classes."
      ],
      "metadata": {
        "id": "RYCfodJqOpT6"
      }
    },
    {
      "cell_type": "markdown",
      "source": [
        "## Defining a class\n",
        "To define a class, we use the `class` keyword:"
      ],
      "metadata": {
        "id": "vf-GQc9uT4cI"
      }
    },
    {
      "cell_type": "code",
      "execution_count": 1,
      "metadata": {
        "id": "xnARfYK3_9xg"
      },
      "outputs": [],
      "source": [
        "# defining a class:\n",
        "\n",
        "class Car:\n",
        "    class_var = \"I am shared by all instances\"    # class attribute/property, optional\n",
        "\n",
        "    def __init__(self, brand, model):    # the __init__() method defines how a class is constructed\n",
        "        self.brand = brand    # instance attribute, public\n",
        "        self.model = model    # instance attribute, public\n",
        "\n",
        "        self._protected1 = \"protected attribute 1\"    # instance attribute, protected\n",
        "        # the names of protected attributes start with an underscore (_) by convention\n",
        "        # it is not necessary to put the word \"protected\" in the name, it is for illustration purpose only\n",
        "\n",
        "        self.__private1 = \"private attribute 1\"    # instance attribute, private\n",
        "        # the names of protected attributes start with two underscores (__)\n",
        "        # when Python sees an attribute name starting with two underscores,\n",
        "        # it changes the name silently in the background:\n",
        "        # for example, __private1 becomes _Car__private1\n",
        "        # this is called name mangling in Python\n",
        "\n",
        "        test_var = \"testing\"    # this is not an attribute\n",
        "        # rather, it is a local variable inside the scope of this init method.\n",
        "        # values such as the above can not be accessed outside of the class\n",
        "        # such values are used for intermediate calculations only\n",
        "\n",
        "    def show_info(self):    # this is a method\n",
        "        return f\"This car is a {self.brand} {self.model}\"\n",
        "        # here, self means that the object is refering to itself when performing some task"
      ]
    },
    {
      "cell_type": "code",
      "source": [
        "# Creating objects (instances), also known as instantiating:\n",
        "car1 = Car(\"Toyota\", \"Mark ii\")\n",
        "car2 = Car(\"BMW\", \"M3 GTR\")"
      ],
      "metadata": {
        "id": "WrLD7jnbPtUI"
      },
      "execution_count": 2,
      "outputs": []
    },
    {
      "cell_type": "code",
      "source": [
        "# dir(car1)"
      ],
      "metadata": {
        "id": "gV0reAAvpXhy"
      },
      "execution_count": 3,
      "outputs": []
    },
    {
      "cell_type": "code",
      "source": [
        "# accesing object attributes\n",
        "print(car1.brand)\n",
        "print(car2.brand)"
      ],
      "metadata": {
        "colab": {
          "base_uri": "https://localhost:8080/"
        },
        "id": "upMJzNYPuEHU",
        "outputId": "09173888-629f-463d-dbd7-945d7b2cc015"
      },
      "execution_count": 4,
      "outputs": [
        {
          "output_type": "stream",
          "name": "stdout",
          "text": [
            "Toyota\n",
            "BMW\n"
          ]
        }
      ]
    },
    {
      "cell_type": "code",
      "source": [
        "print(car1.model)\n",
        "print(car2.model)"
      ],
      "metadata": {
        "colab": {
          "base_uri": "https://localhost:8080/"
        },
        "id": "MA4FKiOyuJiF",
        "outputId": "349773e2-d92d-4702-bfd0-40fef79e11a4"
      },
      "execution_count": 5,
      "outputs": [
        {
          "output_type": "stream",
          "name": "stdout",
          "text": [
            "Mark ii\n",
            "M3 GTR\n"
          ]
        }
      ]
    },
    {
      "cell_type": "code",
      "source": [
        "# modifying attributes\n",
        "car2.brand = \"Nissan\"\n",
        "car2.model = \"NSX\""
      ],
      "metadata": {
        "id": "7_6ZpJvJuLT5"
      },
      "execution_count": 6,
      "outputs": []
    },
    {
      "cell_type": "code",
      "source": [
        "print(car2.brand)\n",
        "print(car2.model)"
      ],
      "metadata": {
        "colab": {
          "base_uri": "https://localhost:8080/"
        },
        "id": "0L3_16wsuj8m",
        "outputId": "c98d5248-548d-4891-96ae-f43523c5af5b"
      },
      "execution_count": 7,
      "outputs": [
        {
          "output_type": "stream",
          "name": "stdout",
          "text": [
            "Nissan\n",
            "NSX\n"
          ]
        }
      ]
    },
    {
      "cell_type": "code",
      "source": [
        "# accessing class attributes:\n",
        "car1.class_var"
      ],
      "metadata": {
        "colab": {
          "base_uri": "https://localhost:8080/",
          "height": 35
        },
        "id": "kY0OEFICZx-Z",
        "outputId": "fab3e534-eab5-4ceb-e84e-d4a8b7dace02"
      },
      "execution_count": 8,
      "outputs": [
        {
          "output_type": "execute_result",
          "data": {
            "text/plain": [
              "'I am shared by all instances'"
            ],
            "application/vnd.google.colaboratory.intrinsic+json": {
              "type": "string"
            }
          },
          "metadata": {},
          "execution_count": 8
        }
      ]
    },
    {
      "cell_type": "code",
      "source": [
        "# accesing class attributes\n",
        "car2.class_var"
      ],
      "metadata": {
        "colab": {
          "base_uri": "https://localhost:8080/",
          "height": 35
        },
        "id": "lWsqdDAzZ0lz",
        "outputId": "810dad17-d51d-4474-912e-015f20dd9212"
      },
      "execution_count": 9,
      "outputs": [
        {
          "output_type": "execute_result",
          "data": {
            "text/plain": [
              "'I am shared by all instances'"
            ],
            "application/vnd.google.colaboratory.intrinsic+json": {
              "type": "string"
            }
          },
          "metadata": {},
          "execution_count": 9
        }
      ]
    },
    {
      "cell_type": "code",
      "source": [
        "# class attribtues can be accessed without referring to any specific objects\n",
        "Car.class_var"
      ],
      "metadata": {
        "colab": {
          "base_uri": "https://localhost:8080/",
          "height": 35
        },
        "id": "whIZBdCauBST",
        "outputId": "e5c2d210-a94f-4ae2-a198-06ce8195063a"
      },
      "execution_count": 10,
      "outputs": [
        {
          "output_type": "execute_result",
          "data": {
            "text/plain": [
              "'I am shared by all instances'"
            ],
            "application/vnd.google.colaboratory.intrinsic+json": {
              "type": "string"
            }
          },
          "metadata": {},
          "execution_count": 10
        }
      ]
    },
    {
      "cell_type": "code",
      "source": [
        "# car1.test_var    # this will throw an error"
      ],
      "metadata": {
        "id": "HjwX9VSlagLv"
      },
      "execution_count": 11,
      "outputs": []
    },
    {
      "cell_type": "code",
      "source": [
        "# Car.test_var    # this will throw an error"
      ],
      "metadata": {
        "id": "4pggnVzpbuke"
      },
      "execution_count": 12,
      "outputs": []
    },
    {
      "cell_type": "code",
      "source": [
        "# calling instance methods\n",
        "car1.show_info()    # this is same as calling Car.show_info(car1)"
      ],
      "metadata": {
        "colab": {
          "base_uri": "https://localhost:8080/",
          "height": 35
        },
        "id": "OVqMfpkCQ73Z",
        "outputId": "7bf7f642-9db7-485b-9b39-20f09950d371"
      },
      "execution_count": 13,
      "outputs": [
        {
          "output_type": "execute_result",
          "data": {
            "text/plain": [
              "'This car is a Toyota Mark ii'"
            ],
            "application/vnd.google.colaboratory.intrinsic+json": {
              "type": "string"
            }
          },
          "metadata": {},
          "execution_count": 13
        }
      ]
    },
    {
      "cell_type": "code",
      "source": [
        "car2.show_info()    # this is same as calling Car.show_info(car1)"
      ],
      "metadata": {
        "colab": {
          "base_uri": "https://localhost:8080/",
          "height": 35
        },
        "id": "MwXEymy4Q99X",
        "outputId": "da850326-5cce-4c66-f58a-10e8101da36e"
      },
      "execution_count": 14,
      "outputs": [
        {
          "output_type": "execute_result",
          "data": {
            "text/plain": [
              "'This car is a Nissan NSX'"
            ],
            "application/vnd.google.colaboratory.intrinsic+json": {
              "type": "string"
            }
          },
          "metadata": {},
          "execution_count": 14
        }
      ]
    },
    {
      "cell_type": "code",
      "source": [
        "Car.show_info(car1)"
      ],
      "metadata": {
        "colab": {
          "base_uri": "https://localhost:8080/",
          "height": 35
        },
        "id": "83kCSqIXZ3Ba",
        "outputId": "50b25f28-d037-4698-983b-792d7b8b4f20"
      },
      "execution_count": 15,
      "outputs": [
        {
          "output_type": "execute_result",
          "data": {
            "text/plain": [
              "'This car is a Toyota Mark ii'"
            ],
            "application/vnd.google.colaboratory.intrinsic+json": {
              "type": "string"
            }
          },
          "metadata": {},
          "execution_count": 15
        }
      ]
    },
    {
      "cell_type": "code",
      "source": [
        "Car.show_info(car2)"
      ],
      "metadata": {
        "colab": {
          "base_uri": "https://localhost:8080/",
          "height": 35
        },
        "id": "gOxob5QtZ6Sj",
        "outputId": "83cedeb4-125a-4f32-d4d8-b59a81cd46ea"
      },
      "execution_count": 16,
      "outputs": [
        {
          "output_type": "execute_result",
          "data": {
            "text/plain": [
              "'This car is a Nissan NSX'"
            ],
            "application/vnd.google.colaboratory.intrinsic+json": {
              "type": "string"
            }
          },
          "metadata": {},
          "execution_count": 16
        }
      ]
    },
    {
      "cell_type": "markdown",
      "source": [
        "In the above codes, there are some new concepts such as the `__init__()` method, the `self` keyword etc.\n",
        "\n",
        "### The `__init()__` method\n",
        "\n",
        "The `__init__` method is one of the most important parts of a Python class. It is known as the **constructor**, and it is automatically called **when a new object of the class is created**. In simple terms, `__init__` is used to **initialize (set up)** the object's data, that is, assign values to its properties (attributes).\n",
        "\n",
        "- The first argument is always self, which represents the instance being created\n",
        "- Other arguments are values you want to use for initializing the object\n",
        "\n",
        "`.__init__()` automatically runs when `Car(\"Toyota\", \"Corolla\")` is executed. The parameters `(brand, model)` are assigned to instance variables through `self`."
      ],
      "metadata": {
        "id": "0mn4kxSrTN-X"
      }
    },
    {
      "cell_type": "markdown",
      "source": [
        "### The `self` keyword\n",
        "In Python, the word `self` plays a crucial role inside class definitions. It refers to the **current instance (object)** of the class.\n",
        "\n",
        "When you define or access attributes and methods inside a class, `self` ensures you are referring to that specific object's data, not some shared or unrelated variable."
      ],
      "metadata": {
        "id": "V52kCr75UbAH"
      }
    },
    {
      "cell_type": "markdown",
      "source": [
        "#### 1. `self` in Class Methods\n",
        "\n",
        "When defining a method inside a class, the first parameter is conventionally named `self`. It represents the **object that is calling the method**. For example, `car1.show_info()` is equivalent to `Car.show_info(car1)`, here `self` is `car1`."
      ],
      "metadata": {
        "id": "bR--4UC9UyJo"
      }
    },
    {
      "cell_type": "markdown",
      "source": [
        "#### 2. `self` in Properties (Attributes)\n",
        "\n",
        "When defining or accessing attributes, you must use `self` to tell Python that the variable belongs to the instance, not to the class itself or to the local function scope. For example:\n",
        "\n",
        "```\n",
        "class Car:\n",
        "    class_var = \"I am shared by all instances\"\n",
        "\n",
        "    def __init__(self, brand, model):\n",
        "        self.brand = brand\n",
        "        self.model = model\n",
        "\n",
        "        test_var = \"testing\"\n",
        "```\n",
        "\n",
        "In the above code, `class_var` is a class attribute that belong to the `Car` class, it is the same for all objects of this class.\n",
        "\n",
        "`self.brand` and `self.model` are object attributes, they vary across objects/instance. If we do not put `self.` in their names, they would become local variables inside the `__init__()` method, and they would no longer be accessible from outside a Car object, due to being a local variable.\n",
        "\n",
        "Finally, `test_var` is a local variable under the scope of the `.__init__()` method. Such local variables can not be accessed from outside the class definition, they can only be used for intermediate calculations or processing while an object of this class is created."
      ],
      "metadata": {
        "id": "qo93mZrSu00F"
      }
    },
    {
      "cell_type": "markdown",
      "source": [
        "### Attribute types in Python\n",
        "\n",
        "Based on ownership:\n",
        "- Class attribute\n",
        "- Instance attribute\n",
        "\n",
        "\n",
        "Based on access control:\n",
        "1. Public\n",
        "2. Protected\n",
        "3. Private"
      ],
      "metadata": {
        "id": "JXjsWTYY0thj"
      }
    },
    {
      "cell_type": "markdown",
      "source": [
        "#### Class attribute and instance attribute\n",
        "\n",
        "```\n",
        "class Car:\n",
        "    class_var = \"I am shared by all instances\"\n",
        "\n",
        "    def __init__(self, brand, model):\n",
        "        self.brand = brand\n",
        "        self.model = model\n",
        "\n",
        "        test_var = \"testing\"\n",
        "```\n",
        "\n",
        "In the above code, `class_var` is a class attribute that belong to the `Car` class, it is the same for all objects of this class.\n",
        "\n",
        "`self.brand` and `self.model` are object attributes, they vary across objects/instance."
      ],
      "metadata": {
        "id": "MGRHkrRtlE7G"
      }
    },
    {
      "cell_type": "markdown",
      "source": [
        "#### Public, protected, and private attributes\n",
        "\n",
        "By convention, protected attributes\n",
        "\n",
        "```\n",
        "class Car:\n",
        "    class_var = \"I am shared by all instances\"    # class attribute/property, optional\n",
        "\n",
        "    def __init__(self, brand, model):    # the __init__() method defines how a class is constructed\n",
        "        self.brand = brand    # instance attribute, public\n",
        "        self.model = model    # instance attribute, public\n",
        "\n",
        "        self._protected1 = \"protected attribute 1\"    # instance attribute, protected\n",
        "\n",
        "        self.__private1 = \"private attribute 1\"\n",
        "```\n",
        "\n",
        "In the above code:\n",
        "\n",
        "- Public: `.brand` and `.model` are public attributes. They can be accessed and modified from outside the class\n",
        "\n",
        "- Protected: Names start with an underscore. `._protected1` is a protected attribute, they can be accessed and modified from outside the class, however, when a programmer puts an underscore at the start of an attribute's name, it means that the corresponding attribute is supposed to be protected, and accessing/modifying it from outside, is extremely discouraged. It is not necessary to call such attributes \"protected\", putting an underscore at the start of their names, is enough\n",
        "\n",
        "- Private: Names start with two underscores. `.__private1` is a private attribute. Python internally changes its name to `._Car__private1`, this is called name mangling. One does not have to include the word \"private\" in the name, it is for illustration purpose only"
      ],
      "metadata": {
        "id": "Sey-NHink05m"
      }
    },
    {
      "cell_type": "markdown",
      "source": [
        "##### Why use private attributes\n",
        "\n",
        "- Protect sensitive data from being changed accidentally\n",
        "- Encourage encapsulation (keeping internal details hidden)\n",
        "- Control how data is accessed or modified, often through getter and setter methods\n",
        "- Enforce sanity checks before modifying data, using setter methods"
      ],
      "metadata": {
        "id": "bp5F0gxDDy15"
      }
    },
    {
      "cell_type": "markdown",
      "source": [
        "Bank account example:"
      ],
      "metadata": {
        "id": "auPwEiTgFWRq"
      }
    },
    {
      "cell_type": "code",
      "source": [
        "class BankAccount:\n",
        "    def __init__(self, account_holder, balance = 0):    # the balance argument has default value set to zero\n",
        "        self.account_holder = account_holder\n",
        "        self.__balance = balance    # private attribute\n",
        "\n",
        "    def show_balance(self):\n",
        "        return f\"Balance: {self.__balance}\"\n",
        "\n",
        "    def deposit(self, amount):\n",
        "        if amount > 0:\n",
        "            self.__balance += amount\n",
        "            return f\"Deposit amount {amount}, new balance: {self.__balance}\"\n",
        "        else:\n",
        "            return \"Invalid amount of deposit\"\n",
        "\n",
        "    def withdraw(self, amount):\n",
        "        if amount > self.__balance:\n",
        "            return \"Can not withdraw more than you have\"\n",
        "        else:\n",
        "            self.__balance -= amount\n",
        "            return f\"Withdrawn amount: {amount}, new balance: {self.__balance}\""
      ],
      "metadata": {
        "id": "38xnOQOlFHSE"
      },
      "execution_count": 17,
      "outputs": []
    },
    {
      "cell_type": "code",
      "source": [
        "alice_acc = BankAccount(\"Alice\", 5000)"
      ],
      "metadata": {
        "id": "LBrSJlCNFIZk"
      },
      "execution_count": 18,
      "outputs": []
    },
    {
      "cell_type": "code",
      "source": [
        "alice_acc.account_holder    # public attribute, therefore, accessible"
      ],
      "metadata": {
        "colab": {
          "base_uri": "https://localhost:8080/",
          "height": 35
        },
        "id": "vmQD30yPFJ1v",
        "outputId": "ea199e9c-9ab0-4178-b0a9-f6aea9a3f178"
      },
      "execution_count": 19,
      "outputs": [
        {
          "output_type": "execute_result",
          "data": {
            "text/plain": [
              "'Alice'"
            ],
            "application/vnd.google.colaboratory.intrinsic+json": {
              "type": "string"
            }
          },
          "metadata": {},
          "execution_count": 19
        }
      ]
    },
    {
      "cell_type": "code",
      "source": [
        "# print(account.__balance)      # AttributeError: cannot access directly, since private"
      ],
      "metadata": {
        "id": "PJS03aczFPte"
      },
      "execution_count": 20,
      "outputs": []
    },
    {
      "cell_type": "code",
      "source": [
        "alice_acc.show_balance()   # accessible via method"
      ],
      "metadata": {
        "colab": {
          "base_uri": "https://localhost:8080/",
          "height": 35
        },
        "id": "onuiDet6FSUp",
        "outputId": "10837874-e8f9-4b5d-e8a4-95aaa91b3f9f"
      },
      "execution_count": 21,
      "outputs": [
        {
          "output_type": "execute_result",
          "data": {
            "text/plain": [
              "'Balance: 5000'"
            ],
            "application/vnd.google.colaboratory.intrinsic+json": {
              "type": "string"
            }
          },
          "metadata": {},
          "execution_count": 21
        }
      ]
    },
    {
      "cell_type": "code",
      "source": [
        "alice_acc.deposit(500)"
      ],
      "metadata": {
        "colab": {
          "base_uri": "https://localhost:8080/",
          "height": 35
        },
        "id": "5vWBMjJ9YAB9",
        "outputId": "fe3a2d5b-260a-4d26-c6ac-5e1147b65cbb"
      },
      "execution_count": 22,
      "outputs": [
        {
          "output_type": "execute_result",
          "data": {
            "text/plain": [
              "'Deposit amount 500, new balance: 5500'"
            ],
            "application/vnd.google.colaboratory.intrinsic+json": {
              "type": "string"
            }
          },
          "metadata": {},
          "execution_count": 22
        }
      ]
    },
    {
      "cell_type": "code",
      "source": [
        "alice_acc.withdraw(400)"
      ],
      "metadata": {
        "id": "yFSqpmfeYHod",
        "outputId": "94e3561d-ab03-4774-bdad-850a57d401dc",
        "colab": {
          "base_uri": "https://localhost:8080/",
          "height": 35
        }
      },
      "execution_count": 23,
      "outputs": [
        {
          "output_type": "execute_result",
          "data": {
            "text/plain": [
              "'Withdrawn amount: 400, new balance: 5100'"
            ],
            "application/vnd.google.colaboratory.intrinsic+json": {
              "type": "string"
            }
          },
          "metadata": {},
          "execution_count": 23
        }
      ]
    },
    {
      "cell_type": "code",
      "source": [
        "alice_acc.show_balance()"
      ],
      "metadata": {
        "id": "KADtUm-uYKPB",
        "outputId": "23143aa0-9a0c-45e6-c092-f584f299d01c",
        "colab": {
          "base_uri": "https://localhost:8080/",
          "height": 35
        }
      },
      "execution_count": 24,
      "outputs": [
        {
          "output_type": "execute_result",
          "data": {
            "text/plain": [
              "'Balance: 5100'"
            ],
            "application/vnd.google.colaboratory.intrinsic+json": {
              "type": "string"
            }
          },
          "metadata": {},
          "execution_count": 24
        }
      ]
    },
    {
      "cell_type": "code",
      "source": [
        "alice_acc.withdraw(6000)"
      ],
      "metadata": {
        "colab": {
          "base_uri": "https://localhost:8080/",
          "height": 35
        },
        "id": "5X1LoAntmjXh",
        "outputId": "0fecc9b4-72f2-427b-fa08-4907f2a54ea2"
      },
      "execution_count": 25,
      "outputs": [
        {
          "output_type": "execute_result",
          "data": {
            "text/plain": [
              "'Can not withdraw more than you have'"
            ],
            "application/vnd.google.colaboratory.intrinsic+json": {
              "type": "string"
            }
          },
          "metadata": {},
          "execution_count": 25
        }
      ]
    },
    {
      "cell_type": "markdown",
      "source": [
        "Default value example:"
      ],
      "metadata": {
        "id": "rXWh90GfDAIV"
      }
    },
    {
      "cell_type": "code",
      "source": [
        "bob_acc = BankAccount(\"Bob\")    # default value of balance is 0"
      ],
      "metadata": {
        "id": "hug18D2LmnBk"
      },
      "execution_count": 26,
      "outputs": []
    },
    {
      "cell_type": "code",
      "source": [
        "bob_acc.show_balance()"
      ],
      "metadata": {
        "colab": {
          "base_uri": "https://localhost:8080/",
          "height": 35
        },
        "id": "aBnLSS0Nm2hj",
        "outputId": "7c031ff9-aad8-4cf6-dace-6f6d90ec3457"
      },
      "execution_count": 27,
      "outputs": [
        {
          "output_type": "execute_result",
          "data": {
            "text/plain": [
              "'Balance: 0'"
            ],
            "application/vnd.google.colaboratory.intrinsic+json": {
              "type": "string"
            }
          },
          "metadata": {},
          "execution_count": 27
        }
      ]
    },
    {
      "cell_type": "markdown",
      "source": [
        "### Method types in Python\n",
        "\n",
        "1. Instance method: works with/on individual objects of a class\n",
        "2. Class method: works with the class itself, not individual instances/objects\n",
        "3. Static method: depends on neither the class nor the object, these are usually helper/utility functions"
      ],
      "metadata": {
        "id": "1WMnnF4-066I"
      }
    },
    {
      "cell_type": "markdown",
      "source": [
        "#### 1. Instance methods\n",
        "\n",
        "- The most common type\n",
        "- The first parameter is always `self`, which refers to the **current instance**\n",
        "- Can access and modify instance attributes\n",
        "\n",
        "In the `BankAccount` example, all the methods (`show_info()`, `withdraw()`, `deposit()`) are instance methods. They depend on, or work using, or modify the data from the instance/object to which the belong.\n"
      ],
      "metadata": {
        "id": "aMElidWyHK5a"
      }
    },
    {
      "cell_type": "markdown",
      "source": [
        "#### 2. Class methods\n",
        "\n",
        "- Defined with the `@classmethod` decorator (details on decorators in upcoming lecture)\n",
        "- The first parameter is `cls` (as opposed to `self` in instance methods). `cls` refers to the class itself, not any object\n",
        "- Can access or modify class-level attributes (shared among all instances)"
      ],
      "metadata": {
        "id": "WAd7tn9HIF7U"
      }
    },
    {
      "cell_type": "code",
      "source": [
        "class Car:\n",
        "    wheels = 4  # class variable shared by all cars\n",
        "\n",
        "    def __init__(self, brand):\n",
        "        self.brand = brand\n",
        "\n",
        "    @classmethod\n",
        "    def number_of_wheels(cls):\n",
        "        print(f\"All cars have {cls.wheels} wheels\")\n"
      ],
      "metadata": {
        "id": "UICwaKWhIomw"
      },
      "execution_count": 28,
      "outputs": []
    },
    {
      "cell_type": "code",
      "source": [
        "Car.number_of_wheels()  # Called using class"
      ],
      "metadata": {
        "colab": {
          "base_uri": "https://localhost:8080/"
        },
        "id": "VH0GYjgMIr1J",
        "outputId": "436114f4-cd53-45e6-a430-7fc1e8c723aa"
      },
      "execution_count": 29,
      "outputs": [
        {
          "output_type": "stream",
          "name": "stdout",
          "text": [
            "All cars have 4 wheels\n"
          ]
        }
      ]
    },
    {
      "cell_type": "code",
      "source": [
        "my_car = Car(\"Honda\")\n",
        "my_car.number_of_wheels()  # Can also be called via object"
      ],
      "metadata": {
        "colab": {
          "base_uri": "https://localhost:8080/"
        },
        "id": "sISBlcrlItEs",
        "outputId": "b4ee3ba2-d5dc-4b74-a41b-68217df380a8"
      },
      "execution_count": 30,
      "outputs": [
        {
          "output_type": "stream",
          "name": "stdout",
          "text": [
            "All cars have 4 wheels\n"
          ]
        }
      ]
    },
    {
      "cell_type": "markdown",
      "source": [
        "#### 3. Static methods\n",
        "\n",
        "- Defined with the `@staticmethod` decorator\n",
        "- Does not receive `self` or `cls`\n",
        "- Acts like a regular function, but belongs to the *namespace* of the class\n",
        "- Useful as utility function or helper functions related to the class\n"
      ],
      "metadata": {
        "id": "0_tVp2sDI5FX"
      }
    },
    {
      "cell_type": "code",
      "source": [
        "class MathUtils:\n",
        "    @staticmethod\n",
        "    def add(a, b):\n",
        "        return a + b\n",
        "\n",
        "    @staticmethod\n",
        "    def multiply(a, b):\n",
        "        return a * b"
      ],
      "metadata": {
        "id": "d94csWdPJRGn"
      },
      "execution_count": 31,
      "outputs": []
    },
    {
      "cell_type": "code",
      "source": [
        "print(MathUtils.add(5, 5))\n",
        "print(MathUtils.multiply(3, 4))"
      ],
      "metadata": {
        "colab": {
          "base_uri": "https://localhost:8080/"
        },
        "id": "AJhdoy6YJTzw",
        "outputId": "34ef6395-94dd-4906-d0dd-befacba1e3c6"
      },
      "execution_count": 32,
      "outputs": [
        {
          "output_type": "stream",
          "name": "stdout",
          "text": [
            "10\n",
            "12\n"
          ]
        }
      ]
    },
    {
      "cell_type": "markdown",
      "source": [
        "### Inheritance"
      ],
      "metadata": {
        "id": "7clRf3GxECsV"
      }
    },
    {
      "cell_type": "markdown",
      "source": [
        "Inheritance is an Object-Oriented Programming (OOP) concept that allows one class (called the *child class* or *subclass* or *derived class*) to acquire the properties and behaviors of another class (called the *parent class* or *superclass* or *base class*).\n",
        "\n",
        "It helps in:\n",
        "- Code reusability  \n",
        "- Logical organization of classes  \n",
        "- Extensibility of existing code\n",
        "\n",
        "**Syntax:**\n",
        "```\n",
        "class ChildClass(ParentClass):\n",
        "    # class body\n",
        "```\n",
        "\n",
        "The child class automatically inherits the attributes and methods of the parent class unless overridden (more on overriding later)"
      ],
      "metadata": {
        "id": "fo0Oq9avO5yb"
      }
    },
    {
      "cell_type": "markdown",
      "source": [
        "Basic example:"
      ],
      "metadata": {
        "id": "kWxEfSsaPYAY"
      }
    },
    {
      "cell_type": "code",
      "source": [
        "class Parent:\n",
        "    def greet(self):\n",
        "        print(\"Hello from Parent class!\")\n",
        "\n",
        "class Child(Parent):\n",
        "    pass    # pass means no operation (do nothing)\n"
      ],
      "metadata": {
        "id": "KrT3-hQMPZ23"
      },
      "execution_count": 33,
      "outputs": []
    },
    {
      "cell_type": "code",
      "source": [
        "obj = Child()\n",
        "obj.greet()     # inherits the method from Parent"
      ],
      "metadata": {
        "colab": {
          "base_uri": "https://localhost:8080/"
        },
        "id": "1nTcAeofPgAB",
        "outputId": "8c8f837b-3ec7-4375-82ab-e3271571cf0d"
      },
      "execution_count": 34,
      "outputs": [
        {
          "output_type": "stream",
          "name": "stdout",
          "text": [
            "Hello from Parent class!\n"
          ]
        }
      ]
    },
    {
      "cell_type": "markdown",
      "source": [
        "#### Example: Extending the `BankAccount` class:\n",
        "\n",
        "Create a subclass called `LoanBankAccount` that inherits from `BankAccount`:\n",
        "\n",
        "It will:\n",
        "- Add a new attribute `loan_balance`\n",
        "- Include new methods: `take_loan()` and `show_loan_balance()`\n",
        "- Demonstrate inherited methods like `deposit()`, `withdraw()`, and `show_balance()`"
      ],
      "metadata": {
        "id": "hm5jRp_YP2t8"
      }
    },
    {
      "cell_type": "code",
      "source": [
        "class LoanBankAccount(BankAccount):\n",
        "    def __init__(self, account_holder, balance=0, loan_balance=0):\n",
        "        super().__init__(account_holder, balance)    # initializing the superclass\n",
        "        self.loan_balance = loan_balance\n",
        "\n",
        "    def take_loan(self, amount):\n",
        "        self.loan_balance += amount\n",
        "        print(f\"Loan taken: {amount}. Total loan balance: {self.loan_balance}\")\n",
        "\n",
        "    def show_loan_balance(self):\n",
        "        print(f\"Loan Balance for {self.account_holder}: {self.loan_balance}\")"
      ],
      "metadata": {
        "id": "6PWq1H0lQLpc"
      },
      "execution_count": 35,
      "outputs": []
    },
    {
      "cell_type": "code",
      "source": [
        "loan_acc = LoanBankAccount(\"Alice\", balance=1000)"
      ],
      "metadata": {
        "id": "kIHJpmT2QCNC"
      },
      "execution_count": 36,
      "outputs": []
    },
    {
      "cell_type": "code",
      "source": [
        "loan_acc.deposit(500)    # this method has been automatically inherited"
      ],
      "metadata": {
        "colab": {
          "base_uri": "https://localhost:8080/",
          "height": 35
        },
        "id": "YLHMosPfQCI-",
        "outputId": "da53074f-848d-4ba9-c8ef-5c70f163624b"
      },
      "execution_count": 37,
      "outputs": [
        {
          "output_type": "execute_result",
          "data": {
            "text/plain": [
              "'Deposit amount 500, new balance: 1500'"
            ],
            "application/vnd.google.colaboratory.intrinsic+json": {
              "type": "string"
            }
          },
          "metadata": {},
          "execution_count": 37
        }
      ]
    },
    {
      "cell_type": "code",
      "source": [
        "loan_acc.take_loan(2000)"
      ],
      "metadata": {
        "colab": {
          "base_uri": "https://localhost:8080/"
        },
        "id": "UKAr54dfP9Pe",
        "outputId": "d2b0dff9-8a81-4ecb-b8df-1f55119d9234"
      },
      "execution_count": 38,
      "outputs": [
        {
          "output_type": "stream",
          "name": "stdout",
          "text": [
            "Loan taken: 2000. Total loan balance: 2000\n"
          ]
        }
      ]
    },
    {
      "cell_type": "code",
      "source": [
        "loan_acc.show_balance()    # this method has been automatically inherited"
      ],
      "metadata": {
        "colab": {
          "base_uri": "https://localhost:8080/",
          "height": 35
        },
        "id": "wn3V8cb_QSRA",
        "outputId": "971ebf34-c826-4839-b0e8-bd2613a7771e"
      },
      "execution_count": 39,
      "outputs": [
        {
          "output_type": "execute_result",
          "data": {
            "text/plain": [
              "'Balance: 1500'"
            ],
            "application/vnd.google.colaboratory.intrinsic+json": {
              "type": "string"
            }
          },
          "metadata": {},
          "execution_count": 39
        }
      ]
    },
    {
      "cell_type": "code",
      "source": [
        "loan_acc.show_loan_balance()"
      ],
      "metadata": {
        "colab": {
          "base_uri": "https://localhost:8080/"
        },
        "id": "W0ilcRRnQTXV",
        "outputId": "37cbaffb-5a73-4c28-bb07-0d53e6c552c7"
      },
      "execution_count": 40,
      "outputs": [
        {
          "output_type": "stream",
          "name": "stdout",
          "text": [
            "Loan Balance for Alice: 2000\n"
          ]
        }
      ]
    },
    {
      "cell_type": "markdown",
      "source": [
        "#### Using `super()` in the Subclass\n",
        "\n",
        "Instead of re-declaring parent attributes manually, we can use `super().__init__()` to initialize the inherited attributes from the parent class.\n",
        "\n",
        "This is cleaner and automatically uses the parent's constructor."
      ],
      "metadata": {
        "id": "mTK2pRi7QZNL"
      }
    },
    {
      "cell_type": "markdown",
      "source": [
        "#### Multi-level Inheritance\n",
        "\n",
        "We can extend inheritance further by creating another subclass that inherits from a subclass.\n",
        "\n",
        "Example: `StudentLoanAccount` inherits from `LoanBankAccount`.\n",
        "\n",
        "It will:\n",
        "- Add new attributes like `student_id` and `loan_limit`\n",
        "- Modify the `take_loan()` method to check if requested loan amount exceeds loan limit\n",
        "- Have access to methods from both thw parent and the grandparent classes\n"
      ],
      "metadata": {
        "id": "HGZzH1DDQ172"
      }
    },
    {
      "cell_type": "code",
      "source": [
        "class StudentLoanAccount(LoanBankAccount):\n",
        "    def __init__(self, account_holder, student_id, balance=0, loan_balance=0, loan_limit=5000):\n",
        "        super().__init__(account_holder, balance, loan_balance)\n",
        "        self.student_id = student_id\n",
        "        self.loan_limit = loan_limit\n",
        "\n",
        "    def take_loan(self, amount):    # changing the take_loan() method, this is called method overriding\n",
        "        if amount > self.loan_limit:\n",
        "            return \"Requested loan amount exceeds loan limit for this account type\"\n",
        "        else:\n",
        "            self.loan_balance += amount\n",
        "            print(f\"Loan taken: {amount}. Total loan balance: {self.loan_balance}\")"
      ],
      "metadata": {
        "id": "55vVcl1kQ1Tw"
      },
      "execution_count": 41,
      "outputs": []
    },
    {
      "cell_type": "code",
      "source": [
        "student_acc = StudentLoanAccount(\"Bob\", \"STU123\", balance=500)"
      ],
      "metadata": {
        "id": "S16m_yoWQ-n4"
      },
      "execution_count": 42,
      "outputs": []
    },
    {
      "cell_type": "code",
      "source": [
        "student_acc.deposit(300)"
      ],
      "metadata": {
        "colab": {
          "base_uri": "https://localhost:8080/",
          "height": 35
        },
        "id": "bGNVqADZRFyi",
        "outputId": "dc29b76d-ed8f-4d3e-df1f-c37a3b68b613"
      },
      "execution_count": 43,
      "outputs": [
        {
          "output_type": "execute_result",
          "data": {
            "text/plain": [
              "'Deposit amount 300, new balance: 800'"
            ],
            "application/vnd.google.colaboratory.intrinsic+json": {
              "type": "string"
            }
          },
          "metadata": {},
          "execution_count": 43
        }
      ]
    },
    {
      "cell_type": "code",
      "source": [
        "student_acc.take_loan(500)"
      ],
      "metadata": {
        "colab": {
          "base_uri": "https://localhost:8080/"
        },
        "id": "8peKGZZRRIFI",
        "outputId": "92aa44cc-7adf-43cb-a90e-5d6d25960d84"
      },
      "execution_count": 44,
      "outputs": [
        {
          "output_type": "stream",
          "name": "stdout",
          "text": [
            "Loan taken: 500. Total loan balance: 500\n"
          ]
        }
      ]
    },
    {
      "cell_type": "code",
      "source": [
        "student_acc.show_balance()"
      ],
      "metadata": {
        "colab": {
          "base_uri": "https://localhost:8080/",
          "height": 35
        },
        "id": "qVyUOW4iRLjw",
        "outputId": "9bb1abaa-3938-4ddb-e7c1-e64e3e2b590a"
      },
      "execution_count": 45,
      "outputs": [
        {
          "output_type": "execute_result",
          "data": {
            "text/plain": [
              "'Balance: 800'"
            ],
            "application/vnd.google.colaboratory.intrinsic+json": {
              "type": "string"
            }
          },
          "metadata": {},
          "execution_count": 45
        }
      ]
    },
    {
      "cell_type": "code",
      "source": [
        "student_acc.take_loan(6000)"
      ],
      "metadata": {
        "colab": {
          "base_uri": "https://localhost:8080/",
          "height": 35
        },
        "id": "Na2AxDnURJa9",
        "outputId": "80e5c251-ca63-4f8d-a05f-0759fffb187d"
      },
      "execution_count": 46,
      "outputs": [
        {
          "output_type": "execute_result",
          "data": {
            "text/plain": [
              "'Requested loan amount exceeds loan limit for this account type'"
            ],
            "application/vnd.google.colaboratory.intrinsic+json": {
              "type": "string"
            }
          },
          "metadata": {},
          "execution_count": 46
        }
      ]
    },
    {
      "cell_type": "markdown",
      "source": [
        "#### Method Overriding\n",
        "\n",
        "Method overriding allows a subclass to provide a new implementation of a method that is already defined in its parent class.\n",
        "\n",
        "When a method is overridden, the subclass version is called instead of the parent's version.\n",
        "\n",
        "In the previous example of `StudentLoanAccount`, the method `take_loan()` was redefined changing its implementation. This is an example of method overriding.\n",
        "\n",
        "```\n",
        "class StudentLoanAccount(LoanBankAccount):\n",
        "    def __init__(self, account_holder, student_id, balance=0, loan_balance=0, loan_limit=5000):\n",
        "        super().__init__(account_holder, balance, loan_balance)\n",
        "        self.student_id = student_id\n",
        "        self.loan_limit = loan_limit\n",
        "\n",
        "    def take_loan(self, amount):\n",
        "        if amount > self.loan_limit:\n",
        "            return \"Requested loan amount exceeds loan limit for this account type\"\n",
        "        else:\n",
        "            self.loan_balance += amount\n",
        "            print(f\"Loan taken: {amount}. Total loan balance: {self.loan_balance}\")\n",
        "```"
      ],
      "metadata": {
        "id": "Ne5UotJgRkSF"
      }
    },
    {
      "cell_type": "markdown",
      "source": [
        "#### Multiple inheritance\n",
        "\n",
        "A class can inherit from more than one parent class.\n",
        "\n",
        "**Syntax**:\n",
        "```\n",
        "class SubClass(Parent1, Parent2):\n",
        "    # body\n",
        "```\n",
        "\n",
        "This is known as *multiple inheritance*.\n",
        "\n",
        "Python uses the **Method Resolution Order (MRO)** to determine which parent's method to call first\n"
      ],
      "metadata": {
        "id": "JoGoRucqRxuM"
      }
    },
    {
      "cell_type": "code",
      "source": [
        "class RewardMixin:\n",
        "    def __init__(self):\n",
        "        self.reward_points = 0\n",
        "\n",
        "    def add_reward(self, points):\n",
        "        self.reward_points += points\n",
        "        print(f\"Reward points added: {points}. Total points: {self.reward_points}\")"
      ],
      "metadata": {
        "id": "lFs5iNqfSDE0"
      },
      "execution_count": 47,
      "outputs": []
    },
    {
      "cell_type": "code",
      "source": [
        "class RewardLoanAccount(LoanBankAccount, RewardMixin):\n",
        "    def __init__(self, account_holder, balance=0, loan_balance=0):\n",
        "        LoanBankAccount.__init__(self, account_holder, balance, loan_balance)\n",
        "        RewardMixin.__init__(self)"
      ],
      "metadata": {
        "id": "Eum6HUhqAOVz"
      },
      "execution_count": 48,
      "outputs": []
    },
    {
      "cell_type": "code",
      "source": [
        "reward_acc = RewardLoanAccount(\"Diana\", balance=1000)"
      ],
      "metadata": {
        "id": "3zhrnmLMSFFR"
      },
      "execution_count": 49,
      "outputs": []
    },
    {
      "cell_type": "code",
      "source": [
        "reward_acc.take_loan(1500)"
      ],
      "metadata": {
        "colab": {
          "base_uri": "https://localhost:8080/"
        },
        "id": "XgZgtLesSGQq",
        "outputId": "76be011d-9ddf-4da4-d32d-61767cad80d1"
      },
      "execution_count": 50,
      "outputs": [
        {
          "output_type": "stream",
          "name": "stdout",
          "text": [
            "Loan taken: 1500. Total loan balance: 1500\n"
          ]
        }
      ]
    },
    {
      "cell_type": "code",
      "source": [
        "reward_acc.add_reward(200)"
      ],
      "metadata": {
        "colab": {
          "base_uri": "https://localhost:8080/"
        },
        "id": "aTjMJomOSHt2",
        "outputId": "1214dd63-56a7-4e9b-9d32-ab4066b48fd7"
      },
      "execution_count": 51,
      "outputs": [
        {
          "output_type": "stream",
          "name": "stdout",
          "text": [
            "Reward points added: 200. Total points: 200\n"
          ]
        }
      ]
    },
    {
      "cell_type": "code",
      "source": [
        "reward_acc.show_balance()"
      ],
      "metadata": {
        "colab": {
          "base_uri": "https://localhost:8080/",
          "height": 35
        },
        "id": "A-l4Vn5nSJS4",
        "outputId": "6f65b382-cc53-40b0-c331-042d1aa6e9ca"
      },
      "execution_count": 52,
      "outputs": [
        {
          "output_type": "execute_result",
          "data": {
            "text/plain": [
              "'Balance: 1000'"
            ],
            "application/vnd.google.colaboratory.intrinsic+json": {
              "type": "string"
            }
          },
          "metadata": {},
          "execution_count": 52
        }
      ]
    },
    {
      "cell_type": "markdown",
      "source": [
        "Checking the method resolution order:"
      ],
      "metadata": {
        "id": "RNmm7HZiSOXZ"
      }
    },
    {
      "cell_type": "code",
      "source": [
        "RewardLoanAccount.__mro__"
      ],
      "metadata": {
        "colab": {
          "base_uri": "https://localhost:8080/"
        },
        "id": "c7Cel-oBSQkL",
        "outputId": "811e1c8d-7b21-46ff-9d78-2e973ad28b21"
      },
      "execution_count": 53,
      "outputs": [
        {
          "output_type": "execute_result",
          "data": {
            "text/plain": [
              "(__main__.RewardLoanAccount,\n",
              " __main__.LoanBankAccount,\n",
              " __main__.BankAccount,\n",
              " __main__.RewardMixin,\n",
              " object)"
            ]
          },
          "metadata": {},
          "execution_count": 53
        }
      ]
    },
    {
      "cell_type": "markdown",
      "source": [
        "#### Checking Class Relationships\n",
        "\n",
        "We can check class relationships using built-in functions:\n",
        "\n",
        "- `issubclass(SubClass, ParentClass)`: returns `True` if `SubClass` inherits from `ParentClass`\n",
        "- `isinstance(object, Class)`: returns `True` if object is an instance of the given Class"
      ],
      "metadata": {
        "id": "FlxUzBNhSZsH"
      }
    },
    {
      "cell_type": "code",
      "source": [
        "print(issubclass(StudentLoanAccount, LoanBankAccount))   # True\n",
        "print(issubclass(LoanBankAccount, BankAccount))          # True\n",
        "print(isinstance(student_acc, BankAccount))              # True\n",
        "print(isinstance(reward_acc, RewardMixin))               # True"
      ],
      "metadata": {
        "colab": {
          "base_uri": "https://localhost:8080/"
        },
        "id": "-zM2BSEOSeT-",
        "outputId": "af30da45-40c7-46b7-f55e-48157e194ac2"
      },
      "execution_count": 54,
      "outputs": [
        {
          "output_type": "stream",
          "name": "stdout",
          "text": [
            "True\n",
            "True\n",
            "True\n",
            "True\n"
          ]
        }
      ]
    },
    {
      "cell_type": "markdown",
      "source": [
        "Advantages of Inheritance\n",
        "\n",
        "- Reduces code duplication  \n",
        "- Promotes code reusability  \n",
        "- Enables logical organization of related classes  \n",
        "- Allows extension of existing functionality without modifying original code"
      ],
      "metadata": {
        "id": "UYdDF4CnShbr"
      }
    },
    {
      "cell_type": "markdown",
      "source": [
        "### Polymorphism\n",
        "\n",
        "The term *polymorphism* comes from Greek, meaning \"many forms\".  \n",
        "In Object-Oriented Programming, **polymorphism** allows objects of different classes to be treated as objects of a common superclass.\n",
        "\n",
        "It enables a single interface (like a method name) to represent different underlying data types or behaviors.\n",
        "\n",
        "For example:\n",
        "- The same function name can be used for different types\n",
        "- The same method name can perform different actions based on the object calling it"
      ],
      "metadata": {
        "id": "bbelxheBFaXr"
      }
    },
    {
      "cell_type": "code",
      "source": [
        "print(len(\"Python\"))\n",
        "print(len([10, 20, 30]))\n",
        "print(len({\"a\": 1, \"b\": 2}))"
      ],
      "metadata": {
        "id": "l5PJGb2TBvn7",
        "colab": {
          "base_uri": "https://localhost:8080/"
        },
        "outputId": "716330af-fda5-4945-d3bf-5a3522ffe098"
      },
      "execution_count": 55,
      "outputs": [
        {
          "output_type": "stream",
          "name": "stdout",
          "text": [
            "6\n",
            "3\n",
            "2\n"
          ]
        }
      ]
    },
    {
      "cell_type": "markdown",
      "source": [
        "Here, the `len()` function behaves differently depending on the object type — this is **polymorphism**."
      ],
      "metadata": {
        "id": "nHPiijFZB1Dn"
      }
    },
    {
      "cell_type": "markdown",
      "source": [
        "#### Polymorphism with Class Methods\n",
        "\n",
        "Different classes can have methods with the same name, and we can call these methods interchangeably"
      ],
      "metadata": {
        "id": "PR09xi5pCRZn"
      }
    },
    {
      "cell_type": "code",
      "source": [
        "class Dog:\n",
        "    def speak(self):\n",
        "        return \"Woof!\"\n",
        "\n",
        "class Cat:\n",
        "    def speak(self):\n",
        "        return \"Meow!\"\n",
        "\n",
        "# common interface:\n",
        "def make_sound(animal):\n",
        "    print(animal.speak())"
      ],
      "metadata": {
        "id": "5PSt7shrBzqs"
      },
      "execution_count": 56,
      "outputs": []
    },
    {
      "cell_type": "code",
      "source": [
        "dog = Dog()\n",
        "cat = Cat()"
      ],
      "metadata": {
        "id": "y-4NoV-eDeTl"
      },
      "execution_count": 57,
      "outputs": []
    },
    {
      "cell_type": "code",
      "source": [
        "print(make_sound(dog))\n",
        "print(make_sound(cat))"
      ],
      "metadata": {
        "colab": {
          "base_uri": "https://localhost:8080/"
        },
        "id": "3C0oXtaeDe7S",
        "outputId": "006b2a24-aa0c-447a-97bc-7c3100370e0a"
      },
      "execution_count": 58,
      "outputs": [
        {
          "output_type": "stream",
          "name": "stdout",
          "text": [
            "Woof!\n",
            "None\n",
            "Meow!\n",
            "None\n"
          ]
        }
      ]
    },
    {
      "cell_type": "markdown",
      "source": [
        "Here, both `Dog` and `Cat` have a `speak()` method, but the implementation differs. The function `make_sound()` treats them uniformly, relying on their shared interface"
      ],
      "metadata": {
        "id": "OK3VAb1gDsDM"
      }
    },
    {
      "cell_type": "markdown",
      "source": [
        "#### Polymorphism in Inheritance\n",
        "\n",
        "When a subclass overrides a method from its parent class, and the same method call behaves differently based on the object type - that's **polymorphism via inheritance**.\n",
        "\n",
        "We have already seen polymorphism via inheritance in a previous example where we made a subclass `StudentLoanAccount` by modifying the class `LoanBankAccount`. In that example, the method `take_loan()` was overridden and its behavior was changed:\n",
        "\n",
        "Parent class (`LoanBankAccount`):\n",
        "```\n",
        "class LoanBankAccount(BankAccount):\n",
        "    def __init__(self, account_holder, balance=0, loan_balance=0):\n",
        "        super().__init__(account_holder, balance)    # initializing the superclass\n",
        "        self.loan_balance = loan_balance\n",
        "\n",
        "    def take_loan(self, amount):\n",
        "        self.loan_balance += amount\n",
        "        print(f\"Loan taken: {amount}. Total loan balance: {self.loan_balance}\")\n",
        "\n",
        "    def show_loan_balance(self):\n",
        "        print(f\"Loan Balance for {self.account_holder}: {self.loan_balance}\")\n",
        "```\n",
        "\n",
        "\n",
        "Child class (`StudentLoanAccount`):\n",
        "```\n",
        "class StudentLoanAccount(LoanBankAccount):\n",
        "    def __init__(self, account_holder, student_id, balance=0, loan_balance=0, loan_limit=5000):\n",
        "        super().__init__(account_holder, balance, loan_balance)\n",
        "        self.student_id = student_id\n",
        "        self.loan_limit = loan_limit\n",
        "\n",
        "    def take_loan(self, amount):    # changing the take_loan() method, this is called method overriding\n",
        "        if amount > self.loan_limit:\n",
        "            return \"Requested loan amount exceeds loan limit for this account type\"\n",
        "        else:\n",
        "            self.loan_balance += amount\n",
        "            print(f\"Loan taken: {amount}. Total loan balance: {self.loan_balance}\")\n",
        "```"
      ],
      "metadata": {
        "id": "Uc7i8WBwEO_x"
      }
    },
    {
      "cell_type": "markdown",
      "source": [
        "#### Operator Overloading (Special Case of Polymorphism)\n",
        "\n",
        "Polymorphism also occurs when Python operators (+, - etc.) perform different actions depending on the operands, it is known as **operator overloading**."
      ],
      "metadata": {
        "id": "NAcmGKcKHO0P"
      }
    },
    {
      "cell_type": "code",
      "source": [
        "class Vector:\n",
        "    def __init__(self, x, y):\n",
        "        self.x = x\n",
        "        self.y = y\n",
        "\n",
        "    def __add__(self, other):    # this method is called when the + operator is used on an object of this class\n",
        "        if isinstance(other, Vector):\n",
        "            return Vector(self.x + other.x, self.y + other.y)\n",
        "\n",
        "    def __str__(self):    # this method is called when print() is called on an object of this class\n",
        "        return f\"Vector({self.x}, {self.y})\""
      ],
      "metadata": {
        "id": "ni_879IzDrIn"
      },
      "execution_count": 59,
      "outputs": []
    },
    {
      "cell_type": "code",
      "source": [
        "v1 = Vector(2, 4)\n",
        "v2 = Vector(5, -1)\n",
        "print(v1 + v2)"
      ],
      "metadata": {
        "colab": {
          "base_uri": "https://localhost:8080/"
        },
        "id": "XPQQbk-4IwB8",
        "outputId": "0bab12f9-b089-4661-87f3-70065063c8ff"
      },
      "execution_count": 60,
      "outputs": [
        {
          "output_type": "stream",
          "name": "stdout",
          "text": [
            "Vector(7, 3)\n"
          ]
        }
      ]
    },
    {
      "cell_type": "markdown",
      "source": [
        "The `+` operator is **overloaded** here to work with user-defined `Vector` objects, making the operation natural and intuitive"
      ],
      "metadata": {
        "id": "w-ic0ZLSI1g1"
      }
    },
    {
      "cell_type": "markdown",
      "source": [
        "Common Operator Overloading Methods:\n",
        "- `__add__(self, other)`: `+`\n",
        "- `__sub__(self, other)`: `-`\n",
        "- `__mul__(self, other)`: `*`\n",
        "- `__truediv__(self, other)`: `/`\n",
        "- `__floordiv__(self, other)`: `//`\n",
        "- `__mod__(self, other)`: `%`\n",
        "- `__pow__(self, other)`: `**`\n",
        "\n",
        "Comparison Operators:\n",
        "- `__eq__(self, other)`: `==`\n",
        "- `__ne__(self, other)`: `!=`\n",
        "- `__lt__(self, other)`: `<`\n",
        "- `__le__(self, other)`: `<=`\n",
        "- `__gt__(self, other)`: `>`\n",
        "- `__ge__(self, other)`: `>=`\n",
        "\n",
        "Other Useful Methods:\n",
        "- `__len__(self)`: `len()` function\n",
        "- `__str__(self)`: `str()` function or `print()` function (for printing to end-users, not developers)\n",
        "- `__repr__(self)`: `repr()` function (for developer-friendly representation, often valid Python code that could recreate the object)"
      ],
      "metadata": {
        "id": "G2ylkO-s1884"
      }
    },
    {
      "cell_type": "code",
      "source": [],
      "metadata": {
        "id": "Gn_r68Md7PU1"
      },
      "execution_count": null,
      "outputs": []
    }
  ]
}