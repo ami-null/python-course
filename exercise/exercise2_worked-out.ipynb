{
 "cells": [
  {
   "cell_type": "markdown",
   "id": "9de0f935-bec7-436d-b5cd-5dca6881148e",
   "metadata": {},
   "source": [
    "### 1. Check whether a number is divisible by 10."
   ]
  },
  {
   "cell_type": "code",
   "execution_count": 1,
   "id": "9bb695be-8532-4c0f-bffa-d16fb2b42346",
   "metadata": {},
   "outputs": [
    {
     "name": "stdout",
     "output_type": "stream",
     "text": [
      "Not divisible by 10\n"
     ]
    }
   ],
   "source": [
    "num = 59    # example\n",
    "\n",
    "if num%10 == 0:\n",
    "    print(\"Divisible 10\")\n",
    "else:\n",
    "    print(\"Not divisible by 10\")"
   ]
  },
  {
   "cell_type": "markdown",
   "id": "b9161038-34bb-43a8-8b25-0f82e5024e6a",
   "metadata": {},
   "source": [
    "### 2. Given a score, print its letter grade (80 and above is A, 60 and above is B, else F)"
   ]
  },
  {
   "cell_type": "code",
   "execution_count": 2,
   "id": "55ece080-a245-4cc7-a3a8-89aa47e731c6",
   "metadata": {},
   "outputs": [
    {
     "name": "stdout",
     "output_type": "stream",
     "text": [
      "B grade\n"
     ]
    }
   ],
   "source": [
    "score = 75\n",
    "\n",
    "if score >= 80:\n",
    "    print(\"A grade\")\n",
    "elif (score >= 60) and (score < 80):\n",
    "    print(\"B grade\")\n",
    "else:\n",
    "    print(\"F grade\")"
   ]
  },
  {
   "cell_type": "markdown",
   "id": "cd10de3e-b6cd-46dd-bb72-d80a5e72a7ca",
   "metadata": {},
   "source": [
    "### 3. Find the $n^{th}$ term of the following series using a `while` loop:\n",
    "\n",
    "2 + 5 + 8 + 11 + 14 + ..."
   ]
  },
  {
   "cell_type": "code",
   "execution_count": 3,
   "id": "aa347038-529e-435e-b863-88456c5f063e",
   "metadata": {},
   "outputs": [
    {
     "name": "stdout",
     "output_type": "stream",
     "text": [
      "29\n"
     ]
    }
   ],
   "source": [
    "n = 10    # 10 only for example\n",
    "diff = 5 - 2\n",
    "\n",
    "i = 1\n",
    "term_i = 2\n",
    "while i < n:\n",
    "    term_i += diff\n",
    "    i += 1\n",
    "\n",
    "print(term_i)"
   ]
  },
  {
   "cell_type": "markdown",
   "id": "20328fd2-fe5e-4b71-9bfe-7ebaf64040e3",
   "metadata": {},
   "source": [
    "### 4. Use a `while` loop to find the sum of some numbers in a list"
   ]
  },
  {
   "cell_type": "code",
   "execution_count": 4,
   "id": "67eabedb-7bfd-4682-a4b3-43901204d737",
   "metadata": {},
   "outputs": [
    {
     "name": "stdout",
     "output_type": "stream",
     "text": [
      "26\n"
     ]
    }
   ],
   "source": [
    "ls1 = [5, 2, 4, 6, 9]\n",
    "i = 0\n",
    "sum = 0\n",
    "while i < len(ls1):\n",
    "    sum += ls1[i]\n",
    "    i += 1\n",
    "\n",
    "print(sum)"
   ]
  },
  {
   "cell_type": "markdown",
   "id": "078c7675-e958-4ce9-b9ff-87b7a6e39a5a",
   "metadata": {},
   "source": [
    "### 5. Use a `for` loop to print the square of some numbers"
   ]
  },
  {
   "cell_type": "code",
   "execution_count": 5,
   "id": "c9b15e70-a806-4de0-ac83-8746ffe8d5c9",
   "metadata": {},
   "outputs": [
    {
     "name": "stdout",
     "output_type": "stream",
     "text": [
      "4\n",
      "12.25\n",
      "81\n",
      "36\n"
     ]
    }
   ],
   "source": [
    "ls2 = [2, 3.5, 9, 6]\n",
    "for num in ls2:\n",
    "    print(num**2)"
   ]
  },
  {
   "cell_type": "markdown",
   "id": "0ded720b-d2f7-4370-aa8f-3d1c8a001a5e",
   "metadata": {},
   "source": [
    "# The `range()` function\n",
    "\n",
    "The `range()` function is used to generate a sequence of numbers.  \n",
    "It is **commonly used with loops** (especially `for` loops) to repeat actions a specific number of times or to iterate over numeric sequences.\n",
    "\n",
    "#### Syntax:\n",
    "\n",
    "```python\n",
    "range(b)    # includes values starting from 0 to (b-1)\n",
    "range(a, b)    # includes values starting from a to (b-1)\n",
    "range(a, b, step)    # similar to above but increments by step\n",
    "```"
   ]
  },
  {
   "cell_type": "markdown",
   "id": "9fcf2814-bda6-4237-98d6-50ba713f1007",
   "metadata": {},
   "source": [
    "### 6. Use a `for` loop to replace the values of a list with their squares (do not create a new list)"
   ]
  },
  {
   "cell_type": "code",
   "execution_count": 6,
   "id": "b71a3100-d806-4e7f-86c2-37ae7849c438",
   "metadata": {},
   "outputs": [
    {
     "data": {
      "text/plain": [
       "[4, 6.25, 9, 16, 30.25]"
      ]
     },
     "execution_count": 6,
     "metadata": {},
     "output_type": "execute_result"
    }
   ],
   "source": [
    "ls3 = [2, 2.5, 3, 4, 5.5]\n",
    "for i in range(len(ls3)):\n",
    "    ls3[i] = ls3[i]**2\n",
    "\n",
    "ls3"
   ]
  },
  {
   "cell_type": "markdown",
   "id": "5af68f57-9e04-4047-aa0f-d7a05cefb30f",
   "metadata": {},
   "source": [
    "### 7. Given two lists - one representing the number of cylinders in car engines and another representing the milage of the corresponding engine, find the cars that have 4 cylinders and more than 20 milage."
   ]
  },
  {
   "cell_type": "code",
   "execution_count": 7,
   "id": "72d8e3e8-610d-4a01-b9b6-85c3176acae0",
   "metadata": {},
   "outputs": [
    {
     "data": {
      "text/plain": [
       "[2, 2, 2, 4, 4, 4, 6, 6, 6]"
      ]
     },
     "execution_count": 7,
     "metadata": {},
     "output_type": "execute_result"
    }
   ],
   "source": [
    "cyls = [2] * 3 + [4] * 3 + [6] * 3\n",
    "cyls    # list of number of cylinders"
   ]
  },
  {
   "cell_type": "code",
   "execution_count": 8,
   "id": "6bc4245a-9b97-42df-8365-57fe86803110",
   "metadata": {},
   "outputs": [],
   "source": [
    "milage = [17, 18, 19, 18, 21, 22, 16, 20, 21]"
   ]
  },
  {
   "cell_type": "code",
   "execution_count": 9,
   "id": "9bf95f44-2b54-4e8f-9075-ed698366aaa3",
   "metadata": {},
   "outputs": [
    {
     "name": "stdout",
     "output_type": "stream",
     "text": [
      "car 5 has 4 cylinders and milage above 20\n",
      "car 6 has 4 cylinders and milage above 20\n"
     ]
    }
   ],
   "source": [
    "for i in range(len(cyls)):\n",
    "    if (cyls[i]==4) and (milage[i]>20):\n",
    "        print(\"car\", i+1, \"has 4 cylinders and milage above 20\")"
   ]
  }
 ],
 "metadata": {
  "kernelspec": {
   "display_name": "Python 3 (ipykernel)",
   "language": "python",
   "name": "python3"
  },
  "language_info": {
   "codemirror_mode": {
    "name": "ipython",
    "version": 3
   },
   "file_extension": ".py",
   "mimetype": "text/x-python",
   "name": "python",
   "nbconvert_exporter": "python",
   "pygments_lexer": "ipython3",
   "version": "3.13.7"
  }
 },
 "nbformat": 4,
 "nbformat_minor": 5
}
