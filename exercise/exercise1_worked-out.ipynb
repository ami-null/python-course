{
 "cells": [
  {
   "cell_type": "markdown",
   "id": "71a9e256-ad64-41f0-b161-86ef63fafad0",
   "metadata": {
    "id": "71a9e256-ad64-41f0-b161-86ef63fafad0",
    "tags": []
   },
   "source": [
    "**(a)** The data below represent average monthly precipitation for [Boulder, Colorado provided by the U.S. National Oceanic and Atmospheric Administration (NOAA).](https://www.esrl.noaa.gov/psd/boulder/Boulder.mm.precip.html)\n",
    "\n",
    "<table><thead><tr><th>Month</th><th>Precipitation (inches)</th></tr></thead><tbody><tr><td>jan</td><td>0.70</td></tr><tr><td>feb</td><td>0.75</td></tr><tr><td>mar</td><td>1.85</td></tr><tr><td>apr</td><td>2.93</td></tr><tr><td>may</td><td>3.05</td></tr><tr><td>june</td><td>2.02</td></tr><tr><td>july</td><td>1.93</td></tr><tr><td>aug</td><td>1.62</td></tr><tr><td>sept</td><td>1.84</td></tr><tr><td>oct</td><td>1.31</td></tr><tr><td>nov</td><td>1.39</td></tr><tr><td>dec</td><td>0.84</td></tr></tbody></table>\n",
    "\n",
    "Create two **Python** lists as follows:\n",
    "\n",
    "1.  the first list should contain the month abbreviations and should be called `boulder_precip_months`.\n",
    "2.  the second list should be a list of precipitation values and should be called `boulder_precip_inches`.\n",
    "\n",
    "\n",
    "**(b)** Next, convert each floating point value in the `boulder_precip_inches` to millimeters and create a new list variable called `boulder_precip_mm`.\n",
    "\n",
    "To convert inches to millimeters, you need to multiply the inches by `25.4` (1 inch = 25.4 mm).\n",
    "\n",
    "**(c)** Next, create a dictionary in `Python` that should have the months as keys and the percipitation in milimeters as values.\n",
    "\n",
    "\n",
    "**(d)** Write functions to calculate the mean, standard deviation and coefficient of variation of data contained in a list. Next, calculate the mean, standard deviation and coefficient of variation of the average monthly percipitation for Boulder.\n",
    "\n",
    "**(e)** Finally, find out the months for which the `boulder_precip_inches` was greater than the mean level of percipitation in inches."
   ]
  },
  {
   "cell_type": "markdown",
   "id": "0526201d-3a3d-4873-bcfa-e6f9b874b389",
   "metadata": {
    "id": "0526201d-3a3d-4873-bcfa-e6f9b874b389"
   },
   "source": [
    "### (a) Ans:"
   ]
  },
  {
   "cell_type": "code",
   "execution_count": 1,
   "id": "b681bea1-af62-44c7-b7b3-4e1db1a31fba",
   "metadata": {
    "executionInfo": {
     "elapsed": 48,
     "status": "ok",
     "timestamp": 1694364648144,
     "user": {
      "displayName": "Md. Aminul Islam Shazid",
      "userId": "15342169584210318644"
     },
     "user_tz": -360
    },
    "id": "b681bea1-af62-44c7-b7b3-4e1db1a31fba"
   },
   "outputs": [],
   "source": [
    "boulder_precip_months = ['jan', 'feb', 'mar', 'apr', 'may', 'june',\n",
    "                         'july', 'aug', 'sept', 'oct', 'nov', 'dec']"
   ]
  },
  {
   "cell_type": "code",
   "execution_count": 2,
   "id": "1f51fada-aab7-4f87-9e8f-03aaf18dbdc1",
   "metadata": {
    "executionInfo": {
     "elapsed": 45,
     "status": "ok",
     "timestamp": 1694364648145,
     "user": {
      "displayName": "Md. Aminul Islam Shazid",
      "userId": "15342169584210318644"
     },
     "user_tz": -360
    },
    "id": "1f51fada-aab7-4f87-9e8f-03aaf18dbdc1"
   },
   "outputs": [],
   "source": [
    "boulder_precip_inches = [0.70,  0.75, 1.85, 2.93, 3.05, 2.02,\n",
    "                         1.93, 1.62, 1.84, 1.31, 1.39, 0.84]"
   ]
  },
  {
   "cell_type": "markdown",
   "id": "9750cd1b-12b3-4a2a-a2c6-e1d9e10d098e",
   "metadata": {
    "id": "9750cd1b-12b3-4a2a-a2c6-e1d9e10d098e"
   },
   "source": [
    "### (b) Ans:"
   ]
  },
  {
   "cell_type": "code",
   "execution_count": 3,
   "id": "fe720750-202d-44b0-9f32-a2ee21eefd64",
   "metadata": {
    "colab": {
     "base_uri": "https://localhost:8080/"
    },
    "executionInfo": {
     "elapsed": 45,
     "status": "ok",
     "timestamp": 1694364648146,
     "user": {
      "displayName": "Md. Aminul Islam Shazid",
      "userId": "15342169584210318644"
     },
     "user_tz": -360
    },
    "id": "fe720750-202d-44b0-9f32-a2ee21eefd64",
    "outputId": "53af41af-ce66-4877-ef73-14423355b640"
   },
   "outputs": [
    {
     "name": "stdout",
     "output_type": "stream",
     "text": [
      "[17.78, 19.05, 46.99, 74.42, 77.47, 51.31, 49.02, 41.15, 46.74, 33.27, 35.31, 21.34]\n"
     ]
    }
   ],
   "source": [
    "boulder_precip_mm = []\n",
    "\n",
    "for i in boulder_precip_inches:\n",
    "    boulder_precip_mm.append(round(i * 25.4, 2))\n",
    "\n",
    "print(boulder_precip_mm)"
   ]
  },
  {
   "cell_type": "markdown",
   "id": "0SE_X_qwAPVr",
   "metadata": {
    "id": "0SE_X_qwAPVr"
   },
   "source": [
    "#### Using list comprehension"
   ]
  },
  {
   "cell_type": "code",
   "execution_count": 4,
   "id": "6g4QlkIHAU27",
   "metadata": {
    "colab": {
     "base_uri": "https://localhost:8080/"
    },
    "executionInfo": {
     "elapsed": 9,
     "status": "ok",
     "timestamp": 1694364797343,
     "user": {
      "displayName": "Md. Aminul Islam Shazid",
      "userId": "15342169584210318644"
     },
     "user_tz": -360
    },
    "id": "6g4QlkIHAU27",
    "outputId": "5f82588b-ad7f-4c8b-ac84-f277c0580693"
   },
   "outputs": [
    {
     "name": "stdout",
     "output_type": "stream",
     "text": [
      "[17.78, 19.05, 46.99, 74.42, 77.47, 51.31, 49.02, 41.15, 46.74, 33.27, 35.31, 21.34] "
     ]
    }
   ],
   "source": [
    "mm = [round(inch*25.4, 2) for inch in boulder_precip_inches]\n",
    "print(mm, end = \" \")"
   ]
  },
  {
   "cell_type": "markdown",
   "id": "2d8f6fd2-1114-4287-8057-b28ad417b8a7",
   "metadata": {
    "id": "2d8f6fd2-1114-4287-8057-b28ad417b8a7"
   },
   "source": [
    "### (c) Ans:"
   ]
  },
  {
   "cell_type": "code",
   "execution_count": 5,
   "id": "5cbbf203-a5b1-49ca-948d-0491fbbdab3a",
   "metadata": {
    "colab": {
     "base_uri": "https://localhost:8080/"
    },
    "executionInfo": {
     "elapsed": 38,
     "status": "ok",
     "timestamp": 1694364648146,
     "user": {
      "displayName": "Md. Aminul Islam Shazid",
      "userId": "15342169584210318644"
     },
     "user_tz": -360
    },
    "id": "5cbbf203-a5b1-49ca-948d-0491fbbdab3a",
    "outputId": "50c8a7a9-4b12-4f43-a169-1f2f211f4a03"
   },
   "outputs": [
    {
     "name": "stdout",
     "output_type": "stream",
     "text": [
      "{'jan': 17.78, 'feb': 19.05, 'mar': 46.99, 'apr': 74.42, 'may': 77.47, 'june': 51.31, 'july': 49.02, 'aug': 41.15, 'sept': 46.74, 'oct': 33.27, 'nov': 35.31, 'dec': 21.34}\n"
     ]
    }
   ],
   "source": [
    "## Using for loop\n",
    "boulder_precip_dict = {}\n",
    "\n",
    "for i in range(len(boulder_precip_months)):\n",
    "    boulder_precip_dict[boulder_precip_months[i]] = boulder_precip_mm[i]\n",
    "\n",
    "print(boulder_precip_dict)"
   ]
  },
  {
   "cell_type": "code",
   "execution_count": 6,
   "id": "66e38a2e-04b2-41b4-a155-3bd8855de63c",
   "metadata": {
    "colab": {
     "base_uri": "https://localhost:8080/"
    },
    "executionInfo": {
     "elapsed": 36,
     "status": "ok",
     "timestamp": 1694364648147,
     "user": {
      "displayName": "Md. Aminul Islam Shazid",
      "userId": "15342169584210318644"
     },
     "user_tz": -360
    },
    "id": "66e38a2e-04b2-41b4-a155-3bd8855de63c",
    "outputId": "e1c0c4de-830e-42e2-86ce-2af713db75e7"
   },
   "outputs": [
    {
     "name": "stdout",
     "output_type": "stream",
     "text": [
      "{'jan': 17.78, 'feb': 19.05, 'mar': 46.99, 'apr': 74.42, 'may': 77.47, 'june': 51.31, 'july': 49.02, 'aug': 41.15, 'sept': 46.74, 'oct': 33.27, 'nov': 35.31, 'dec': 21.34}\n"
     ]
    }
   ],
   "source": [
    "## Using Dictionary Comprehension\n",
    "boulder_precip_dict2 = {boulder_precip_months[i] : boulder_precip_mm[i] for i in range(len(boulder_precip_months))}\n",
    "\n",
    "print(boulder_precip_dict2)"
   ]
  },
  {
   "cell_type": "code",
   "execution_count": 7,
   "id": "8331c642-d61f-4cba-b0ff-52ea97ef2f96",
   "metadata": {
    "colab": {
     "base_uri": "https://localhost:8080/"
    },
    "executionInfo": {
     "elapsed": 33,
     "status": "ok",
     "timestamp": 1694364648147,
     "user": {
      "displayName": "Md. Aminul Islam Shazid",
      "userId": "15342169584210318644"
     },
     "user_tz": -360
    },
    "id": "8331c642-d61f-4cba-b0ff-52ea97ef2f96",
    "outputId": "1271b0c0-2e84-440c-cc46-c90494ec5ef6"
   },
   "outputs": [
    {
     "name": "stdout",
     "output_type": "stream",
     "text": [
      "{'jan': 17.78, 'feb': 19.05, 'mar': 46.99, 'apr': 74.42, 'may': 77.47, 'june': 51.31, 'july': 49.02, 'aug': 41.15, 'sept': 46.74, 'oct': 33.27, 'nov': 35.31, 'dec': 21.34}\n"
     ]
    }
   ],
   "source": [
    "## Using the zip() function\n",
    "\n",
    "boulder_precip_dict3 = dict(zip(boulder_precip_months, boulder_precip_mm))\n",
    "print(boulder_precip_dict3)"
   ]
  },
  {
   "cell_type": "markdown",
   "id": "b360e459-abdf-48c1-9fa7-875aa4873f33",
   "metadata": {
    "id": "b360e459-abdf-48c1-9fa7-875aa4873f33"
   },
   "source": [
    "### (d) Ans:"
   ]
  },
  {
   "cell_type": "code",
   "execution_count": 8,
   "id": "73dd90f3-d728-4003-974e-a629a758e3be",
   "metadata": {
    "colab": {
     "base_uri": "https://localhost:8080/"
    },
    "executionInfo": {
     "elapsed": 31,
     "status": "ok",
     "timestamp": 1694364648149,
     "user": {
      "displayName": "Md. Aminul Islam Shazid",
      "userId": "15342169584210318644"
     },
     "user_tz": -360
    },
    "id": "73dd90f3-d728-4003-974e-a629a758e3be",
    "outputId": "81c9b914-ebbb-48be-ea51-7b42adc93052"
   },
   "outputs": [
    {
     "data": {
      "text/plain": [
       "1.6858333333333333"
      ]
     },
     "execution_count": 8,
     "metadata": {},
     "output_type": "execute_result"
    }
   ],
   "source": [
    "def mean_func(x):\n",
    "    sum = 0\n",
    "    for value in x:\n",
    "        sum = sum + value\n",
    "    return sum / len(x)\n",
    "\n",
    "mean_func(boulder_precip_inches)"
   ]
  },
  {
   "cell_type": "code",
   "execution_count": 9,
   "id": "d9cef2ea-1951-4ad1-b35a-aca6d1182b43",
   "metadata": {
    "colab": {
     "base_uri": "https://localhost:8080/"
    },
    "executionInfo": {
     "elapsed": 29,
     "status": "ok",
     "timestamp": 1694364648150,
     "user": {
      "displayName": "Md. Aminul Islam Shazid",
      "userId": "15342169584210318644"
     },
     "user_tz": -360
    },
    "id": "d9cef2ea-1951-4ad1-b35a-aca6d1182b43",
    "outputId": "aa9a6a61-8d3b-466a-eb4e-3cb619783b3c"
   },
   "outputs": [
    {
     "data": {
      "text/plain": [
       "0.7318408107110604"
      ]
     },
     "execution_count": 9,
     "metadata": {},
     "output_type": "execute_result"
    }
   ],
   "source": [
    "def sd_func(x):\n",
    "    n = len(x)\n",
    "    mx = mean_func(x)\n",
    "    ss = 0\n",
    "    for value in x:\n",
    "        ss += (value-mx) ** 2\n",
    "\n",
    "    return (ss/n) ** (1/2)\n",
    "\n",
    "sd_func(boulder_precip_inches)"
   ]
  },
  {
   "cell_type": "code",
   "execution_count": 10,
   "id": "df6cef73-5d1e-471c-aeda-264199cb8d34",
   "metadata": {
    "colab": {
     "base_uri": "https://localhost:8080/"
    },
    "executionInfo": {
     "elapsed": 27,
     "status": "ok",
     "timestamp": 1694364648150,
     "user": {
      "displayName": "Md. Aminul Islam Shazid",
      "userId": "15342169584210318644"
     },
     "user_tz": -360
    },
    "id": "df6cef73-5d1e-471c-aeda-264199cb8d34",
    "outputId": "ad89bc71-c0cf-40b2-be9d-632c79e8f368"
   },
   "outputs": [
    {
     "data": {
      "text/plain": [
       "0.43411219617067354"
      ]
     },
     "execution_count": 10,
     "metadata": {},
     "output_type": "execute_result"
    }
   ],
   "source": [
    "def cv_func(x):\n",
    "    return sd_func(x) / mean_func(x)\n",
    "\n",
    "cv_func(boulder_precip_inches)"
   ]
  },
  {
   "cell_type": "markdown",
   "id": "4660e445-5948-4876-807e-58bdca52963f",
   "metadata": {
    "id": "4660e445-5948-4876-807e-58bdca52963f"
   },
   "source": [
    "### (e) Ans:"
   ]
  },
  {
   "cell_type": "code",
   "execution_count": 11,
   "id": "a9423a63-95d1-4a97-9dcb-213137a48bff",
   "metadata": {
    "colab": {
     "base_uri": "https://localhost:8080/"
    },
    "executionInfo": {
     "elapsed": 25,
     "status": "ok",
     "timestamp": 1694364648151,
     "user": {
      "displayName": "Md. Aminul Islam Shazid",
      "userId": "15342169584210318644"
     },
     "user_tz": -360
    },
    "id": "a9423a63-95d1-4a97-9dcb-213137a48bff",
    "outputId": "78403525-f24c-43ad-af6b-fa08580e4a3a"
   },
   "outputs": [
    {
     "data": {
      "text/plain": [
       "['mar', 'apr', 'may', 'june', 'july', 'sept']"
      ]
     },
     "execution_count": 11,
     "metadata": {},
     "output_type": "execute_result"
    }
   ],
   "source": [
    "mean_precip = mean_func(boulder_precip_inches)\n",
    "months = []\n",
    "\n",
    "for i in range(len(boulder_precip_inches)):\n",
    "    if boulder_precip_inches[i] > mean_precip:\n",
    "        months.append(boulder_precip_months[i])\n",
    "\n",
    "months"
   ]
  },
  {
   "cell_type": "code",
   "execution_count": 12,
   "id": "dZW2ZX0mRNWC",
   "metadata": {
    "colab": {
     "base_uri": "https://localhost:8080/"
    },
    "executionInfo": {
     "elapsed": 22,
     "status": "ok",
     "timestamp": 1694364648151,
     "user": {
      "displayName": "Md. Aminul Islam Shazid",
      "userId": "15342169584210318644"
     },
     "user_tz": -360
    },
    "id": "dZW2ZX0mRNWC",
    "outputId": "6e7d0eaa-2156-4970-80f5-d34894a51734"
   },
   "outputs": [
    {
     "data": {
      "text/plain": [
       "['mar', 'apr', 'may', 'june', 'july', 'sept']"
      ]
     },
     "execution_count": 12,
     "metadata": {},
     "output_type": "execute_result"
    }
   ],
   "source": [
    "m2 = [boulder_precip_months[i] for i in range(12) if boulder_precip_inches[i] > mean_precip]\n",
    "m2"
   ]
  },
  {
   "cell_type": "code",
   "execution_count": 13,
   "id": "jae-0fuwR6hu",
   "metadata": {
    "colab": {
     "base_uri": "https://localhost:8080/"
    },
    "executionInfo": {
     "elapsed": 21,
     "status": "ok",
     "timestamp": 1694364648152,
     "user": {
      "displayName": "Md. Aminul Islam Shazid",
      "userId": "15342169584210318644"
     },
     "user_tz": -360
    },
    "id": "jae-0fuwR6hu",
    "outputId": "a544e67f-d3a1-446d-fc60-2111634d7bc6"
   },
   "outputs": [
    {
     "data": {
      "text/plain": [
       "['mar', 'apr', 'may', 'june', 'july', 'sept']"
      ]
     },
     "execution_count": 13,
     "metadata": {},
     "output_type": "execute_result"
    }
   ],
   "source": [
    "m3 = [month for month in boulder_precip_months if boulder_precip_dict[month] > mean_precip * 25.4]\n",
    "m3"
   ]
  },
  {
   "cell_type": "code",
   "execution_count": 14,
   "id": "Elbh422bSX6A",
   "metadata": {
    "colab": {
     "base_uri": "https://localhost:8080/"
    },
    "executionInfo": {
     "elapsed": 18,
     "status": "ok",
     "timestamp": 1694364648152,
     "user": {
      "displayName": "Md. Aminul Islam Shazid",
      "userId": "15342169584210318644"
     },
     "user_tz": -360
    },
    "id": "Elbh422bSX6A",
    "outputId": "dcc23e8f-a7b1-40d1-d5cb-5a3535c9d662"
   },
   "outputs": [
    {
     "data": {
      "text/plain": [
       "['mar', 'apr', 'may', 'june', 'july', 'sept']"
      ]
     },
     "execution_count": 14,
     "metadata": {},
     "output_type": "execute_result"
    }
   ],
   "source": [
    "m4 = [month for (month, rainfall) in boulder_precip_dict.items() if rainfall > mean_precip * 25.4]\n",
    "m4"
   ]
  }
 ],
 "metadata": {
  "colab": {
   "provenance": [
    {
     "file_id": "1zYGRi1kpDapIpyPI4h7ldl15n3ErL20f",
     "timestamp": 1694267830501
    }
   ]
  },
  "kernelspec": {
   "display_name": "Python 3 (ipykernel)",
   "language": "python",
   "name": "python3"
  },
  "language_info": {
   "name": "python"
  }
 },
 "nbformat": 4,
 "nbformat_minor": 5
}
