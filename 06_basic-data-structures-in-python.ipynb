{
 "cells": [
  {
   "cell_type": "markdown",
   "metadata": {
    "id": "_j4gLkh_Yhf6"
   },
   "source": [
    "# Common data structures in Python"
   ]
  },
  {
   "cell_type": "markdown",
   "metadata": {
    "id": "YQNmnpPWW66X"
   },
   "source": [
    "## Lists\n",
    "- Ordered, mutable (can be changed after creation)\n",
    "- Allow duplicate elements\n",
    "- Can store mixed data types\n",
    "- Commonly used for collections of items where order matters and data type may not be same for each elements\n",
    "\n",
    "### Common Methods:  \n",
    "`append()`, `extend()`, `insert()`, `remove()`, `pop()`, `sort()`, `reverse()`, `index()`, `count()`\n",
    "\n",
    "### Common Operators:\n",
    "`+`, `*`, `in`, `not in`, `len()`, slicing (`[:]`)"
   ]
  },
  {
   "cell_type": "code",
   "execution_count": 54,
   "metadata": {
    "executionInfo": {
     "elapsed": 16,
     "status": "ok",
     "timestamp": 1760265194340,
     "user": {
      "displayName": "Md Aminul Islam Shazid",
      "userId": "13977485771689255710"
     },
     "user_tz": -360
    },
    "id": "XblqQYBEW1rv"
   },
   "outputs": [],
   "source": [
    "# Creating lists\n",
    "numbers = [1, 2, 3, 4, 5, 6, 7, 8, 9, 10]\n",
    "mixed = [1, \"apple\", 3.14, True]"
   ]
  },
  {
   "cell_type": "code",
   "execution_count": 55,
   "metadata": {
    "colab": {
     "base_uri": "https://localhost:8080/"
    },
    "executionInfo": {
     "elapsed": 26,
     "status": "ok",
     "timestamp": 1760265194375,
     "user": {
      "displayName": "Md Aminul Islam Shazid",
      "userId": "13977485771689255710"
     },
     "user_tz": -360
    },
    "id": "m6QrUrK1Z1Ty",
    "outputId": "b73fee6f-f124-44b1-cd24-0a8531274461"
   },
   "outputs": [
    {
     "name": "stdout",
     "output_type": "stream",
     "text": [
      "1\n",
      "10\n"
     ]
    }
   ],
   "source": [
    "# Accessing elements\n",
    "print(numbers[0])      # 0 index refers to first element\n",
    "print(numbers[-1])     # -1 index refers to the last element"
   ]
  },
  {
   "cell_type": "code",
   "execution_count": 56,
   "metadata": {
    "colab": {
     "base_uri": "https://localhost:8080/"
    },
    "executionInfo": {
     "elapsed": 32,
     "status": "ok",
     "timestamp": 1760265194404,
     "user": {
      "displayName": "Md Aminul Islam Shazid",
      "userId": "13977485771689255710"
     },
     "user_tz": -360
    },
    "id": "AjrYMMsyg5yL",
    "outputId": "920b5164-8061-4399-d616-7d998ab2a87c"
   },
   "outputs": [
    {
     "data": {
      "text/plain": [
       "10"
      ]
     },
     "execution_count": 56,
     "metadata": {},
     "output_type": "execute_result"
    }
   ],
   "source": [
    "len(numbers)"
   ]
  },
  {
   "cell_type": "markdown",
   "metadata": {
    "id": "a2uTA1p9aPoi"
   },
   "source": [
    "### Slicing lists\n",
    "\n",
    "Python is a zero-indexed language. It means that in data structures, the first element is given the index 0, the second element is given the index 1, and so on.\n",
    "\n",
    "- When slicing a part of a list in python, the following syntax is used: `lst1[a, b]`\n",
    "- However, the element at the $b^{th}$ index is not returned\n",
    "- For example, `lst1[0, 5]` will return the elements upto index 4 (the fifth element) and will not include the element at index 5 (the sixth element)\n"
   ]
  },
  {
   "cell_type": "code",
   "execution_count": 57,
   "metadata": {
    "colab": {
     "base_uri": "https://localhost:8080/"
    },
    "executionInfo": {
     "elapsed": 93,
     "status": "ok",
     "timestamp": 1760265194491,
     "user": {
      "displayName": "Md Aminul Islam Shazid",
      "userId": "13977485771689255710"
     },
     "user_tz": -360
    },
    "id": "BN4r8KzrZ4KV",
    "outputId": "0e3dffa9-997a-458b-e908-82d50b403e04"
   },
   "outputs": [
    {
     "data": {
      "text/plain": [
       "[2, 3]"
      ]
     },
     "execution_count": 57,
     "metadata": {},
     "output_type": "execute_result"
    }
   ],
   "source": [
    "numbers[1:3]    # returns elements at index 1 and 2 (the second and the third elements)"
   ]
  },
  {
   "cell_type": "code",
   "execution_count": 58,
   "metadata": {
    "colab": {
     "base_uri": "https://localhost:8080/"
    },
    "executionInfo": {
     "elapsed": 75,
     "status": "ok",
     "timestamp": 1760265194495,
     "user": {
      "displayName": "Md Aminul Islam Shazid",
      "userId": "13977485771689255710"
     },
     "user_tz": -360
    },
    "id": "csLsK3_ZcD9o",
    "outputId": "eeab889f-6f2e-4d05-de92-6dbe46228184"
   },
   "outputs": [
    {
     "data": {
      "text/plain": [
       "[1, 3, 5, 7]"
      ]
     },
     "execution_count": 58,
     "metadata": {},
     "output_type": "execute_result"
    }
   ],
   "source": [
    "# Can also mention a step size in the slicing operator\n",
    "numbers[0:7:2]"
   ]
  },
  {
   "cell_type": "code",
   "execution_count": 59,
   "metadata": {
    "colab": {
     "base_uri": "https://localhost:8080/"
    },
    "executionInfo": {
     "elapsed": 22,
     "status": "ok",
     "timestamp": 1760265194519,
     "user": {
      "displayName": "Md Aminul Islam Shazid",
      "userId": "13977485771689255710"
     },
     "user_tz": -360
    },
    "id": "A3DdSHJ3dZ1g",
    "outputId": "796c3f8c-a7c3-4a3e-b637-16f44fe16414"
   },
   "outputs": [
    {
     "data": {
      "text/plain": [
       "[10, 8, 6, 4]"
      ]
     },
     "execution_count": 59,
     "metadata": {},
     "output_type": "execute_result"
    }
   ],
   "source": [
    "# Can slice starting from the end\n",
    "numbers[-1:-9:-2]"
   ]
  },
  {
   "cell_type": "markdown",
   "metadata": {
    "id": "uah45nfRgAcG"
   },
   "source": [
    "### Adding-removing items"
   ]
  },
  {
   "cell_type": "code",
   "execution_count": 60,
   "metadata": {
    "colab": {
     "base_uri": "https://localhost:8080/"
    },
    "executionInfo": {
     "elapsed": 17,
     "status": "ok",
     "timestamp": 1760265194540,
     "user": {
      "displayName": "Md Aminul Islam Shazid",
      "userId": "13977485771689255710"
     },
     "user_tz": -360
    },
    "id": "YzkqQhF9dlJ3",
    "outputId": "0df971ba-f1db-4d9e-e15a-90d6e5e86120"
   },
   "outputs": [
    {
     "data": {
      "text/plain": [
       "[1, 2, 3, 4, 5, 6, 7, 8, 9, 10, 11]"
      ]
     },
     "execution_count": 60,
     "metadata": {},
     "output_type": "execute_result"
    }
   ],
   "source": [
    "numbers.append(11)\n",
    "numbers"
   ]
  },
  {
   "cell_type": "code",
   "execution_count": 61,
   "metadata": {
    "colab": {
     "base_uri": "https://localhost:8080/"
    },
    "executionInfo": {
     "elapsed": 18,
     "status": "ok",
     "timestamp": 1760265194563,
     "user": {
      "displayName": "Md Aminul Islam Shazid",
      "userId": "13977485771689255710"
     },
     "user_tz": -360
    },
    "id": "W0CSlDgxf9S9",
    "outputId": "eb00c37e-d940-496d-f1ff-66c937badc79"
   },
   "outputs": [
    {
     "data": {
      "text/plain": [
       "[1, 2, 200, 3, 4, 5, 6, 7, 8, 9, 10, 11]"
      ]
     },
     "execution_count": 61,
     "metadata": {},
     "output_type": "execute_result"
    }
   ],
   "source": [
    "numbers.insert(2, 200)    # inserting 200 at index 2\n",
    "numbers"
   ]
  },
  {
   "cell_type": "code",
   "execution_count": 62,
   "metadata": {
    "colab": {
     "base_uri": "https://localhost:8080/"
    },
    "executionInfo": {
     "elapsed": 66,
     "status": "ok",
     "timestamp": 1760265194633,
     "user": {
      "displayName": "Md Aminul Islam Shazid",
      "userId": "13977485771689255710"
     },
     "user_tz": -360
    },
    "id": "rXgeZlAOgNkM",
    "outputId": "bcdb99ef-1317-450c-9f4f-df2fb538ecdf"
   },
   "outputs": [
    {
     "data": {
      "text/plain": [
       "[1, 2, 200, 3, 4, 5, 6, 7, 8, 9, 10, 11, 200]"
      ]
     },
     "execution_count": 62,
     "metadata": {},
     "output_type": "execute_result"
    }
   ],
   "source": [
    "numbers.append(200)    # adding another 200 at the end of the list\n",
    "numbers"
   ]
  },
  {
   "cell_type": "code",
   "execution_count": 63,
   "metadata": {
    "colab": {
     "base_uri": "https://localhost:8080/"
    },
    "executionInfo": {
     "elapsed": 16,
     "status": "ok",
     "timestamp": 1760265194653,
     "user": {
      "displayName": "Md Aminul Islam Shazid",
      "userId": "13977485771689255710"
     },
     "user_tz": -360
    },
    "id": "M5rltdhLiuPv",
    "outputId": "22e43d46-fd7e-4892-baa2-614598e88e36"
   },
   "outputs": [
    {
     "data": {
      "text/plain": [
       "2"
      ]
     },
     "execution_count": 63,
     "metadata": {},
     "output_type": "execute_result"
    }
   ],
   "source": [
    "numbers.count(200)"
   ]
  },
  {
   "cell_type": "code",
   "execution_count": 64,
   "metadata": {
    "colab": {
     "base_uri": "https://localhost:8080/"
    },
    "executionInfo": {
     "elapsed": 19,
     "status": "ok",
     "timestamp": 1760265194677,
     "user": {
      "displayName": "Md Aminul Islam Shazid",
      "userId": "13977485771689255710"
     },
     "user_tz": -360
    },
    "id": "OV0XRFiQgXTN",
    "outputId": "cc4b37d1-5bb5-4121-b768-8c95ef7f4e2a"
   },
   "outputs": [
    {
     "data": {
      "text/plain": [
       "[1, 2, 3, 4, 5, 6, 7, 8, 9, 10, 11, 200]"
      ]
     },
     "execution_count": 64,
     "metadata": {},
     "output_type": "execute_result"
    }
   ],
   "source": [
    "numbers.remove(200)    # this removes the first occurence of 200 from the list\n",
    "numbers"
   ]
  },
  {
   "cell_type": "markdown",
   "metadata": {
    "id": "B5wiFdHAhgwD"
   },
   "source": [
    "### The `list.pop()` method\n",
    "\n",
    "- When this method is called without an argument, it removes the last item from the list and returns that item to the caller\n",
    "- When called with a index as the argument, it removes the item at the provided index and returns that item"
   ]
  },
  {
   "cell_type": "code",
   "execution_count": 65,
   "metadata": {
    "colab": {
     "base_uri": "https://localhost:8080/"
    },
    "executionInfo": {
     "elapsed": 21,
     "status": "ok",
     "timestamp": 1760265194696,
     "user": {
      "displayName": "Md Aminul Islam Shazid",
      "userId": "13977485771689255710"
     },
     "user_tz": -360
    },
    "id": "z1fyx2D5h8kW",
    "outputId": "8aba3046-29b3-465a-9f4d-0a2ecca7e62a"
   },
   "outputs": [
    {
     "data": {
      "text/plain": [
       "200"
      ]
     },
     "execution_count": 65,
     "metadata": {},
     "output_type": "execute_result"
    }
   ],
   "source": [
    "popped_item = numbers.pop()\n",
    "popped_item"
   ]
  },
  {
   "cell_type": "code",
   "execution_count": 66,
   "metadata": {
    "colab": {
     "base_uri": "https://localhost:8080/"
    },
    "executionInfo": {
     "elapsed": 24,
     "status": "ok",
     "timestamp": 1760265194723,
     "user": {
      "displayName": "Md Aminul Islam Shazid",
      "userId": "13977485771689255710"
     },
     "user_tz": -360
    },
    "id": "BOXvvycrh-q6",
    "outputId": "854d291a-7f40-446f-b502-d1052ba70d71"
   },
   "outputs": [
    {
     "data": {
      "text/plain": [
       "6"
      ]
     },
     "execution_count": 66,
     "metadata": {},
     "output_type": "execute_result"
    }
   ],
   "source": [
    "numbers.pop(5)    # removes and returns the item at index 5"
   ]
  },
  {
   "cell_type": "markdown",
   "metadata": {
    "id": "CT8foXAli3Ge"
   },
   "source": [
    "### Reversing, sorting lists"
   ]
  },
  {
   "cell_type": "code",
   "execution_count": 67,
   "metadata": {
    "colab": {
     "base_uri": "https://localhost:8080/"
    },
    "executionInfo": {
     "elapsed": 60,
     "status": "ok",
     "timestamp": 1760265194787,
     "user": {
      "displayName": "Md Aminul Islam Shazid",
      "userId": "13977485771689255710"
     },
     "user_tz": -360
    },
    "id": "LOqHCMtti8TW",
    "outputId": "48382815-e289-4754-a296-66708cafea97"
   },
   "outputs": [
    {
     "data": {
      "text/plain": [
       "[11, 10, 9, 8, 7, 5, 4, 3, 2, 1]"
      ]
     },
     "execution_count": 67,
     "metadata": {},
     "output_type": "execute_result"
    }
   ],
   "source": [
    "numbers.reverse()\n",
    "numbers"
   ]
  },
  {
   "cell_type": "code",
   "execution_count": 68,
   "metadata": {
    "colab": {
     "base_uri": "https://localhost:8080/"
    },
    "executionInfo": {
     "elapsed": 14,
     "status": "ok",
     "timestamp": 1760265194806,
     "user": {
      "displayName": "Md Aminul Islam Shazid",
      "userId": "13977485771689255710"
     },
     "user_tz": -360
    },
    "id": "TDRc2c6XfIBt",
    "outputId": "f2024b08-a159-4d19-ce60-f8e0fded4f2b"
   },
   "outputs": [
    {
     "data": {
      "text/plain": [
       "[1, 2, 3, 4, 5, 7, 8, 9, 10, 11]"
      ]
     },
     "execution_count": 68,
     "metadata": {},
     "output_type": "execute_result"
    }
   ],
   "source": [
    "list(reversed(numbers))"
   ]
  },
  {
   "cell_type": "code",
   "execution_count": 69,
   "metadata": {
    "colab": {
     "base_uri": "https://localhost:8080/"
    },
    "executionInfo": {
     "elapsed": 16,
     "status": "ok",
     "timestamp": 1760265194826,
     "user": {
      "displayName": "Md Aminul Islam Shazid",
      "userId": "13977485771689255710"
     },
     "user_tz": -360
    },
    "id": "CPsS1V9GfWvB",
    "outputId": "0dee31da-b785-4af0-c62f-875911885a69"
   },
   "outputs": [
    {
     "data": {
      "text/plain": [
       "[11, 10, 9, 8, 7, 5, 4, 3, 2, 1]"
      ]
     },
     "execution_count": 69,
     "metadata": {},
     "output_type": "execute_result"
    }
   ],
   "source": [
    "numbers"
   ]
  },
  {
   "cell_type": "code",
   "execution_count": 70,
   "metadata": {
    "colab": {
     "base_uri": "https://localhost:8080/"
    },
    "executionInfo": {
     "elapsed": 18,
     "status": "ok",
     "timestamp": 1760265194849,
     "user": {
      "displayName": "Md Aminul Islam Shazid",
      "userId": "13977485771689255710"
     },
     "user_tz": -360
    },
    "id": "S_LdIhy0i_G2",
    "outputId": "71d22761-26d7-4e89-a866-2263e64ca543"
   },
   "outputs": [
    {
     "data": {
      "text/plain": [
       "[1, 2, 3, 4, 5, 7, 8, 9, 10, 11]"
      ]
     },
     "execution_count": 70,
     "metadata": {},
     "output_type": "execute_result"
    }
   ],
   "source": [
    "numbers.sort()\n",
    "numbers"
   ]
  },
  {
   "cell_type": "code",
   "execution_count": 71,
   "metadata": {
    "colab": {
     "base_uri": "https://localhost:8080/"
    },
    "executionInfo": {
     "elapsed": 22,
     "status": "ok",
     "timestamp": 1760265194874,
     "user": {
      "displayName": "Md Aminul Islam Shazid",
      "userId": "13977485771689255710"
     },
     "user_tz": -360
    },
    "id": "7jAw9RgUfzbO",
    "outputId": "5ff3f779-abe8-4c08-ef55-6fcdb305da2c"
   },
   "outputs": [
    {
     "data": {
      "text/plain": [
       "[11, 10, 9, 8, 7, 5, 4, 3, 2, 1]"
      ]
     },
     "execution_count": 71,
     "metadata": {},
     "output_type": "execute_result"
    }
   ],
   "source": [
    "numbers.reverse()\n",
    "numbers"
   ]
  },
  {
   "cell_type": "code",
   "execution_count": 72,
   "metadata": {
    "colab": {
     "base_uri": "https://localhost:8080/"
    },
    "executionInfo": {
     "elapsed": 65,
     "status": "ok",
     "timestamp": 1760265194942,
     "user": {
      "displayName": "Md Aminul Islam Shazid",
      "userId": "13977485771689255710"
     },
     "user_tz": -360
    },
    "id": "KvWSmHzgfvAu",
    "outputId": "315a0244-e6f2-454c-e2a1-d215e4bbe540"
   },
   "outputs": [
    {
     "data": {
      "text/plain": [
       "[1, 2, 3, 4, 5, 7, 8, 9, 10, 11]"
      ]
     },
     "execution_count": 72,
     "metadata": {},
     "output_type": "execute_result"
    }
   ],
   "source": [
    "sorted(numbers)"
   ]
  },
  {
   "cell_type": "code",
   "execution_count": 73,
   "metadata": {
    "colab": {
     "base_uri": "https://localhost:8080/"
    },
    "executionInfo": {
     "elapsed": 16,
     "status": "ok",
     "timestamp": 1760265194962,
     "user": {
      "displayName": "Md Aminul Islam Shazid",
      "userId": "13977485771689255710"
     },
     "user_tz": -360
    },
    "id": "Fp-5OVuef9-7",
    "outputId": "8e9d71d8-7e3d-4824-9748-6f3211a1f1e6"
   },
   "outputs": [
    {
     "data": {
      "text/plain": [
       "[11, 10, 9, 8, 7, 5, 4, 3, 2, 1]"
      ]
     },
     "execution_count": 73,
     "metadata": {},
     "output_type": "execute_result"
    }
   ],
   "source": [
    "numbers"
   ]
  },
  {
   "cell_type": "markdown",
   "metadata": {
    "id": "zNk7W02DjY5a"
   },
   "source": [
    "### Concatenating and repeating lists items"
   ]
  },
  {
   "cell_type": "code",
   "execution_count": 74,
   "metadata": {
    "colab": {
     "base_uri": "https://localhost:8080/"
    },
    "executionInfo": {
     "elapsed": 19,
     "status": "ok",
     "timestamp": 1760265194984,
     "user": {
      "displayName": "Md Aminul Islam Shazid",
      "userId": "13977485771689255710"
     },
     "user_tz": -360
    },
    "id": "snmPgwvujd9l",
    "outputId": "ee4512a6-e45c-49f3-a2da-3a78fb1efc80"
   },
   "outputs": [
    {
     "data": {
      "text/plain": [
       "[11, 10, 9, 8, 7, 5, 4, 3, 2, 1, 97, 98, 99]"
      ]
     },
     "execution_count": 74,
     "metadata": {},
     "output_type": "execute_result"
    }
   ],
   "source": [
    "numbers + [97, 98, 99]"
   ]
  },
  {
   "cell_type": "code",
   "execution_count": 75,
   "metadata": {
    "colab": {
     "base_uri": "https://localhost:8080/"
    },
    "executionInfo": {
     "elapsed": 22,
     "status": "ok",
     "timestamp": 1760265195009,
     "user": {
      "displayName": "Md Aminul Islam Shazid",
      "userId": "13977485771689255710"
     },
     "user_tz": -360
    },
    "id": "8VC7o3iIji6N",
    "outputId": "4098a6ad-1f2f-4b3f-985b-1399e8ce32c0"
   },
   "outputs": [
    {
     "data": {
      "text/plain": [
       "[11, 10, 9, 8, 7, 5, 4, 3, 2, 1, 11, 10, 9, 8, 7, 5, 4, 3, 2, 1]"
      ]
     },
     "execution_count": 75,
     "metadata": {},
     "output_type": "execute_result"
    }
   ],
   "source": [
    "numbers * 2"
   ]
  },
  {
   "cell_type": "markdown",
   "metadata": {
    "id": "I54FLo5QjntN"
   },
   "source": [
    "### The `list.copy()` method\n",
    "\n",
    "When assigning a list to another variable name, the new variable only gets a reference to the old list, it does not create a new copy. Modifying the new variable will also modify the old one."
   ]
  },
  {
   "cell_type": "code",
   "execution_count": 76,
   "metadata": {
    "colab": {
     "base_uri": "https://localhost:8080/"
    },
    "executionInfo": {
     "elapsed": 19,
     "status": "ok",
     "timestamp": 1760265195032,
     "user": {
      "displayName": "Md Aminul Islam Shazid",
      "userId": "13977485771689255710"
     },
     "user_tz": -360
    },
    "id": "3WL5HAQGjnOS",
    "outputId": "1a8a0742-407a-4462-d249-32abadb3d782"
   },
   "outputs": [
    {
     "name": "stdout",
     "output_type": "stream",
     "text": [
      "[11, 10, 9, 8, 7, 5, 4, 3, 2, 1, 1000]\n",
      "[11, 10, 9, 8, 7, 5, 4, 3, 2, 1, 1000]\n"
     ]
    }
   ],
   "source": [
    "n2 = numbers\n",
    "n2.append(1000)\n",
    "print(n2)\n",
    "print(numbers)"
   ]
  },
  {
   "cell_type": "code",
   "execution_count": 77,
   "metadata": {
    "colab": {
     "base_uri": "https://localhost:8080/"
    },
    "executionInfo": {
     "elapsed": 21,
     "status": "ok",
     "timestamp": 1760265195110,
     "user": {
      "displayName": "Md Aminul Islam Shazid",
      "userId": "13977485771689255710"
     },
     "user_tz": -360
    },
    "id": "tGWjvKNokjgD",
    "outputId": "c2236baa-48b1-49e8-b3a4-98c94571d889"
   },
   "outputs": [
    {
     "data": {
      "text/plain": [
       "True"
      ]
     },
     "execution_count": 77,
     "metadata": {},
     "output_type": "execute_result"
    }
   ],
   "source": [
    "n2 is numbers    # true because n2 and numbers refer to the same object in memory"
   ]
  },
  {
   "cell_type": "markdown",
   "metadata": {
    "id": "LrQyIU7FkOgV"
   },
   "source": [
    "In order to create a copy a list, use the `list.copy()` method or use the slice operator without any start and end index: `list[:]`"
   ]
  },
  {
   "cell_type": "code",
   "execution_count": 78,
   "metadata": {
    "executionInfo": {
     "elapsed": 5,
     "status": "ok",
     "timestamp": 1760265195119,
     "user": {
      "displayName": "Md Aminul Islam Shazid",
      "userId": "13977485771689255710"
     },
     "user_tz": -360
    },
    "id": "60Voulufkalv"
   },
   "outputs": [],
   "source": [
    "n3 = numbers.copy()"
   ]
  },
  {
   "cell_type": "code",
   "execution_count": 79,
   "metadata": {
    "colab": {
     "base_uri": "https://localhost:8080/"
    },
    "executionInfo": {
     "elapsed": 21,
     "status": "ok",
     "timestamp": 1760265195146,
     "user": {
      "displayName": "Md Aminul Islam Shazid",
      "userId": "13977485771689255710"
     },
     "user_tz": -360
    },
    "id": "UEGagJqFkn3Q",
    "outputId": "fdd849e5-7b6b-4681-cd53-961b58f5449e"
   },
   "outputs": [
    {
     "data": {
      "text/plain": [
       "False"
      ]
     },
     "execution_count": 79,
     "metadata": {},
     "output_type": "execute_result"
    }
   ],
   "source": [
    "n3 is numbers    # false because n3 and numbers do not refer to the same objects in memory"
   ]
  },
  {
   "cell_type": "code",
   "execution_count": 80,
   "metadata": {
    "colab": {
     "base_uri": "https://localhost:8080/"
    },
    "executionInfo": {
     "elapsed": 23,
     "status": "ok",
     "timestamp": 1760265195173,
     "user": {
      "displayName": "Md Aminul Islam Shazid",
      "userId": "13977485771689255710"
     },
     "user_tz": -360
    },
    "id": "-h0icgCNhR3P",
    "outputId": "d19b1047-7847-43ef-b1a8-5d87fb022cdd"
   },
   "outputs": [
    {
     "data": {
      "text/plain": [
       "True"
      ]
     },
     "execution_count": 80,
     "metadata": {},
     "output_type": "execute_result"
    }
   ],
   "source": [
    "n3 == numbers"
   ]
  },
  {
   "cell_type": "code",
   "execution_count": 81,
   "metadata": {
    "colab": {
     "base_uri": "https://localhost:8080/"
    },
    "executionInfo": {
     "elapsed": 62,
     "status": "ok",
     "timestamp": 1760265195239,
     "user": {
      "displayName": "Md Aminul Islam Shazid",
      "userId": "13977485771689255710"
     },
     "user_tz": -360
    },
    "id": "K0VybNDtko9v",
    "outputId": "3ed51ad4-29ae-48d8-96c0-b925ef17ee2e"
   },
   "outputs": [
    {
     "name": "stdout",
     "output_type": "stream",
     "text": [
      "[11, 10, 9, 8, 7, 5, 4, 3, 2, 1, 1000, 1000]\n",
      "[11, 10, 9, 8, 7, 5, 4, 3, 2, 1, 1000]\n"
     ]
    }
   ],
   "source": [
    "n3.append(1000)\n",
    "print(n3)\n",
    "print(numbers)"
   ]
  },
  {
   "cell_type": "markdown",
   "metadata": {
    "id": "zrXIbUfNyhwj"
   },
   "source": [
    "### List comprehension"
   ]
  },
  {
   "cell_type": "code",
   "execution_count": 82,
   "metadata": {
    "colab": {
     "base_uri": "https://localhost:8080/"
    },
    "executionInfo": {
     "elapsed": 39,
     "status": "ok",
     "timestamp": 1760265195282,
     "user": {
      "displayName": "Md Aminul Islam Shazid",
      "userId": "13977485771689255710"
     },
     "user_tz": -360
    },
    "id": "nWbr-fSUda8Y",
    "outputId": "d32231fd-1d5d-4d5d-8286-c91afe7b940e"
   },
   "outputs": [
    {
     "data": {
      "text/plain": [
       "[121, 100, 81, 64, 49, 25, 16, 9, 4, 1, 1000000]"
      ]
     },
     "execution_count": 82,
     "metadata": {},
     "output_type": "execute_result"
    }
   ],
   "source": [
    "lst2=[x**2 for x in numbers]\n",
    "lst2"
   ]
  },
  {
   "cell_type": "markdown",
   "metadata": {
    "id": "ARLqzsWi8YWb"
   },
   "source": [
    "## Strings\n",
    "\n",
    "- A string is an **immutable sequence** of Unicode characters.\n",
    "- Defined using single (`'`), double (`\"`) or triple quotes (`'''` or `\"\"\"`).\n",
    "- Commonly used for text data, i.e., names, messages, file paths, etc.\n",
    "- Being immutable means once created, the string’s content cannot be changed.\n",
    "\n",
    "### Common Operations\n",
    "- Indexing, slicing, concatenation, repetition\n",
    "- Iteration and membership tests\n",
    "- String methods for formatting, searching, and modification\n",
    "\n",
    "### Common Functions:\n",
    "`len()`, `str()`, `format()`, `ord()`, `chr()`\n",
    "\n",
    "### Common Methods:\n",
    "| Category | Methods | Description |\n",
    "|-----------|----------|-------------|\n",
    "| **Case Conversion** | `upper()`, `lower()`, `capitalize()`, `title()`, `swapcase()` | Change letter cases |\n",
    "| **Searching** | `find()`, `rfind()`, `index()`, `count()` | Locate substrings |\n",
    "| **Testing** | `startswith()`, `endswith()`, `isalpha()`, `isdigit()`, `isalnum()`, `isspace()` | Check properties |\n",
    "| **Modification** | `replace()`, `strip()`, `lstrip()`, `rstrip()` | Clean or modify strings |\n",
    "| **Splitting & Joining** | `split()`, `rsplit()`, `splitlines()`, `join()` | Split into lists or join lists into strings |\n",
    "| **Formatting** | `format()`, f-strings, `%` formatting | Insert variables or values into strings |\n",
    "\n",
    "## Operators:\n",
    "`+` (concatenation), `*` (repetition), `in` / `not in` (membership), comparison operators (`==`, `<`, etc.), slicing (`[:]`)"
   ]
  },
  {
   "cell_type": "code",
   "execution_count": 83,
   "metadata": {
    "executionInfo": {
     "elapsed": 21,
     "status": "ok",
     "timestamp": 1760265195307,
     "user": {
      "displayName": "Md Aminul Islam Shazid",
      "userId": "13977485771689255710"
     },
     "user_tz": -360
    },
    "id": "5RkJptWM8vux"
   },
   "outputs": [],
   "source": [
    "# Creating strings\n",
    "s1 = \"Hello\"\n",
    "s2 = 'World'\n",
    "multi = \"\"\"This is\n",
    "a multi-line string.\"\"\""
   ]
  },
  {
   "cell_type": "code",
   "execution_count": 84,
   "metadata": {
    "colab": {
     "base_uri": "https://localhost:8080/"
    },
    "executionInfo": {
     "elapsed": 26,
     "status": "ok",
     "timestamp": 1760265195338,
     "user": {
      "displayName": "Md Aminul Islam Shazid",
      "userId": "13977485771689255710"
     },
     "user_tz": -360
    },
    "id": "zSr18vf_8xXf",
    "outputId": "d6fa0501-c8f1-4ce3-a955-55197d9a57c0"
   },
   "outputs": [
    {
     "name": "stdout",
     "output_type": "stream",
     "text": [
      "Hello World\n",
      "This is\n",
      "a multi-line string.\n"
     ]
    }
   ],
   "source": [
    "print(s1, s2)\n",
    "print(multi)"
   ]
  },
  {
   "cell_type": "code",
   "execution_count": 85,
   "metadata": {
    "colab": {
     "base_uri": "https://localhost:8080/"
    },
    "executionInfo": {
     "elapsed": 19,
     "status": "ok",
     "timestamp": 1760265195403,
     "user": {
      "displayName": "Md Aminul Islam Shazid",
      "userId": "13977485771689255710"
     },
     "user_tz": -360
    },
    "id": "gB9TMnsy8zkd",
    "outputId": "9a1965d3-4a1d-4d5c-e0d1-9fd4f9568795"
   },
   "outputs": [
    {
     "name": "stdout",
     "output_type": "stream",
     "text": [
      "H\n",
      "o\n",
      "ell\n"
     ]
    }
   ],
   "source": [
    "# Indexing and slicing\n",
    "print(s1[0])       # First character\n",
    "print(s1[-1])      # Last character\n",
    "print(s1[1:4])     # Substring from index 1 to 3"
   ]
  },
  {
   "cell_type": "code",
   "execution_count": 86,
   "metadata": {
    "colab": {
     "base_uri": "https://localhost:8080/"
    },
    "executionInfo": {
     "elapsed": 33,
     "status": "ok",
     "timestamp": 1760265195446,
     "user": {
      "displayName": "Md Aminul Islam Shazid",
      "userId": "13977485771689255710"
     },
     "user_tz": -360
    },
    "id": "rnD5oxP881EG",
    "outputId": "b113291b-0f32-492f-e3c4-167392861445"
   },
   "outputs": [
    {
     "name": "stdout",
     "output_type": "stream",
     "text": [
      "Hello World\n",
      "HelloHelloHello\n"
     ]
    }
   ],
   "source": [
    "# Concatenation and repetition\n",
    "print(s1 + \" \" + s2)\n",
    "print(s1 * 3)"
   ]
  },
  {
   "cell_type": "code",
   "execution_count": 87,
   "metadata": {
    "colab": {
     "base_uri": "https://localhost:8080/"
    },
    "executionInfo": {
     "elapsed": 16,
     "status": "ok",
     "timestamp": 1760265195466,
     "user": {
      "displayName": "Md Aminul Islam Shazid",
      "userId": "13977485771689255710"
     },
     "user_tz": -360
    },
    "id": "4G-R3JrE82Qv",
    "outputId": "fc939452-d2a5-4c51-a988-6ab491ecca3c"
   },
   "outputs": [
    {
     "name": "stdout",
     "output_type": "stream",
     "text": [
      "True\n",
      "True\n",
      "True\n",
      "True\n"
     ]
    }
   ],
   "source": [
    "# Membership test\n",
    "print(\"H\" in s1)\n",
    "print(\"x\" not in s1)# Membership test\n",
    "print(\"H\" in s1)\n",
    "print(\"x\" not in s1)"
   ]
  },
  {
   "cell_type": "code",
   "execution_count": 88,
   "metadata": {
    "colab": {
     "base_uri": "https://localhost:8080/"
    },
    "executionInfo": {
     "elapsed": 19,
     "status": "ok",
     "timestamp": 1760265195550,
     "user": {
      "displayName": "Md Aminul Islam Shazid",
      "userId": "13977485771689255710"
     },
     "user_tz": -360
    },
    "id": "b1fW1dOv84_H",
    "outputId": "c0860cc1-dcd4-46eb-b467-f95792c24b5a"
   },
   "outputs": [
    {
     "name": "stdout",
     "output_type": "stream",
     "text": [
      "  PYTHON PROGRAMMING  \n",
      "python programming\n",
      "  java programming  \n",
      "  Python Programming  \n"
     ]
    }
   ],
   "source": [
    "# Common methods\n",
    "text = \"  python programming  \"\n",
    "print(text.upper())        # Convert to uppercase\n",
    "print(text.strip())        # Remove leading/trailing spaces\n",
    "print(text.replace(\"python\", \"java\"))\n",
    "print(text.title())        # Capitalize each word"
   ]
  },
  {
   "cell_type": "code",
   "execution_count": 89,
   "metadata": {
    "colab": {
     "base_uri": "https://localhost:8080/"
    },
    "executionInfo": {
     "elapsed": 31,
     "status": "ok",
     "timestamp": 1760265195585,
     "user": {
      "displayName": "Md Aminul Islam Shazid",
      "userId": "13977485771689255710"
     },
     "user_tz": -360
    },
    "id": "VatRhOrs87af",
    "outputId": "6b417b72-aec7-4bc6-d08b-2af99499c2c7"
   },
   "outputs": [
    {
     "name": "stdout",
     "output_type": "stream",
     "text": [
      "['python', 'programming']\n",
      "python-programming\n"
     ]
    }
   ],
   "source": [
    "# Splitting and joining\n",
    "words = text.strip().split()\n",
    "print(words)\n",
    "joined = \"-\".join(words)\n",
    "print(joined)"
   ]
  },
  {
   "cell_type": "code",
   "execution_count": 90,
   "metadata": {
    "colab": {
     "base_uri": "https://localhost:8080/"
    },
    "executionInfo": {
     "elapsed": 29,
     "status": "ok",
     "timestamp": 1760265195618,
     "user": {
      "displayName": "Md Aminul Islam Shazid",
      "userId": "13977485771689255710"
     },
     "user_tz": -360
    },
    "id": "_zwgaP9m8-Yt",
    "outputId": "578cf2e7-2f53-4022-b463-1ed99f0cf649"
   },
   "outputs": [
    {
     "name": "stdout",
     "output_type": "stream",
     "text": [
      "2\n",
      "2\n"
     ]
    }
   ],
   "source": [
    "# Searching\n",
    "print(text.find(\"python\"))    # Returns index of substring\n",
    "print(text.count(\"p\"))        # Count occurrences"
   ]
  },
  {
   "cell_type": "code",
   "execution_count": 91,
   "metadata": {
    "colab": {
     "base_uri": "https://localhost:8080/"
    },
    "executionInfo": {
     "elapsed": 86,
     "status": "ok",
     "timestamp": 1760265195691,
     "user": {
      "displayName": "Md Aminul Islam Shazid",
      "userId": "13977485771689255710"
     },
     "user_tz": -360
    },
    "id": "q0l3Daf08_re",
    "outputId": "37ce712b-7e85-4589-bf66-9fdecf36ca9d"
   },
   "outputs": [
    {
     "name": "stdout",
     "output_type": "stream",
     "text": [
      "True\n",
      "True\n",
      "True\n"
     ]
    }
   ],
   "source": [
    "# Validation checks\n",
    "print(\"123\".isdigit())\n",
    "print(\"abc\".isalpha())\n",
    "print(\"abc123\".isalnum())"
   ]
  },
  {
   "cell_type": "markdown",
   "metadata": {
    "id": "k_otA2IQ9DoF"
   },
   "source": [
    "### Formatting strings\n",
    "\n",
    "Can use the `.format()` method or `fstring`"
   ]
  },
  {
   "cell_type": "code",
   "execution_count": 92,
   "metadata": {
    "colab": {
     "base_uri": "https://localhost:8080/"
    },
    "executionInfo": {
     "elapsed": 26,
     "status": "ok",
     "timestamp": 1760265195737,
     "user": {
      "displayName": "Md Aminul Islam Shazid",
      "userId": "13977485771689255710"
     },
     "user_tz": -360
    },
    "id": "5FQhXHfB9DGL",
    "outputId": "d63c9cf5-dcdf-40fd-f457-5d0fe35f8615"
   },
   "outputs": [
    {
     "name": "stdout",
     "output_type": "stream",
     "text": [
      "Name: Alice, Age: 25\n",
      "Name: Alice, Age: 25\n"
     ]
    }
   ],
   "source": [
    "# Formatting strings\n",
    "name = \"Alice\"\n",
    "age = 25\n",
    "print(\"Name: {}, Age: {}\".format(name, age))    # Using format()\n",
    "print(f\"Name: {name}, Age: {age}\")    # Using f-string"
   ]
  },
  {
   "cell_type": "markdown",
   "metadata": {
    "id": "yZnSGHzhlp2z"
   },
   "source": [
    "## Tuples\n",
    "- Ordered, **immutable** (cannot be modified after creation)\n",
    "- Allow duplicates\n",
    "- Often used for fixed collections (coordinates, database records, etc.)\n",
    "\n",
    "### Common Methods:\n",
    "`count()`, `index()`\n",
    "\n",
    "### Common Operators:\n",
    "`+`, `*`, `in`, `len()`, unpacking\n"
   ]
  },
  {
   "cell_type": "code",
   "execution_count": 93,
   "metadata": {
    "executionInfo": {
     "elapsed": 6,
     "status": "ok",
     "timestamp": 1760265195748,
     "user": {
      "displayName": "Md Aminul Islam Shazid",
      "userId": "13977485771689255710"
     },
     "user_tz": -360
    },
    "id": "Mlpi5oR2g2MA"
   },
   "outputs": [],
   "source": [
    "# Creating tuples\n",
    "coords = (10, 20)\n",
    "single = (5,)    # single-element tuple needs a comma"
   ]
  },
  {
   "cell_type": "code",
   "execution_count": 94,
   "metadata": {
    "colab": {
     "base_uri": "https://localhost:8080/"
    },
    "executionInfo": {
     "elapsed": 17,
     "status": "ok",
     "timestamp": 1760265195784,
     "user": {
      "displayName": "Md Aminul Islam Shazid",
      "userId": "13977485771689255710"
     },
     "user_tz": -360
    },
    "id": "ylhGDKQTmBBH",
    "outputId": "e57ebf23-b583-41db-fd05-0eba04b54f9c"
   },
   "outputs": [
    {
     "data": {
      "text/plain": [
       "10"
      ]
     },
     "execution_count": 94,
     "metadata": {},
     "output_type": "execute_result"
    }
   ],
   "source": [
    "coords[0]"
   ]
  },
  {
   "cell_type": "code",
   "execution_count": 95,
   "metadata": {
    "colab": {
     "base_uri": "https://localhost:8080/"
    },
    "executionInfo": {
     "elapsed": 21,
     "status": "ok",
     "timestamp": 1760265195861,
     "user": {
      "displayName": "Md Aminul Islam Shazid",
      "userId": "13977485771689255710"
     },
     "user_tz": -360
    },
    "id": "cumTIL5_mE22",
    "outputId": "79644f8d-8d10-4bfd-e232-dee5d18bc0a8"
   },
   "outputs": [
    {
     "name": "stdout",
     "output_type": "stream",
     "text": [
      "10 20\n"
     ]
    }
   ],
   "source": [
    "# Tuple unpacking\n",
    "x, y = coords\n",
    "print(x, y)"
   ]
  },
  {
   "cell_type": "code",
   "execution_count": 96,
   "metadata": {
    "colab": {
     "base_uri": "https://localhost:8080/"
    },
    "executionInfo": {
     "elapsed": 29,
     "status": "ok",
     "timestamp": 1760265195894,
     "user": {
      "displayName": "Md Aminul Islam Shazid",
      "userId": "13977485771689255710"
     },
     "user_tz": -360
    },
    "id": "LfMcWdOTmLE3",
    "outputId": "e35a4072-9f7f-409d-b8c9-51043ade4f5b"
   },
   "outputs": [
    {
     "data": {
      "text/plain": [
       "(10, 20, 30, 40)"
      ]
     },
     "execution_count": 96,
     "metadata": {},
     "output_type": "execute_result"
    }
   ],
   "source": [
    "# Concatenating\n",
    "coords + (30, 40)"
   ]
  },
  {
   "cell_type": "markdown",
   "metadata": {
    "id": "2UIOvymQmfWb"
   },
   "source": [
    "### Sets\n",
    "- Unordered, **mutable**, and store **unique** elements\n",
    "- Useful for membership tests, removing duplicates, and set operations\n",
    "\n",
    "### Common Methods:\n",
    "`add()`, `remove()`, `discard()`, `update()`, `union()`, `intersection()`, `difference()`, `symmetric_difference()`\n",
    "\n",
    "### Common Operators:\n",
    "`|` (union), `&` (intersection), `-` (difference), `^` (symmetric difference)"
   ]
  },
  {
   "cell_type": "code",
   "execution_count": 97,
   "metadata": {
    "colab": {
     "base_uri": "https://localhost:8080/"
    },
    "executionInfo": {
     "elapsed": 25,
     "status": "ok",
     "timestamp": 1760265195923,
     "user": {
      "displayName": "Md Aminul Islam Shazid",
      "userId": "13977485771689255710"
     },
     "user_tz": -360
    },
    "id": "mMivk4-1mT7G",
    "outputId": "8e44f06e-2a5e-4ca3-df66-b59d76180a27"
   },
   "outputs": [
    {
     "name": "stdout",
     "output_type": "stream",
     "text": [
      "{1, 2, 3}\n"
     ]
    }
   ],
   "source": [
    "# Creating sets\n",
    "nums = {1, 2, 3, 3}\n",
    "print(nums)   # duplicates removed automatically"
   ]
  },
  {
   "cell_type": "code",
   "execution_count": 98,
   "metadata": {
    "colab": {
     "base_uri": "https://localhost:8080/"
    },
    "executionInfo": {
     "elapsed": 67,
     "status": "ok",
     "timestamp": 1760265195994,
     "user": {
      "displayName": "Md Aminul Islam Shazid",
      "userId": "13977485771689255710"
     },
     "user_tz": -360
    },
    "id": "ff-eQuJwmrT6",
    "outputId": "e76eea32-417c-444c-fb75-481f9b66d287"
   },
   "outputs": [
    {
     "name": "stdout",
     "output_type": "stream",
     "text": [
      "{1, 3, 4}\n"
     ]
    }
   ],
   "source": [
    "# Adding and removing\n",
    "nums.add(4)\n",
    "nums.discard(2)\n",
    "print(nums)"
   ]
  },
  {
   "cell_type": "code",
   "execution_count": 99,
   "metadata": {
    "colab": {
     "base_uri": "https://localhost:8080/"
    },
    "executionInfo": {
     "elapsed": 23,
     "status": "ok",
     "timestamp": 1760265196025,
     "user": {
      "displayName": "Md Aminul Islam Shazid",
      "userId": "13977485771689255710"
     },
     "user_tz": -360
    },
    "id": "AeYXVsUNmscu",
    "outputId": "3df4e10f-a1bc-4479-d292-6b627009e5fc"
   },
   "outputs": [
    {
     "name": "stdout",
     "output_type": "stream",
     "text": [
      "{1, 2, 3, 4, 5}\n",
      "{3}\n",
      "{1, 2}\n"
     ]
    }
   ],
   "source": [
    "# Set operations\n",
    "a = {1, 2, 3}\n",
    "b = {3, 4, 5}\n",
    "print(a | b)   # union\n",
    "print(a & b)   # intersection\n",
    "print(a - b)   # difference"
   ]
  },
  {
   "cell_type": "markdown",
   "metadata": {
    "id": "ic2foaW1myhC"
   },
   "source": [
    "## Dictionary\n",
    "\n",
    "- Stores data as **key-value pairs**\n",
    "- Keys are unique and immutable (strings, numbers, tuples)\n",
    "- Values can be any data type\n",
    "\n",
    "### Common Methods:\n",
    "`get()`, `keys()`, `values()`, `items()`, `update()`, `pop()`, `clear()`\n",
    "\n",
    "### Common Operators:\n",
    "`in`, `not in`, `len()`"
   ]
  },
  {
   "cell_type": "code",
   "execution_count": 100,
   "metadata": {
    "colab": {
     "base_uri": "https://localhost:8080/"
    },
    "executionInfo": {
     "elapsed": 32,
     "status": "ok",
     "timestamp": 1760265196060,
     "user": {
      "displayName": "Md Aminul Islam Shazid",
      "userId": "13977485771689255710"
     },
     "user_tz": -360
    },
    "id": "NeQhJtQwvVS5",
    "outputId": "0e60b8bd-2df6-49e1-981e-9607d2be37b3"
   },
   "outputs": [
    {
     "data": {
      "text/plain": [
       "{'name': 'Alice', 'age': 20, 'grade': 'A'}"
      ]
     },
     "execution_count": 100,
     "metadata": {},
     "output_type": "execute_result"
    }
   ],
   "source": [
    "# Creating a dictionary\n",
    "student = {\"name\": \"Alice\", \"age\": 20, \"grade\": \"A\"}\n",
    "student"
   ]
  },
  {
   "cell_type": "code",
   "execution_count": 101,
   "metadata": {
    "colab": {
     "base_uri": "https://localhost:8080/"
    },
    "executionInfo": {
     "elapsed": 63,
     "status": "ok",
     "timestamp": 1760265196127,
     "user": {
      "displayName": "Md Aminul Islam Shazid",
      "userId": "13977485771689255710"
     },
     "user_tz": -360
    },
    "id": "zvIkcVzdvW5g",
    "outputId": "597af33c-41ef-4162-b60f-46b4c8c690ab"
   },
   "outputs": [
    {
     "name": "stdout",
     "output_type": "stream",
     "text": [
      "Alice\n",
      "A\n"
     ]
    }
   ],
   "source": [
    "# Accessing values\n",
    "print(student[\"name\"])\n",
    "print(student.get(\"grade\"))"
   ]
  },
  {
   "cell_type": "code",
   "execution_count": 102,
   "metadata": {
    "executionInfo": {
     "elapsed": 18,
     "status": "ok",
     "timestamp": 1760265196149,
     "user": {
      "displayName": "Md Aminul Islam Shazid",
      "userId": "13977485771689255710"
     },
     "user_tz": -360
    },
    "id": "nYwsnkxcvYSo"
   },
   "outputs": [],
   "source": [
    "# Adding and modifying\n",
    "student[\"age\"] = 21\n",
    "student[\"city\"] = \"Dhaka\""
   ]
  },
  {
   "cell_type": "code",
   "execution_count": 103,
   "metadata": {
    "colab": {
     "base_uri": "https://localhost:8080/",
     "height": 36
    },
    "executionInfo": {
     "elapsed": 11,
     "status": "ok",
     "timestamp": 1760265196166,
     "user": {
      "displayName": "Md Aminul Islam Shazid",
      "userId": "13977485771689255710"
     },
     "user_tz": -360
    },
    "id": "fCZm6eiqvZp0",
    "outputId": "4f43053a-58be-43cc-a267-ae42dbd03c41"
   },
   "outputs": [
    {
     "data": {
      "application/vnd.google.colaboratory.intrinsic+json": {
       "type": "string"
      },
      "text/plain": [
       "'A'"
      ]
     },
     "execution_count": 103,
     "metadata": {},
     "output_type": "execute_result"
    }
   ],
   "source": [
    "# Removing\n",
    "student.pop(\"grade\")"
   ]
  },
  {
   "cell_type": "code",
   "execution_count": 104,
   "metadata": {
    "colab": {
     "base_uri": "https://localhost:8080/"
    },
    "executionInfo": {
     "elapsed": 16,
     "status": "ok",
     "timestamp": 1760265196207,
     "user": {
      "displayName": "Md Aminul Islam Shazid",
      "userId": "13977485771689255710"
     },
     "user_tz": -360
    },
    "id": "dYrVM0Dyviz4",
    "outputId": "16e9fc0b-ff96-4ec8-e9ae-1aae6aa7bf3e"
   },
   "outputs": [
    {
     "name": "stdout",
     "output_type": "stream",
     "text": [
      "name : Alice\n",
      "age : 21\n",
      "city : Dhaka\n"
     ]
    }
   ],
   "source": [
    "# Iterating\n",
    "for key in student:\n",
    "    print(key, \":\", student[key])"
   ]
  },
  {
   "cell_type": "markdown",
   "metadata": {
    "id": "vU-OBQh9v4A_"
   },
   "source": [
    "### The `.items()` method\n",
    "\n",
    "Reuturns a list of tuples where each tuple contains a key (at index 0) and its corresponding value (at index 1)."
   ]
  },
  {
   "cell_type": "code",
   "execution_count": 105,
   "metadata": {
    "colab": {
     "base_uri": "https://localhost:8080/"
    },
    "executionInfo": {
     "elapsed": 78,
     "status": "ok",
     "timestamp": 1760265196289,
     "user": {
      "displayName": "Md Aminul Islam Shazid",
      "userId": "13977485771689255710"
     },
     "user_tz": -360
    },
    "id": "-9B4EIP0vp2M",
    "outputId": "64faca00-99dc-4fba-f87f-b29a557c5638"
   },
   "outputs": [
    {
     "name": "stdout",
     "output_type": "stream",
     "text": [
      "name : Alice\n",
      "age : 21\n",
      "city : Dhaka\n"
     ]
    }
   ],
   "source": [
    "for key, value in student.items():\n",
    "    print(key, \":\", value)"
   ]
  },
  {
   "cell_type": "markdown",
   "metadata": {
    "id": "S7BKyCAswLhy"
   },
   "source": [
    "### The `.get()` method\n",
    "\n",
    "This method works like the `[key]` operator, but one can mention a default value to return when `.get()` is run with a key that does not exist in the dictionary"
   ]
  },
  {
   "cell_type": "code",
   "execution_count": 106,
   "metadata": {
    "colab": {
     "base_uri": "https://localhost:8080/"
    },
    "executionInfo": {
     "elapsed": 34,
     "status": "ok",
     "timestamp": 1760265196327,
     "user": {
      "displayName": "Md Aminul Islam Shazid",
      "userId": "13977485771689255710"
     },
     "user_tz": -360
    },
    "id": "qZltOTuUwLC8",
    "outputId": "b14b1f2e-e828-414a-bc51-261742e45406"
   },
   "outputs": [
    {
     "name": "stdout",
     "output_type": "stream",
     "text": [
      "{'apple': 3, 'banana': 1, 'orange': 1}\n"
     ]
    }
   ],
   "source": [
    "# Example: counting word frequency\n",
    "sentence = \"apple banana apple orange apple\"\n",
    "word_count = {}\n",
    "for word in sentence.split():\n",
    "    word_count[word] = word_count.get(word, 0) + 1\n",
    "\n",
    "print(word_count)"
   ]
  },
  {
   "cell_type": "markdown",
   "metadata": {
    "id": "xYNA3JFum3O-"
   },
   "source": [
    "## The `collections` module\n",
    "\n",
    "The `collections` module provides specialized container data types that extend Python’s built-in data structures for more efficient or expressive handling of data.\n",
    "\n",
    "| Data Structure | Description | Key Features / Use Cases |\n",
    "|----------------|-------------|---------------------------|\n",
    "| **`deque`** | Double-ended queue supporting fast appends and pops from both ends | Ideal for implementing queues and stacks efficiently (`append()`, `appendleft()`, `pop()`, `popleft()`) |\n",
    "| **`Counter`** | Subclass of `dict` for counting hashable objects | Automatically counts element frequencies; useful for word counts, histograms, etc. |\n",
    "| **`defaultdict`** | Like a `dict` but provides a default value for missing keys | Simplifies handling of missing keys (e.g., `defaultdict(list)` for grouping items) |\n",
    "| **`namedtuple`** | Factory function for creating tuple subclasses with named fields | Makes tuples more readable by accessing elements by name instead of index |"
   ]
  }
 ],
 "metadata": {
  "colab": {
   "authorship_tag": "ABX9TyPvJ3OPOupm1wAA2vQ0Q8SO",
   "provenance": []
  },
  "kernelspec": {
   "display_name": "Python 3 (ipykernel)",
   "language": "python",
   "name": "python3"
  },
  "language_info": {
   "codemirror_mode": {
    "name": "ipython",
    "version": 3
   },
   "file_extension": ".py",
   "mimetype": "text/x-python",
   "name": "python",
   "nbconvert_exporter": "python",
   "pygments_lexer": "ipython3",
   "version": "3.13.7"
  }
 },
 "nbformat": 4,
 "nbformat_minor": 4
}
