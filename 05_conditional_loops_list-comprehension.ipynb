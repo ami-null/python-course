{
 "cells": [
  {
   "cell_type": "markdown",
   "metadata": {
    "id": "p_IzlTu7YNBZ"
   },
   "source": [
    "# Conditional Execution and Loops"
   ]
  },
  {
   "cell_type": "markdown",
   "metadata": {
    "id": "DDBhMDsiYT00"
   },
   "source": [
    "## Conditional execution (`if`, `elif`, `else` statement)"
   ]
  },
  {
   "cell_type": "code",
   "execution_count": null,
   "metadata": {
    "colab": {
     "base_uri": "https://localhost:8080/"
    },
    "executionInfo": {
     "elapsed": 8,
     "status": "ok",
     "timestamp": 1759978378223,
     "user": {
      "displayName": "Md Aminul Islam Shazid",
      "userId": "13977485771689255710"
     },
     "user_tz": -360
    },
    "id": "bmA8FotSYkb4",
    "outputId": "1b7bef30-8c4f-4e8f-900d-50d71a6f113d"
   },
   "outputs": [
    {
     "name": "stdout",
     "output_type": "stream",
     "text": [
      "above 15\n"
     ]
    }
   ],
   "source": [
    "val1 = 20\n",
    "\n",
    "if val1 > 15:\n",
    "    print(\"above 15\")\n",
    "else:\n",
    "    print(\"not above 15\")"
   ]
  },
  {
   "cell_type": "code",
   "execution_count": null,
   "metadata": {
    "colab": {
     "base_uri": "https://localhost:8080/"
    },
    "executionInfo": {
     "elapsed": 2783,
     "status": "ok",
     "timestamp": 1759978498076,
     "user": {
      "displayName": "Md Aminul Islam Shazid",
      "userId": "13977485771689255710"
     },
     "user_tz": -360
    },
    "id": "ACFz1lY2fYq7",
    "outputId": "f93b57ed-036a-42c2-ae3b-686410a6d6e8"
   },
   "outputs": [
    {
     "name": "stdout",
     "output_type": "stream",
     "text": [
      "10\n"
     ]
    }
   ],
   "source": [
    "n = int(input())"
   ]
  },
  {
   "cell_type": "code",
   "execution_count": null,
   "metadata": {
    "colab": {
     "base_uri": "https://localhost:8080/"
    },
    "executionInfo": {
     "elapsed": 13,
     "status": "ok",
     "timestamp": 1759978499028,
     "user": {
      "displayName": "Md Aminul Islam Shazid",
      "userId": "13977485771689255710"
     },
     "user_tz": -360
    },
    "id": "gF3NZ9hcYr-Y",
    "outputId": "6a6f8416-3f56-4c17-a014-0504313977ac"
   },
   "outputs": [
    {
     "name": "stdout",
     "output_type": "stream",
     "text": [
      "above six\n"
     ]
    }
   ],
   "source": [
    "if n > 6:\n",
    "    print(\"above six\")\n",
    "elif n < 2:\n",
    "    print(\"below two\")\n",
    "elif n==5:\n",
    "    print(\"equal to 5\")\n",
    "else:\n",
    "    print(\"neither\")"
   ]
  },
  {
   "cell_type": "markdown",
   "metadata": {
    "id": "Sw0MT0oRaZCD"
   },
   "source": [
    "## Loops\n",
    "\n",
    "Two kind of loops in python:\n",
    "- `while` loop\n",
    "- `for` loop"
   ]
  },
  {
   "cell_type": "markdown",
   "metadata": {
    "id": "OogHFQ6-ayMC"
   },
   "source": [
    "### `while` loop\n",
    "\n",
    "In `while` loop, the commands inside the body of the loop are executed repeatedly as long as the condition of the loop holds true."
   ]
  },
  {
   "cell_type": "code",
   "execution_count": null,
   "metadata": {
    "colab": {
     "base_uri": "https://localhost:8080/"
    },
    "executionInfo": {
     "elapsed": 12,
     "status": "ok",
     "timestamp": 1759978732578,
     "user": {
      "displayName": "Md Aminul Islam Shazid",
      "userId": "13977485771689255710"
     },
     "user_tz": -360
    },
    "id": "OT-3HnqgaYbG",
    "outputId": "e748ad1f-680f-4e2d-9e17-6189fa321fd3"
   },
   "outputs": [
    {
     "name": "stdout",
     "output_type": "stream",
     "text": [
      "1\n",
      "4\n",
      "9\n",
      "16\n",
      "25\n",
      "36\n",
      "49\n",
      "64\n",
      "81\n",
      "100\n"
     ]
    }
   ],
   "source": [
    "i = 1\n",
    "while i <= 10:\n",
    "    print(i**2)\n",
    "    i += 1"
   ]
  },
  {
   "cell_type": "markdown",
   "metadata": {
    "id": "72pFoyeUba9t"
   },
   "source": [
    "### `continue` statements\n",
    "\n",
    "`continue` can be used to skip parts of the body of the loop based on certain condition and move on to the next iteration of the loop."
   ]
  },
  {
   "cell_type": "code",
   "execution_count": null,
   "metadata": {
    "colab": {
     "base_uri": "https://localhost:8080/"
    },
    "executionInfo": {
     "elapsed": 14,
     "status": "ok",
     "timestamp": 1759979141480,
     "user": {
      "displayName": "Md Aminul Islam Shazid",
      "userId": "13977485771689255710"
     },
     "user_tz": -360
    },
    "id": "PC-P4DCIaHUH",
    "outputId": "667e0540-66ac-40a9-b5c1-934d04169f7d"
   },
   "outputs": [
    {
     "name": "stdout",
     "output_type": "stream",
     "text": [
      "1\n",
      "2\n",
      "3\n",
      "4\n",
      "6\n",
      "7\n",
      "8\n",
      "9\n",
      "11\n",
      "12\n",
      "13\n",
      "14\n",
      "16\n",
      "17\n",
      "18\n",
      "19\n",
      "21\n"
     ]
    }
   ],
   "source": [
    "i = 0\n",
    "while i <= 20:\n",
    "    i += 1\n",
    "    if i % 5 == 0:\n",
    "        continue\n",
    "    print(i)"
   ]
  },
  {
   "cell_type": "markdown",
   "metadata": {
    "id": "ikp0T0XNclk5"
   },
   "source": [
    "### `break` statement\n",
    "\n",
    "It can be used to exit out of a loop based on some condition"
   ]
  },
  {
   "cell_type": "code",
   "execution_count": null,
   "metadata": {
    "colab": {
     "base_uri": "https://localhost:8080/"
    },
    "executionInfo": {
     "elapsed": 42,
     "status": "ok",
     "timestamp": 1759979179081,
     "user": {
      "displayName": "Md Aminul Islam Shazid",
      "userId": "13977485771689255710"
     },
     "user_tz": -360
    },
    "id": "l1Dad1auckNX",
    "outputId": "d8d7eed0-b3aa-4e91-c93c-16e4c1a50946"
   },
   "outputs": [
    {
     "name": "stdout",
     "output_type": "stream",
     "text": [
      "1\n",
      "4\n",
      "9\n",
      "16\n"
     ]
    }
   ],
   "source": [
    "i = 1\n",
    "while i <= 10:\n",
    "    if i==5:\n",
    "        break\n",
    "    print(i*i)\n",
    "    i += 1"
   ]
  },
  {
   "cell_type": "markdown",
   "metadata": {
    "id": "gL8cP_cYc95I"
   },
   "source": [
    "### `for` loop\n",
    "\n",
    "It is used to execute a block of code repeatedly for each item/element in a data structure (list, tuple, set, dictionary etc.)"
   ]
  },
  {
   "cell_type": "code",
   "execution_count": null,
   "metadata": {
    "colab": {
     "base_uri": "https://localhost:8080/"
    },
    "executionInfo": {
     "elapsed": 13,
     "status": "ok",
     "timestamp": 1759980006018,
     "user": {
      "displayName": "Md Aminul Islam Shazid",
      "userId": "13977485771689255710"
     },
     "user_tz": -360
    },
    "id": "G6E77LKccMsd",
    "outputId": "2937fb7c-fe3e-4039-9bb8-6ec3d9ff4a05"
   },
   "outputs": [
    {
     "name": "stdout",
     "output_type": "stream",
     "text": [
      "1\n",
      "4\n",
      "12.25\n",
      "16\n"
     ]
    }
   ],
   "source": [
    "# example using a list:\n",
    "lst1 = [1, 2, 3.5, 4]    # lists are defined using square brackets, can combine data types\n",
    "for i in lst1:\n",
    "    print(i**2)"
   ]
  },
  {
   "cell_type": "code",
   "execution_count": null,
   "metadata": {
    "id": "ehulCcKhefmU"
   },
   "outputs": [],
   "source": [
    "# example using a dictionary (dict)\n",
    "dct1 = {\n",
    "    \"a\" : 1,\n",
    "    \"b\" : 2,\n",
    "    \"c\" : 3.5,\n",
    "    \"d\" : 4\n",
    "}"
   ]
  },
  {
   "cell_type": "code",
   "execution_count": null,
   "metadata": {
    "colab": {
     "base_uri": "https://localhost:8080/"
    },
    "executionInfo": {
     "elapsed": 15,
     "status": "ok",
     "timestamp": 1759980231310,
     "user": {
      "displayName": "Md Aminul Islam Shazid",
      "userId": "13977485771689255710"
     },
     "user_tz": -360
    },
    "id": "JloPTooDfDsy",
    "outputId": "c5e2155e-e6a1-44aa-8ff8-3e97f1bfa562"
   },
   "outputs": [
    {
     "name": "stdout",
     "output_type": "stream",
     "text": [
      "the square of element a is 1\n",
      "the square of element b is 4\n",
      "the square of element c is 12.25\n",
      "the square of element d is 16\n"
     ]
    }
   ],
   "source": [
    "for j in dct1:\n",
    "    print(\"the square of element\", j, \"is\", dct1[j]**2)"
   ]
  },
  {
   "cell_type": "code",
   "execution_count": null,
   "metadata": {
    "colab": {
     "base_uri": "https://localhost:8080/"
    },
    "executionInfo": {
     "elapsed": 16,
     "status": "ok",
     "timestamp": 1759980804760,
     "user": {
      "displayName": "Md Aminul Islam Shazid",
      "userId": "13977485771689255710"
     },
     "user_tz": -360
    },
    "id": "MFvq4VuiB6Gj",
    "outputId": "cfac025e-d638-41fa-dcac-7298ff290c84"
   },
   "outputs": [
    {
     "data": {
      "text/plain": [
       "dict_items([('a', 1), ('b', 2), ('c', 3.5), ('d', 4)])"
      ]
     },
     "execution_count": 24,
     "metadata": {},
     "output_type": "execute_result"
    }
   ],
   "source": [
    "dct1.items()"
   ]
  },
  {
   "cell_type": "code",
   "execution_count": null,
   "metadata": {
    "id": "Yx4RPdjMCcYi"
   },
   "outputs": [],
   "source": [
    "a, b = 1, 2"
   ]
  },
  {
   "cell_type": "code",
   "execution_count": null,
   "metadata": {
    "colab": {
     "base_uri": "https://localhost:8080/"
    },
    "executionInfo": {
     "elapsed": 4,
     "status": "ok",
     "timestamp": 1759981034481,
     "user": {
      "displayName": "Md Aminul Islam Shazid",
      "userId": "13977485771689255710"
     },
     "user_tz": -360
    },
    "id": "VcrHQ6-tBwDy",
    "outputId": "8427f795-352c-4fb3-963b-ed4de110f42f"
   },
   "outputs": [
    {
     "name": "stdout",
     "output_type": "stream",
     "text": [
      "the square of element a is 1\n",
      "the square of element b is 4\n",
      "the square of element c is 12.25\n",
      "the square of element d is 16\n"
     ]
    }
   ],
   "source": [
    "for key, val in dct1.items():\n",
    "    print(\"the square of element\", key, \"is\", val**2)"
   ]
  },
  {
   "cell_type": "markdown",
   "metadata": {
    "id": "4YPdmIwGdT7A"
   },
   "source": [
    "### List comprehension\n",
    "\n",
    "A way of creating new lists based on old lists by usually by applying some form of function or by performing some computation/calculation on each element of a list"
   ]
  },
  {
   "cell_type": "code",
   "execution_count": null,
   "metadata": {
    "colab": {
     "base_uri": "https://localhost:8080/"
    },
    "executionInfo": {
     "elapsed": 9,
     "status": "ok",
     "timestamp": 1759686535490,
     "user": {
      "displayName": "Md Aminul Islam Shazid",
      "userId": "13977485771689255710"
     },
     "user_tz": -360
    },
    "id": "X5r_OB--dVaa",
    "outputId": "15e446bc-925d-42df-aeaf-83296ca5aa4d"
   },
   "outputs": [
    {
     "data": {
      "text/plain": [
       "[1, 4, 12.25, 16]"
      ]
     },
     "execution_count": 9,
     "metadata": {},
     "output_type": "execute_result"
    }
   ],
   "source": [
    "lst2 = [x**2 for x in lst1]\n",
    "lst2"
   ]
  }
 ],
 "metadata": {
  "colab": {
   "authorship_tag": "ABX9TyNi2lc3k4TWRYdU1Zg59UZG",
   "provenance": []
  },
  "kernelspec": {
   "display_name": "Python 3 (ipykernel)",
   "language": "python",
   "name": "python3"
  },
  "language_info": {
   "codemirror_mode": {
    "name": "ipython",
    "version": 3
   },
   "file_extension": ".py",
   "mimetype": "text/x-python",
   "name": "python",
   "nbconvert_exporter": "python",
   "pygments_lexer": "ipython3",
   "version": "3.13.7"
  }
 },
 "nbformat": 4,
 "nbformat_minor": 4
}
