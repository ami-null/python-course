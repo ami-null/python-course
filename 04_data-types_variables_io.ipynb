{
 "cells": [
  {
   "cell_type": "markdown",
   "metadata": {
    "id": "atL8A88Wxymi"
   },
   "source": [
    "# Data types, variables, operators, and input-output (IO)"
   ]
  },
  {
   "cell_type": "markdown",
   "metadata": {
    "id": "1V2Zdm0G2c8U"
   },
   "source": [
    "## Data types\n",
    "\n",
    "Every programming language needs to store data. Each kind of data has a specific type which defines how it is stored in memory and what kind of operations that can be performed on it.\n",
    "\n",
    "The basic data types of Python are:\n",
    "- Integer: whole numbers\n",
    "- Float: decimal numbers\n",
    "- Complex: complex numbers\n",
    "- Boolean: True/False values\n",
    "- String: text\n",
    "- None type: no value"
   ]
  },
  {
   "cell_type": "markdown",
   "metadata": {
    "id": "q-4hmUuB4KWR"
   },
   "source": [
    "### Integer"
   ]
  },
  {
   "cell_type": "code",
   "execution_count": 1,
   "metadata": {
    "colab": {
     "base_uri": "https://localhost:8080/"
    },
    "executionInfo": {
     "elapsed": 243,
     "status": "ok",
     "timestamp": 1759078052528,
     "user": {
      "displayName": "Md Aminul Islam Shazid",
      "userId": "13977485771689255710"
     },
     "user_tz": -360
    },
    "id": "DuCozmkR2eRH",
    "outputId": "566d526d-fc34-4800-8c61-85459d0838ca"
   },
   "outputs": [
    {
     "data": {
      "text/plain": [
       "5"
      ]
     },
     "execution_count": 1,
     "metadata": {},
     "output_type": "execute_result"
    }
   ],
   "source": [
    "5"
   ]
  },
  {
   "cell_type": "code",
   "execution_count": 2,
   "metadata": {
    "colab": {
     "base_uri": "https://localhost:8080/"
    },
    "executionInfo": {
     "elapsed": 28,
     "status": "ok",
     "timestamp": 1759078052570,
     "user": {
      "displayName": "Md Aminul Islam Shazid",
      "userId": "13977485771689255710"
     },
     "user_tz": -360
    },
    "id": "B3LFQrO04MU5",
    "outputId": "b2d1872b-3ac5-48ab-c8dd-1cd92d051515"
   },
   "outputs": [
    {
     "data": {
      "text/plain": [
       "int"
      ]
     },
     "execution_count": 2,
     "metadata": {},
     "output_type": "execute_result"
    }
   ],
   "source": [
    "type(5)    # the type() function returns the data type of an object"
   ]
  },
  {
   "cell_type": "code",
   "execution_count": 3,
   "metadata": {
    "colab": {
     "base_uri": "https://localhost:8080/"
    },
    "executionInfo": {
     "elapsed": 17,
     "status": "ok",
     "timestamp": 1759078052583,
     "user": {
      "displayName": "Md Aminul Islam Shazid",
      "userId": "13977485771689255710"
     },
     "user_tz": -360
    },
    "id": "Ksj7l_729POd",
    "outputId": "27540143-909c-43d3-802f-2245d3eebbf6"
   },
   "outputs": [
    {
     "data": {
      "text/plain": [
       "2.5"
      ]
     },
     "execution_count": 3,
     "metadata": {},
     "output_type": "execute_result"
    }
   ],
   "source": [
    "5/2"
   ]
  },
  {
   "cell_type": "code",
   "execution_count": 4,
   "metadata": {
    "colab": {
     "base_uri": "https://localhost:8080/"
    },
    "executionInfo": {
     "elapsed": 11,
     "status": "ok",
     "timestamp": 1759078052596,
     "user": {
      "displayName": "Md Aminul Islam Shazid",
      "userId": "13977485771689255710"
     },
     "user_tz": -360
    },
    "id": "Nf5LdeW59QoJ",
    "outputId": "5548c850-deeb-4a5b-8c97-ea9f63d075af"
   },
   "outputs": [
    {
     "data": {
      "text/plain": [
       "2"
      ]
     },
     "execution_count": 4,
     "metadata": {},
     "output_type": "execute_result"
    }
   ],
   "source": [
    "5//2"
   ]
  },
  {
   "cell_type": "markdown",
   "metadata": {
    "id": "OReiTTBG9JQG"
   },
   "source": [
    "### Float"
   ]
  },
  {
   "cell_type": "code",
   "execution_count": 5,
   "metadata": {
    "colab": {
     "base_uri": "https://localhost:8080/"
    },
    "executionInfo": {
     "elapsed": 7,
     "status": "ok",
     "timestamp": 1759078052598,
     "user": {
      "displayName": "Md Aminul Islam Shazid",
      "userId": "13977485771689255710"
     },
     "user_tz": -360
    },
    "id": "FlBfIsrI4XNc",
    "outputId": "1059827b-389e-4c4e-bad1-ab376b1a01e1"
   },
   "outputs": [
    {
     "data": {
      "text/plain": [
       "12.1"
      ]
     },
     "execution_count": 5,
     "metadata": {},
     "output_type": "execute_result"
    }
   ],
   "source": [
    "12.1"
   ]
  },
  {
   "cell_type": "code",
   "execution_count": 6,
   "metadata": {
    "colab": {
     "base_uri": "https://localhost:8080/"
    },
    "executionInfo": {
     "elapsed": 7,
     "status": "ok",
     "timestamp": 1759078052615,
     "user": {
      "displayName": "Md Aminul Islam Shazid",
      "userId": "13977485771689255710"
     },
     "user_tz": -360
    },
    "id": "-r-Rj5a-6Uk9",
    "outputId": "3ebdf5ae-270c-4428-db9c-0fd219f84ecf"
   },
   "outputs": [
    {
     "data": {
      "text/plain": [
       "float"
      ]
     },
     "execution_count": 6,
     "metadata": {},
     "output_type": "execute_result"
    }
   ],
   "source": [
    "type(12.1)"
   ]
  },
  {
   "cell_type": "code",
   "execution_count": 7,
   "metadata": {
    "colab": {
     "base_uri": "https://localhost:8080/"
    },
    "executionInfo": {
     "elapsed": 6,
     "status": "ok",
     "timestamp": 1759078052624,
     "user": {
      "displayName": "Md Aminul Islam Shazid",
      "userId": "13977485771689255710"
     },
     "user_tz": -360
    },
    "id": "ngU9jF2p6XQy",
    "outputId": "af9c8711-18ee-44f4-9bf1-c4a65540527b"
   },
   "outputs": [
    {
     "data": {
      "text/plain": [
       "float"
      ]
     },
     "execution_count": 7,
     "metadata": {},
     "output_type": "execute_result"
    }
   ],
   "source": [
    "type(12.0)"
   ]
  },
  {
   "cell_type": "code",
   "execution_count": 8,
   "metadata": {
    "colab": {
     "base_uri": "https://localhost:8080/"
    },
    "executionInfo": {
     "elapsed": 9,
     "status": "ok",
     "timestamp": 1759078052631,
     "user": {
      "displayName": "Md Aminul Islam Shazid",
      "userId": "13977485771689255710"
     },
     "user_tz": -360
    },
    "id": "K42DJJ_Q9MAV",
    "outputId": "933a1ae3-c110-484f-eb34-f0d711e51fde"
   },
   "outputs": [
    {
     "data": {
      "text/plain": [
       "12"
      ]
     },
     "execution_count": 8,
     "metadata": {},
     "output_type": "execute_result"
    }
   ],
   "source": [
    "round(12.1)"
   ]
  },
  {
   "cell_type": "code",
   "execution_count": 9,
   "metadata": {
    "colab": {
     "base_uri": "https://localhost:8080/"
    },
    "executionInfo": {
     "elapsed": 7,
     "status": "ok",
     "timestamp": 1759078052640,
     "user": {
      "displayName": "Md Aminul Islam Shazid",
      "userId": "13977485771689255710"
     },
     "user_tz": -360
    },
    "id": "XmDvEox8CGLR",
    "outputId": "87698202-6650-4214-dcc4-c35bd54392c1"
   },
   "outputs": [
    {
     "data": {
      "text/plain": [
       "int"
      ]
     },
     "execution_count": 9,
     "metadata": {},
     "output_type": "execute_result"
    }
   ],
   "source": [
    "type(round(12.1))"
   ]
  },
  {
   "cell_type": "markdown",
   "metadata": {
    "id": "y9Mcgtqh9UsS"
   },
   "source": [
    "### Complex"
   ]
  },
  {
   "cell_type": "code",
   "execution_count": 10,
   "metadata": {
    "colab": {
     "base_uri": "https://localhost:8080/"
    },
    "executionInfo": {
     "elapsed": 8,
     "status": "ok",
     "timestamp": 1759078052659,
     "user": {
      "displayName": "Md Aminul Islam Shazid",
      "userId": "13977485771689255710"
     },
     "user_tz": -360
    },
    "id": "wymU9HI66Yqd",
    "outputId": "81d00c97-e678-4802-ed6e-ebfa079c5a37"
   },
   "outputs": [
    {
     "data": {
      "text/plain": [
       "(1+2j)"
      ]
     },
     "execution_count": 10,
     "metadata": {},
     "output_type": "execute_result"
    }
   ],
   "source": [
    "1 + 2j"
   ]
  },
  {
   "cell_type": "code",
   "execution_count": 11,
   "metadata": {
    "colab": {
     "base_uri": "https://localhost:8080/"
    },
    "executionInfo": {
     "elapsed": 7,
     "status": "ok",
     "timestamp": 1759078052667,
     "user": {
      "displayName": "Md Aminul Islam Shazid",
      "userId": "13977485771689255710"
     },
     "user_tz": -360
    },
    "id": "kog5ogDT6eeV",
    "outputId": "047a04bd-29aa-406f-fdbd-168fbf68713c"
   },
   "outputs": [
    {
     "data": {
      "text/plain": [
       "complex"
      ]
     },
     "execution_count": 11,
     "metadata": {},
     "output_type": "execute_result"
    }
   ],
   "source": [
    "type(1 + 2j)"
   ]
  },
  {
   "cell_type": "markdown",
   "metadata": {
    "id": "QwRfus82E7sn"
   },
   "source": [
    "### String"
   ]
  },
  {
   "cell_type": "code",
   "execution_count": 12,
   "metadata": {
    "colab": {
     "base_uri": "https://localhost:8080/",
     "height": 35
    },
    "executionInfo": {
     "elapsed": 5,
     "status": "ok",
     "timestamp": 1759078052674,
     "user": {
      "displayName": "Md Aminul Islam Shazid",
      "userId": "13977485771689255710"
     },
     "user_tz": -360
    },
    "id": "-cnnqiLoE9HN",
    "outputId": "93d25335-65ca-44b4-bb71-b5f158e6f40b"
   },
   "outputs": [
    {
     "data": {
      "text/plain": [
       "'Hellow, world!'"
      ]
     },
     "execution_count": 12,
     "metadata": {},
     "output_type": "execute_result"
    }
   ],
   "source": [
    "\"Hellow, world!\""
   ]
  },
  {
   "cell_type": "code",
   "execution_count": 13,
   "metadata": {
    "colab": {
     "base_uri": "https://localhost:8080/"
    },
    "executionInfo": {
     "elapsed": 9,
     "status": "ok",
     "timestamp": 1759078052685,
     "user": {
      "displayName": "Md Aminul Islam Shazid",
      "userId": "13977485771689255710"
     },
     "user_tz": -360
    },
    "id": "L3zYFfjaE_mW",
    "outputId": "8a195a40-e2b0-48d2-cad7-4aa7f5dd7874"
   },
   "outputs": [
    {
     "name": "stdout",
     "output_type": "stream",
     "text": [
      "Hellow, world!\n"
     ]
    }
   ],
   "source": [
    "print(\"Hellow, world!\")"
   ]
  },
  {
   "cell_type": "markdown",
   "metadata": {
    "id": "0QccV9EWPtPy"
   },
   "source": [
    "### Boolean"
   ]
  },
  {
   "cell_type": "code",
   "execution_count": 14,
   "metadata": {
    "colab": {
     "base_uri": "https://localhost:8080/"
    },
    "executionInfo": {
     "elapsed": 39,
     "status": "ok",
     "timestamp": 1759145605686,
     "user": {
      "displayName": "Md Aminul Islam Shazid",
      "userId": "13977485771689255710"
     },
     "user_tz": -360
    },
    "id": "TNC5Jo6zP3GG",
    "outputId": "12cc2578-89a7-41b1-b13f-15a1b6bf4d9f"
   },
   "outputs": [
    {
     "data": {
      "text/plain": [
       "True"
      ]
     },
     "execution_count": 14,
     "metadata": {},
     "output_type": "execute_result"
    }
   ],
   "source": [
    "True"
   ]
  },
  {
   "cell_type": "code",
   "execution_count": 15,
   "metadata": {
    "colab": {
     "base_uri": "https://localhost:8080/"
    },
    "executionInfo": {
     "elapsed": 35,
     "status": "ok",
     "timestamp": 1759145639919,
     "user": {
      "displayName": "Md Aminul Islam Shazid",
      "userId": "13977485771689255710"
     },
     "user_tz": -360
    },
    "id": "_cUy-s8PQAym",
    "outputId": "9c3b47c3-964b-4b96-b04e-f8ec39dcd12e"
   },
   "outputs": [
    {
     "data": {
      "text/plain": [
       "bool"
      ]
     },
     "execution_count": 15,
     "metadata": {},
     "output_type": "execute_result"
    }
   ],
   "source": [
    "type(True)"
   ]
  },
  {
   "cell_type": "code",
   "execution_count": 16,
   "metadata": {
    "colab": {
     "base_uri": "https://localhost:8080/"
    },
    "executionInfo": {
     "elapsed": 33,
     "status": "ok",
     "timestamp": 1759145663765,
     "user": {
      "displayName": "Md Aminul Islam Shazid",
      "userId": "13977485771689255710"
     },
     "user_tz": -360
    },
    "id": "v87Rc5_XQI-O",
    "outputId": "81213889-2abe-4aa1-c646-d7277f123773"
   },
   "outputs": [
    {
     "data": {
      "text/plain": [
       "False"
      ]
     },
     "execution_count": 16,
     "metadata": {},
     "output_type": "execute_result"
    }
   ],
   "source": [
    "False"
   ]
  },
  {
   "cell_type": "markdown",
   "metadata": {
    "id": "w4bsZhGwGphc"
   },
   "source": [
    "## Variables\n",
    "\n",
    "Values/objects are stored as named variables. In Python, `=` is the assignment operator. For example, `val1 = 5` is defining the variable `val1` and storing the integer `5` in it."
   ]
  },
  {
   "cell_type": "code",
   "execution_count": 17,
   "metadata": {
    "colab": {
     "base_uri": "https://localhost:8080/"
    },
    "executionInfo": {
     "elapsed": 28,
     "status": "ok",
     "timestamp": 1759145863360,
     "user": {
      "displayName": "Md Aminul Islam Shazid",
      "userId": "13977485771689255710"
     },
     "user_tz": -360
    },
    "id": "T42L8IDYGdzj",
    "outputId": "b15a3c65-e48a-412f-92ed-fe7a67d8a3f9"
   },
   "outputs": [
    {
     "name": "stdout",
     "output_type": "stream",
     "text": [
      "5\n"
     ]
    }
   ],
   "source": [
    "val1 = 5\n",
    "print(val1)"
   ]
  },
  {
   "cell_type": "markdown",
   "metadata": {
    "id": "SCIR090cHpyY"
   },
   "source": [
    "#### Variable naming rules\n",
    "\n",
    "- A variable name must start with a letter or the underscore character\n",
    "- A variable name cannot start with a number\n",
    "- A variable name can only contain alpha-numeric characters and underscores (A-z, 0-9, and _ )\n",
    "- Variable names are case-sensitive (age, Age and AGE are three different variables)\n",
    "- A variable name cannot be any of the Python keywords"
   ]
  },
  {
   "cell_type": "markdown",
   "metadata": {
    "id": "X6C23UPQqvte"
   },
   "source": [
    "## Typecasting\n",
    "\n",
    "Python is a dynimcally typed language, the data type of a variable (not the data itself) can change during the runtime depending on operations and assignments performed on that variable.\n",
    "\n",
    "However, one can explicitly cast an already-defined variable to some other type."
   ]
  },
  {
   "cell_type": "code",
   "execution_count": 18,
   "metadata": {
    "colab": {
     "base_uri": "https://localhost:8080/"
    },
    "executionInfo": {
     "elapsed": 17,
     "status": "ok",
     "timestamp": 1759078052742,
     "user": {
      "displayName": "Md Aminul Islam Shazid",
      "userId": "13977485771689255710"
     },
     "user_tz": -360
    },
    "id": "2-p9J089q-iY",
    "outputId": "5e47856c-71c7-4bcf-ca13-6fca36310d61"
   },
   "outputs": [
    {
     "data": {
      "text/plain": [
       "int"
      ]
     },
     "execution_count": 18,
     "metadata": {},
     "output_type": "execute_result"
    }
   ],
   "source": [
    "type(val1)"
   ]
  },
  {
   "cell_type": "code",
   "execution_count": 19,
   "metadata": {
    "colab": {
     "base_uri": "https://localhost:8080/"
    },
    "executionInfo": {
     "elapsed": 24,
     "status": "ok",
     "timestamp": 1759078052768,
     "user": {
      "displayName": "Md Aminul Islam Shazid",
      "userId": "13977485771689255710"
     },
     "user_tz": -360
    },
    "id": "5EAe9lFksInr",
    "outputId": "3f588fa3-aa28-4bb5-86d8-c2c8a1becfd3"
   },
   "outputs": [
    {
     "data": {
      "text/plain": [
       "float"
      ]
     },
     "execution_count": 19,
     "metadata": {},
     "output_type": "execute_result"
    }
   ],
   "source": [
    "val1f = float(val1)\n",
    "type(val1f)"
   ]
  },
  {
   "cell_type": "code",
   "execution_count": 20,
   "metadata": {
    "colab": {
     "base_uri": "https://localhost:8080/"
    },
    "executionInfo": {
     "elapsed": 18,
     "status": "ok",
     "timestamp": 1759078052770,
     "user": {
      "displayName": "Md Aminul Islam Shazid",
      "userId": "13977485771689255710"
     },
     "user_tz": -360
    },
    "id": "WnUvaLxisMwu",
    "outputId": "b8cbc0b0-7eff-4cf8-d152-be5b237c01ca"
   },
   "outputs": [
    {
     "data": {
      "text/plain": [
       "int"
      ]
     },
     "execution_count": 20,
     "metadata": {},
     "output_type": "execute_result"
    }
   ],
   "source": [
    "type(int(val1f))"
   ]
  },
  {
   "cell_type": "code",
   "execution_count": 21,
   "metadata": {
    "colab": {
     "base_uri": "https://localhost:8080/",
     "height": 35
    },
    "executionInfo": {
     "elapsed": 60,
     "status": "ok",
     "timestamp": 1759078052831,
     "user": {
      "displayName": "Md Aminul Islam Shazid",
      "userId": "13977485771689255710"
     },
     "user_tz": -360
    },
    "id": "s2WYBa93shX6",
    "outputId": "9286f8fa-3c11-48aa-9e5e-7a284aeee2b4"
   },
   "outputs": [
    {
     "data": {
      "text/plain": [
       "'5'"
      ]
     },
     "execution_count": 21,
     "metadata": {},
     "output_type": "execute_result"
    }
   ],
   "source": [
    "str(val1)"
   ]
  },
  {
   "cell_type": "code",
   "execution_count": 22,
   "metadata": {
    "colab": {
     "base_uri": "https://localhost:8080/",
     "height": 35
    },
    "executionInfo": {
     "elapsed": 9,
     "status": "ok",
     "timestamp": 1759078052843,
     "user": {
      "displayName": "Md Aminul Islam Shazid",
      "userId": "13977485771689255710"
     },
     "user_tz": -360
    },
    "id": "OM1GwQ39sfOR",
    "outputId": "36b087bc-6516-4735-8d49-a69cbdf4cb98"
   },
   "outputs": [
    {
     "data": {
      "text/plain": [
       "'5.0'"
      ]
     },
     "execution_count": 22,
     "metadata": {},
     "output_type": "execute_result"
    }
   ],
   "source": [
    "str(val1f)"
   ]
  },
  {
   "cell_type": "code",
   "execution_count": 23,
   "metadata": {
    "colab": {
     "base_uri": "https://localhost:8080/"
    },
    "executionInfo": {
     "elapsed": 68,
     "status": "ok",
     "timestamp": 1759078052915,
     "user": {
      "displayName": "Md Aminul Islam Shazid",
      "userId": "13977485771689255710"
     },
     "user_tz": -360
    },
    "id": "vF-2KjSBsjqr",
    "outputId": "a2e5c224-c25b-4b4e-bf60-67c66b9f968a"
   },
   "outputs": [
    {
     "data": {
      "text/plain": [
       "True"
      ]
     },
     "execution_count": 23,
     "metadata": {},
     "output_type": "execute_result"
    }
   ],
   "source": [
    "bool(val1)"
   ]
  },
  {
   "cell_type": "code",
   "execution_count": 24,
   "metadata": {
    "colab": {
     "base_uri": "https://localhost:8080/"
    },
    "executionInfo": {
     "elapsed": 47,
     "status": "ok",
     "timestamp": 1759078052917,
     "user": {
      "displayName": "Md Aminul Islam Shazid",
      "userId": "13977485771689255710"
     },
     "user_tz": -360
    },
    "id": "XTdcqWSxsmKd",
    "outputId": "c28fbc8e-d554-449f-bd76-449ef3fe8fd1"
   },
   "outputs": [
    {
     "data": {
      "text/plain": [
       "False"
      ]
     },
     "execution_count": 24,
     "metadata": {},
     "output_type": "execute_result"
    }
   ],
   "source": [
    "bool(0)    # zero is coerced to false"
   ]
  },
  {
   "cell_type": "code",
   "execution_count": 25,
   "metadata": {
    "colab": {
     "base_uri": "https://localhost:8080/"
    },
    "executionInfo": {
     "elapsed": 26,
     "status": "ok",
     "timestamp": 1759078052918,
     "user": {
      "displayName": "Md Aminul Islam Shazid",
      "userId": "13977485771689255710"
     },
     "user_tz": -360
    },
    "id": "byEKRYULsnai",
    "outputId": "4e706d43-b9d2-42f1-90ae-a1e9239e5fdb"
   },
   "outputs": [
    {
     "data": {
      "text/plain": [
       "True"
      ]
     },
     "execution_count": 25,
     "metadata": {},
     "output_type": "execute_result"
    }
   ],
   "source": [
    "bool(-1)    # any non-zero value is considered true"
   ]
  },
  {
   "cell_type": "code",
   "execution_count": 26,
   "metadata": {
    "colab": {
     "base_uri": "https://localhost:8080/"
    },
    "executionInfo": {
     "elapsed": 7,
     "status": "ok",
     "timestamp": 1759078052925,
     "user": {
      "displayName": "Md Aminul Islam Shazid",
      "userId": "13977485771689255710"
     },
     "user_tz": -360
    },
    "id": "Igz1wAPMsz-o",
    "outputId": "96b1db81-aaa1-4d4a-ac1e-d63debf2d7c8"
   },
   "outputs": [
    {
     "data": {
      "text/plain": [
       "False"
      ]
     },
     "execution_count": 26,
     "metadata": {},
     "output_type": "execute_result"
    }
   ],
   "source": [
    "bool(\"\")    # empty string is false-y"
   ]
  },
  {
   "cell_type": "code",
   "execution_count": 27,
   "metadata": {
    "colab": {
     "base_uri": "https://localhost:8080/"
    },
    "executionInfo": {
     "elapsed": 8,
     "status": "ok",
     "timestamp": 1759078052936,
     "user": {
      "displayName": "Md Aminul Islam Shazid",
      "userId": "13977485771689255710"
     },
     "user_tz": -360
    },
    "id": "6Yjq3J39s3f1",
    "outputId": "6a67939d-f5ef-4d00-f678-69d7e5c5c7a5"
   },
   "outputs": [
    {
     "data": {
      "text/plain": [
       "True"
      ]
     },
     "execution_count": 27,
     "metadata": {},
     "output_type": "execute_result"
    }
   ],
   "source": [
    "bool(\"whatever\")    # any nonempty string is truth-y"
   ]
  },
  {
   "cell_type": "code",
   "execution_count": 28,
   "metadata": {
    "id": "y6eVYwUw2_nR"
   },
   "outputs": [],
   "source": [
    "str2 = \"4\""
   ]
  },
  {
   "cell_type": "code",
   "execution_count": 29,
   "metadata": {
    "colab": {
     "base_uri": "https://localhost:8080/",
     "height": 141
    },
    "executionInfo": {
     "elapsed": 82,
     "status": "error",
     "timestamp": 1759122332277,
     "user": {
      "displayName": "Md Aminul Islam Shazid",
      "userId": "13977485771689255710"
     },
     "user_tz": -360
    },
    "id": "qIU9QeYH3Frb",
    "outputId": "61abc2eb-de67-4943-b3dc-6d2118dbc2ca"
   },
   "outputs": [],
   "source": [
    "# str2 + 5    # this will throw an error: TypeError: can only concatenate str (not \"int\") to str"
   ]
  },
  {
   "cell_type": "code",
   "execution_count": 30,
   "metadata": {
    "colab": {
     "base_uri": "https://localhost:8080/"
    },
    "executionInfo": {
     "elapsed": 45,
     "status": "ok",
     "timestamp": 1759122361298,
     "user": {
      "displayName": "Md Aminul Islam Shazid",
      "userId": "13977485771689255710"
     },
     "user_tz": -360
    },
    "id": "W-DaH9O53OOL",
    "outputId": "63643242-f652-45f5-eecc-43b91d5afa76"
   },
   "outputs": [
    {
     "data": {
      "text/plain": [
       "9"
      ]
     },
     "execution_count": 30,
     "metadata": {},
     "output_type": "execute_result"
    }
   ],
   "source": [
    "int(str2) + 5"
   ]
  },
  {
   "cell_type": "markdown",
   "metadata": {
    "id": "is_T4D-KUHtC"
   },
   "source": [
    "## Operators\n",
    "\n",
    "Operators operate on one or more objects or values to produce results. There are several kinds of operators in Python:\n",
    "- Arithmetic operators `+`, `-`, `*`, `/`, `//`, `**`, `%`\n",
    "- Assignment operators, `=`, `+=`, `-=`, `*=` etc\n",
    "- Comparison operators, `<`, `<=`, `>=`, `==`, `!=`\n",
    "- Identity operators, `is`, `is not`\n",
    "- Membership operators, `in`, `not in`\n",
    "- Logical operators, `and`, `or`, `not`\n",
    "- Bitwise operators"
   ]
  },
  {
   "cell_type": "markdown",
   "metadata": {
    "id": "eyd8cQiJacke"
   },
   "source": [
    "## Arithmetic Operaors"
   ]
  },
  {
   "cell_type": "code",
   "execution_count": 31,
   "metadata": {
    "id": "EtTCIKhAX6fz"
   },
   "outputs": [],
   "source": [
    "val1 = 5\n",
    "val2 = 3"
   ]
  },
  {
   "cell_type": "code",
   "execution_count": 32,
   "metadata": {
    "colab": {
     "base_uri": "https://localhost:8080/"
    },
    "executionInfo": {
     "elapsed": 38,
     "status": "ok",
     "timestamp": 1759079340995,
     "user": {
      "displayName": "Md Aminul Islam Shazid",
      "userId": "13977485771689255710"
     },
     "user_tz": -360
    },
    "id": "eN8A39eiaar7",
    "outputId": "70968a6a-0dbb-4fc4-8eed-9c8c43000cf8"
   },
   "outputs": [
    {
     "name": "stdout",
     "output_type": "stream",
     "text": [
      "8\n",
      "2\n",
      "15\n",
      "1.6666666666666667\n",
      "1\n",
      "2\n",
      "125\n"
     ]
    }
   ],
   "source": [
    "print(val1 + val2)\n",
    "print(val1 - val2)\n",
    "print(val1 * val2)\n",
    "print(val1 / val2)\n",
    "print(val1 // val2)    # integer division\n",
    "print(val1 % val2)    # modulo operator, returns the remainder after dividing val1 by val2\n",
    "print(val1 ** val2)    # exponentiation"
   ]
  },
  {
   "cell_type": "markdown",
   "metadata": {
    "id": "5kPpzcafbdvT"
   },
   "source": [
    "### Assignment Operator\n",
    "\n",
    "- `x += 1` is equivalent to `x = x + 1`\n",
    "- `x -= 1` is equivalent to `x = x -1`"
   ]
  },
  {
   "cell_type": "code",
   "execution_count": 33,
   "metadata": {
    "id": "PDWAz5oVar55"
   },
   "outputs": [],
   "source": [
    "val3 = 5"
   ]
  },
  {
   "cell_type": "code",
   "execution_count": 34,
   "metadata": {
    "colab": {
     "base_uri": "https://localhost:8080/"
    },
    "executionInfo": {
     "elapsed": 29,
     "status": "ok",
     "timestamp": 1759078052990,
     "user": {
      "displayName": "Md Aminul Islam Shazid",
      "userId": "13977485771689255710"
     },
     "user_tz": -360
    },
    "id": "_DFt4f5wb78P",
    "outputId": "143877a6-01a2-45e0-fbaf-2dc0f92d4790"
   },
   "outputs": [
    {
     "data": {
      "text/plain": [
       "12"
      ]
     },
     "execution_count": 34,
     "metadata": {},
     "output_type": "execute_result"
    }
   ],
   "source": [
    "val3 += 7\n",
    "val3"
   ]
  },
  {
   "cell_type": "markdown",
   "metadata": {
    "id": "lNPfbbhvyPcX"
   },
   "source": [
    "### Comparison Operator"
   ]
  },
  {
   "cell_type": "code",
   "execution_count": 35,
   "metadata": {
    "colab": {
     "base_uri": "https://localhost:8080/"
    },
    "executionInfo": {
     "elapsed": 26,
     "status": "ok",
     "timestamp": 1759078052993,
     "user": {
      "displayName": "Md Aminul Islam Shazid",
      "userId": "13977485771689255710"
     },
     "user_tz": -360
    },
    "id": "ABeuSwqZyoTf",
    "outputId": "53e3c9c3-89eb-4169-8059-f27c4145bc4c"
   },
   "outputs": [
    {
     "name": "stdout",
     "output_type": "stream",
     "text": [
      "5 3\n"
     ]
    }
   ],
   "source": [
    "print(val1, val2)"
   ]
  },
  {
   "cell_type": "code",
   "execution_count": 36,
   "metadata": {
    "colab": {
     "base_uri": "https://localhost:8080/"
    },
    "executionInfo": {
     "elapsed": 22,
     "status": "ok",
     "timestamp": 1759078052994,
     "user": {
      "displayName": "Md Aminul Islam Shazid",
      "userId": "13977485771689255710"
     },
     "user_tz": -360
    },
    "id": "bwUlEDJeyedZ",
    "outputId": "57c5fe84-83e1-4ae3-a6d0-81052c77f52c"
   },
   "outputs": [
    {
     "data": {
      "text/plain": [
       "False"
      ]
     },
     "execution_count": 36,
     "metadata": {},
     "output_type": "execute_result"
    }
   ],
   "source": [
    "val1 == val2"
   ]
  },
  {
   "cell_type": "code",
   "execution_count": 37,
   "metadata": {
    "colab": {
     "base_uri": "https://localhost:8080/"
    },
    "executionInfo": {
     "elapsed": 15,
     "status": "ok",
     "timestamp": 1759078052994,
     "user": {
      "displayName": "Md Aminul Islam Shazid",
      "userId": "13977485771689255710"
     },
     "user_tz": -360
    },
    "id": "apDXNpncyhJJ",
    "outputId": "d4dab901-6f13-400a-af22-66f5c4ba49ff"
   },
   "outputs": [
    {
     "data": {
      "text/plain": [
       "True"
      ]
     },
     "execution_count": 37,
     "metadata": {},
     "output_type": "execute_result"
    }
   ],
   "source": [
    "val1 != val2"
   ]
  },
  {
   "cell_type": "code",
   "execution_count": 38,
   "metadata": {
    "colab": {
     "base_uri": "https://localhost:8080/"
    },
    "executionInfo": {
     "elapsed": 11,
     "status": "ok",
     "timestamp": 1759078052995,
     "user": {
      "displayName": "Md Aminul Islam Shazid",
      "userId": "13977485771689255710"
     },
     "user_tz": -360
    },
    "id": "ZFOrPyWQcE9V",
    "outputId": "5a8d9dd6-c514-43ad-edff-2b738eb7f310"
   },
   "outputs": [
    {
     "data": {
      "text/plain": [
       "False"
      ]
     },
     "execution_count": 38,
     "metadata": {},
     "output_type": "execute_result"
    }
   ],
   "source": [
    "val1 < val2"
   ]
  },
  {
   "cell_type": "code",
   "execution_count": 39,
   "metadata": {
    "colab": {
     "base_uri": "https://localhost:8080/"
    },
    "executionInfo": {
     "elapsed": 9,
     "status": "ok",
     "timestamp": 1759078053001,
     "user": {
      "displayName": "Md Aminul Islam Shazid",
      "userId": "13977485771689255710"
     },
     "user_tz": -360
    },
    "id": "ENdjgdFByV6M",
    "outputId": "dc90ed0a-1520-4a4e-883e-da95218fbcdf"
   },
   "outputs": [
    {
     "data": {
      "text/plain": [
       "True"
      ]
     },
     "execution_count": 39,
     "metadata": {},
     "output_type": "execute_result"
    }
   ],
   "source": [
    "val1 > val2"
   ]
  },
  {
   "cell_type": "code",
   "execution_count": 40,
   "metadata": {
    "colab": {
     "base_uri": "https://localhost:8080/"
    },
    "executionInfo": {
     "elapsed": 8,
     "status": "ok",
     "timestamp": 1759078053011,
     "user": {
      "displayName": "Md Aminul Islam Shazid",
      "userId": "13977485771689255710"
     },
     "user_tz": -360
    },
    "id": "Z4EseVOOyt9N",
    "outputId": "e18af900-f62f-45f9-c801-523b00c7adb9"
   },
   "outputs": [
    {
     "data": {
      "text/plain": [
       "True"
      ]
     },
     "execution_count": 40,
     "metadata": {},
     "output_type": "execute_result"
    }
   ],
   "source": [
    "val1 >= 5"
   ]
  },
  {
   "cell_type": "code",
   "execution_count": 41,
   "metadata": {
    "colab": {
     "base_uri": "https://localhost:8080/"
    },
    "executionInfo": {
     "elapsed": 8,
     "status": "ok",
     "timestamp": 1759078053031,
     "user": {
      "displayName": "Md Aminul Islam Shazid",
      "userId": "13977485771689255710"
     },
     "user_tz": -360
    },
    "id": "q2mXnPmIyw1P",
    "outputId": "160ec0a8-0901-49c5-c76e-9940121118d1"
   },
   "outputs": [
    {
     "data": {
      "text/plain": [
       "True"
      ]
     },
     "execution_count": 41,
     "metadata": {},
     "output_type": "execute_result"
    }
   ],
   "source": [
    "val1 <= 5"
   ]
  },
  {
   "cell_type": "markdown",
   "metadata": {
    "id": "rpHao5-xRbMS"
   },
   "source": [
    "### Membership Operators\n",
    "\n",
    "- `in`\n",
    "- `not in`\n",
    "\n",
    "Checks whether an object is present inside a Python data structure (such as `list`, `dict`, `tuple`, `set` etc)"
   ]
  },
  {
   "cell_type": "code",
   "execution_count": 42,
   "metadata": {
    "colab": {
     "base_uri": "https://localhost:8080/"
    },
    "executionInfo": {
     "elapsed": 36,
     "status": "ok",
     "timestamp": 1759147627596,
     "user": {
      "displayName": "Md Aminul Islam Shazid",
      "userId": "13977485771689255710"
     },
     "user_tz": -360
    },
    "id": "27-LM7OzXlgv",
    "outputId": "c393ac60-679a-4f14-c7d6-f205fced3b01"
   },
   "outputs": [
    {
     "data": {
      "text/plain": [
       "list"
      ]
     },
     "execution_count": 42,
     "metadata": {},
     "output_type": "execute_result"
    }
   ],
   "source": [
    "list1 = [1, 2, 3, \"abc\", 5.0]\n",
    "list1\n",
    "type(list1)"
   ]
  },
  {
   "cell_type": "code",
   "execution_count": 43,
   "metadata": {
    "colab": {
     "base_uri": "https://localhost:8080/"
    },
    "executionInfo": {
     "elapsed": 8,
     "status": "ok",
     "timestamp": 1759079194173,
     "user": {
      "displayName": "Md Aminul Islam Shazid",
      "userId": "13977485771689255710"
     },
     "user_tz": -360
    },
    "id": "50KuaPgVSP1E",
    "outputId": "870072b1-6399-45c2-c721-bfa22e95bc6e"
   },
   "outputs": [
    {
     "data": {
      "text/plain": [
       "True"
      ]
     },
     "execution_count": 43,
     "metadata": {},
     "output_type": "execute_result"
    }
   ],
   "source": [
    "1 in list1"
   ]
  },
  {
   "cell_type": "code",
   "execution_count": 44,
   "metadata": {
    "colab": {
     "base_uri": "https://localhost:8080/"
    },
    "executionInfo": {
     "elapsed": 6,
     "status": "ok",
     "timestamp": 1759079223088,
     "user": {
      "displayName": "Md Aminul Islam Shazid",
      "userId": "13977485771689255710"
     },
     "user_tz": -360
    },
    "id": "EybPxsCdSmWs",
    "outputId": "2a431024-f5e5-4923-9f1e-71056d445c67"
   },
   "outputs": [
    {
     "data": {
      "text/plain": [
       "True"
      ]
     },
     "execution_count": 44,
     "metadata": {},
     "output_type": "execute_result"
    }
   ],
   "source": [
    "dict1 = {\"a\" : 5, \"b\" : 6}\n",
    "\"a\" in dict1"
   ]
  },
  {
   "cell_type": "code",
   "execution_count": 45,
   "metadata": {
    "colab": {
     "base_uri": "https://localhost:8080/"
    },
    "executionInfo": {
     "elapsed": 6,
     "status": "ok",
     "timestamp": 1759079229065,
     "user": {
      "displayName": "Md Aminul Islam Shazid",
      "userId": "13977485771689255710"
     },
     "user_tz": -360
    },
    "id": "lU6UqrdzStcc",
    "outputId": "624ad070-0c13-4012-d5b5-68746ebd17d4"
   },
   "outputs": [
    {
     "data": {
      "text/plain": [
       "False"
      ]
     },
     "execution_count": 45,
     "metadata": {},
     "output_type": "execute_result"
    }
   ],
   "source": [
    "5 in dict1"
   ]
  },
  {
   "cell_type": "code",
   "execution_count": 46,
   "metadata": {
    "colab": {
     "base_uri": "https://localhost:8080/"
    },
    "executionInfo": {
     "elapsed": 23,
     "status": "ok",
     "timestamp": 1759079253963,
     "user": {
      "displayName": "Md Aminul Islam Shazid",
      "userId": "13977485771689255710"
     },
     "user_tz": -360
    },
    "id": "AkIHADNbSwGN",
    "outputId": "ca03f1e8-b24c-4fc2-e305-a394b43d7600"
   },
   "outputs": [
    {
     "data": {
      "text/plain": [
       "True"
      ]
     },
     "execution_count": 46,
     "metadata": {},
     "output_type": "execute_result"
    }
   ],
   "source": [
    "5 in dict1.values()"
   ]
  },
  {
   "cell_type": "markdown",
   "metadata": {
    "id": "JDoi98Z-ORo3"
   },
   "source": [
    "### Logical operators\n",
    "\n",
    "These operators perform Boolean algbera on Boolean values (`True`, `False`) that usually result from comparison, identity, or membership operators in a Python program."
   ]
  },
  {
   "cell_type": "code",
   "execution_count": 47,
   "metadata": {
    "colab": {
     "base_uri": "https://localhost:8080/"
    },
    "executionInfo": {
     "elapsed": 20,
     "status": "ok",
     "timestamp": 1759079397279,
     "user": {
      "displayName": "Md Aminul Islam Shazid",
      "userId": "13977485771689255710"
     },
     "user_tz": -360
    },
    "id": "KEucvL5Ayxz4",
    "outputId": "5e4fa0d7-ea86-4f6e-991d-6104167c5f29"
   },
   "outputs": [
    {
     "data": {
      "text/plain": [
       "True"
      ]
     },
     "execution_count": 47,
     "metadata": {},
     "output_type": "execute_result"
    }
   ],
   "source": [
    "val1 > val2"
   ]
  },
  {
   "cell_type": "code",
   "execution_count": 48,
   "metadata": {
    "colab": {
     "base_uri": "https://localhost:8080/"
    },
    "executionInfo": {
     "elapsed": 25,
     "status": "ok",
     "timestamp": 1759079424201,
     "user": {
      "displayName": "Md Aminul Islam Shazid",
      "userId": "13977485771689255710"
     },
     "user_tz": -360
    },
    "id": "09cqMWwETXYs",
    "outputId": "3127e727-a54e-4e14-9306-afafba69d6f0"
   },
   "outputs": [
    {
     "data": {
      "text/plain": [
       "True"
      ]
     },
     "execution_count": 48,
     "metadata": {},
     "output_type": "execute_result"
    }
   ],
   "source": [
    "val2 < val3"
   ]
  },
  {
   "cell_type": "code",
   "execution_count": 49,
   "metadata": {
    "colab": {
     "base_uri": "https://localhost:8080/"
    },
    "executionInfo": {
     "elapsed": 29,
     "status": "ok",
     "timestamp": 1759079419593,
     "user": {
      "displayName": "Md Aminul Islam Shazid",
      "userId": "13977485771689255710"
     },
     "user_tz": -360
    },
    "id": "58BEeQrpTY4D",
    "outputId": "3524c3b4-f7a7-4c0a-c335-d114a8ef3604"
   },
   "outputs": [
    {
     "data": {
      "text/plain": [
       "True"
      ]
     },
     "execution_count": 49,
     "metadata": {},
     "output_type": "execute_result"
    }
   ],
   "source": [
    "(val1 > val2) and (val2 < val3)"
   ]
  },
  {
   "cell_type": "code",
   "execution_count": 50,
   "metadata": {
    "id": "1bsKR7c4bMpf"
   },
   "outputs": [
    {
     "data": {
      "text/plain": [
       "True"
      ]
     },
     "execution_count": 50,
     "metadata": {},
     "output_type": "execute_result"
    }
   ],
   "source": [
    "(val1 > val2) or (val2 < val3)"
   ]
  },
  {
   "cell_type": "code",
   "execution_count": 51,
   "metadata": {
    "colab": {
     "base_uri": "https://localhost:8080/"
    },
    "executionInfo": {
     "elapsed": 7,
     "status": "ok",
     "timestamp": 1759079427862,
     "user": {
      "displayName": "Md Aminul Islam Shazid",
      "userId": "13977485771689255710"
     },
     "user_tz": -360
    },
    "id": "UIkQHwSfTc17",
    "outputId": "b49e0de1-a0d5-405b-d7e6-848106f8354d"
   },
   "outputs": [
    {
     "data": {
      "text/plain": [
       "False"
      ]
     },
     "execution_count": 51,
     "metadata": {},
     "output_type": "execute_result"
    }
   ],
   "source": [
    "not(val2 < val3)"
   ]
  },
  {
   "cell_type": "markdown",
   "metadata": {
    "id": "7bzEUJNpT_nF"
   },
   "source": [
    "## Output (`print()` function)\n",
    "\n",
    "The print function prints literal strings and formatted variables."
   ]
  },
  {
   "cell_type": "code",
   "execution_count": 52,
   "metadata": {
    "colab": {
     "base_uri": "https://localhost:8080/"
    },
    "executionInfo": {
     "elapsed": 27,
     "status": "ok",
     "timestamp": 1759079612633,
     "user": {
      "displayName": "Md Aminul Islam Shazid",
      "userId": "13977485771689255710"
     },
     "user_tz": -360
    },
    "id": "LZ8zZfdLTe3D",
    "outputId": "ef43dfac-58e3-4fd1-a274-bb1846233a4e"
   },
   "outputs": [
    {
     "name": "stdout",
     "output_type": "stream",
     "text": [
      "Hellow world!\n"
     ]
    }
   ],
   "source": [
    "print(\"Hellow world!\")"
   ]
  },
  {
   "cell_type": "code",
   "execution_count": 53,
   "metadata": {
    "colab": {
     "base_uri": "https://localhost:8080/"
    },
    "executionInfo": {
     "elapsed": 6,
     "status": "ok",
     "timestamp": 1759080231167,
     "user": {
      "displayName": "Md Aminul Islam Shazid",
      "userId": "13977485771689255710"
     },
     "user_tz": -360
    },
    "id": "7XBBzOySUL91",
    "outputId": "914699c7-85fb-46ef-b516-eb4242c251eb"
   },
   "outputs": [
    {
     "name": "stdout",
     "output_type": "stream",
     "text": [
      "The first value is 5 and the second value is 3\n"
     ]
    }
   ],
   "source": [
    "print(\"The first value is\", val1, \"and the second value is\", val2)"
   ]
  },
  {
   "cell_type": "markdown",
   "metadata": {
    "id": "SfNsvjcIWnnk"
   },
   "source": [
    "## Input (input() function)"
   ]
  },
  {
   "cell_type": "code",
   "execution_count": 54,
   "metadata": {
    "colab": {
     "base_uri": "https://localhost:8080/"
    },
    "executionInfo": {
     "elapsed": 5864,
     "status": "ok",
     "timestamp": 1759635725945,
     "user": {
      "displayName": "Md Aminul Islam Shazid",
      "userId": "13977485771689255710"
     },
     "user_tz": -360
    },
    "id": "uWrRhB4BWdPz",
    "outputId": "a0f89a78-39a3-46a4-a574-cee2e418cbea"
   },
   "outputs": [
    {
     "name": "stdin",
     "output_type": "stream",
     "text": [
      "Please enter your name:  Edzio\n"
     ]
    }
   ],
   "source": [
    "name = input(\"Please enter your name: \")"
   ]
  },
  {
   "cell_type": "code",
   "execution_count": 55,
   "metadata": {
    "colab": {
     "base_uri": "https://localhost:8080/"
    },
    "executionInfo": {
     "elapsed": 559,
     "status": "ok",
     "timestamp": 1759635729690,
     "user": {
      "displayName": "Md Aminul Islam Shazid",
      "userId": "13977485771689255710"
     },
     "user_tz": -360
    },
    "id": "FVVod_xbWuuC",
    "outputId": "929a1a80-2279-4aa9-a860-b0311077bfbd"
   },
   "outputs": [
    {
     "name": "stdout",
     "output_type": "stream",
     "text": [
      "Hello, Edzio\n"
     ]
    }
   ],
   "source": [
    "print(\"Hello,\", name)"
   ]
  },
  {
   "cell_type": "code",
   "execution_count": 56,
   "metadata": {
    "colab": {
     "base_uri": "https://localhost:8080/"
    },
    "executionInfo": {
     "elapsed": 27,
     "status": "ok",
     "timestamp": 1759080335179,
     "user": {
      "displayName": "Md Aminul Islam Shazid",
      "userId": "13977485771689255710"
     },
     "user_tz": -360
    },
    "id": "G9usLiO5W29L",
    "outputId": "c0149c2c-4662-42d8-81ae-004b89174774"
   },
   "outputs": [
    {
     "data": {
      "text/plain": [
       "str"
      ]
     },
     "execution_count": 56,
     "metadata": {},
     "output_type": "execute_result"
    }
   ],
   "source": [
    "type(name)"
   ]
  }
 ],
 "metadata": {
  "colab": {
   "authorship_tag": "ABX9TyN6EC+8d173dWuOTw1SqTf2",
   "provenance": []
  },
  "kernelspec": {
   "display_name": "Python 3 (ipykernel)",
   "language": "python",
   "name": "python3"
  },
  "language_info": {
   "codemirror_mode": {
    "name": "ipython",
    "version": 3
   },
   "file_extension": ".py",
   "mimetype": "text/x-python",
   "name": "python",
   "nbconvert_exporter": "python",
   "pygments_lexer": "ipython3",
   "version": "3.13.7"
  }
 },
 "nbformat": 4,
 "nbformat_minor": 4
}
